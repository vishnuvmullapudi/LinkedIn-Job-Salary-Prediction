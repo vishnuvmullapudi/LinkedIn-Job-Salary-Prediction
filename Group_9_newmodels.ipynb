{
  "cells": [
    {
      "cell_type": "markdown",
      "metadata": {
        "id": "view-in-github",
        "colab_type": "text"
      },
      "source": [
        "<a href=\"https://colab.research.google.com/github/vishnuvmullapudi/LinkedIn-Job-Salary-Prediction/blob/main/Group_9_newmodels.ipynb\" target=\"_parent\"><img src=\"https://colab.research.google.com/assets/colab-badge.svg\" alt=\"Open In Colab\"/></a>"
      ]
    },
    {
      "cell_type": "markdown",
      "source": [
        "# Different Modeling Techniques and their Hyperparameter Tuning\n"
      ],
      "metadata": {
        "id": "ZQM4lynTpKgB"
      }
    },
    {
      "cell_type": "markdown",
      "source": [
        "## Importing the necessary libraries"
      ],
      "metadata": {
        "id": "E1A0Kk_Z5Mh6"
      }
    },
    {
      "cell_type": "code",
      "execution_count": null,
      "metadata": {
        "id": "MQ_ppJBCZH4c"
      },
      "outputs": [],
      "source": [
        "import numpy as np\n",
        "import pandas as pd\n",
        "import seaborn as sns\n",
        "import matplotlib.pyplot as plt\n",
        "from sklearn.model_selection import train_test_split\n",
        "from sklearn.preprocessing import StandardScaler"
      ]
    },
    {
      "cell_type": "markdown",
      "source": [
        "## Importing the preprocessed data"
      ],
      "metadata": {
        "id": "squ0inVk5SZS"
      }
    },
    {
      "cell_type": "code",
      "execution_count": null,
      "metadata": {
        "id": "ejZU4a1lZbLc",
        "outputId": "7c8a82b3-c6c4-4a94-e8f2-a22dc3fe3a63",
        "colab": {
          "base_uri": "https://localhost:8080/",
          "height": 335
        }
      },
      "outputs": [
        {
          "output_type": "error",
          "ename": "FileNotFoundError",
          "evalue": "ignored",
          "traceback": [
            "\u001b[0;31m---------------------------------------------------------------------------\u001b[0m",
            "\u001b[0;31mFileNotFoundError\u001b[0m                         Traceback (most recent call last)",
            "\u001b[0;32m<ipython-input-2-46cfa753fc66>\u001b[0m in \u001b[0;36m<cell line: 1>\u001b[0;34m()\u001b[0m\n\u001b[0;32m----> 1\u001b[0;31m \u001b[0mdata\u001b[0m \u001b[0;34m=\u001b[0m \u001b[0mpd\u001b[0m\u001b[0;34m.\u001b[0m\u001b[0mread_csv\u001b[0m\u001b[0;34m(\u001b[0m\u001b[0;34m\"/content/cleaned_data.csv\"\u001b[0m\u001b[0;34m)\u001b[0m\u001b[0;34m\u001b[0m\u001b[0;34m\u001b[0m\u001b[0m\n\u001b[0m",
            "\u001b[0;32m/usr/local/lib/python3.10/dist-packages/pandas/util/_decorators.py\u001b[0m in \u001b[0;36mwrapper\u001b[0;34m(*args, **kwargs)\u001b[0m\n\u001b[1;32m    209\u001b[0m                 \u001b[0;32melse\u001b[0m\u001b[0;34m:\u001b[0m\u001b[0;34m\u001b[0m\u001b[0;34m\u001b[0m\u001b[0m\n\u001b[1;32m    210\u001b[0m                     \u001b[0mkwargs\u001b[0m\u001b[0;34m[\u001b[0m\u001b[0mnew_arg_name\u001b[0m\u001b[0;34m]\u001b[0m \u001b[0;34m=\u001b[0m \u001b[0mnew_arg_value\u001b[0m\u001b[0;34m\u001b[0m\u001b[0;34m\u001b[0m\u001b[0m\n\u001b[0;32m--> 211\u001b[0;31m             \u001b[0;32mreturn\u001b[0m \u001b[0mfunc\u001b[0m\u001b[0;34m(\u001b[0m\u001b[0;34m*\u001b[0m\u001b[0margs\u001b[0m\u001b[0;34m,\u001b[0m \u001b[0;34m**\u001b[0m\u001b[0mkwargs\u001b[0m\u001b[0;34m)\u001b[0m\u001b[0;34m\u001b[0m\u001b[0;34m\u001b[0m\u001b[0m\n\u001b[0m\u001b[1;32m    212\u001b[0m \u001b[0;34m\u001b[0m\u001b[0m\n\u001b[1;32m    213\u001b[0m         \u001b[0;32mreturn\u001b[0m \u001b[0mcast\u001b[0m\u001b[0;34m(\u001b[0m\u001b[0mF\u001b[0m\u001b[0;34m,\u001b[0m \u001b[0mwrapper\u001b[0m\u001b[0;34m)\u001b[0m\u001b[0;34m\u001b[0m\u001b[0;34m\u001b[0m\u001b[0m\n",
            "\u001b[0;32m/usr/local/lib/python3.10/dist-packages/pandas/util/_decorators.py\u001b[0m in \u001b[0;36mwrapper\u001b[0;34m(*args, **kwargs)\u001b[0m\n\u001b[1;32m    329\u001b[0m                     \u001b[0mstacklevel\u001b[0m\u001b[0;34m=\u001b[0m\u001b[0mfind_stack_level\u001b[0m\u001b[0;34m(\u001b[0m\u001b[0;34m)\u001b[0m\u001b[0;34m,\u001b[0m\u001b[0;34m\u001b[0m\u001b[0;34m\u001b[0m\u001b[0m\n\u001b[1;32m    330\u001b[0m                 )\n\u001b[0;32m--> 331\u001b[0;31m             \u001b[0;32mreturn\u001b[0m \u001b[0mfunc\u001b[0m\u001b[0;34m(\u001b[0m\u001b[0;34m*\u001b[0m\u001b[0margs\u001b[0m\u001b[0;34m,\u001b[0m \u001b[0;34m**\u001b[0m\u001b[0mkwargs\u001b[0m\u001b[0;34m)\u001b[0m\u001b[0;34m\u001b[0m\u001b[0;34m\u001b[0m\u001b[0m\n\u001b[0m\u001b[1;32m    332\u001b[0m \u001b[0;34m\u001b[0m\u001b[0m\n\u001b[1;32m    333\u001b[0m         \u001b[0;31m# error: \"Callable[[VarArg(Any), KwArg(Any)], Any]\" has no\u001b[0m\u001b[0;34m\u001b[0m\u001b[0;34m\u001b[0m\u001b[0m\n",
            "\u001b[0;32m/usr/local/lib/python3.10/dist-packages/pandas/io/parsers/readers.py\u001b[0m in \u001b[0;36mread_csv\u001b[0;34m(filepath_or_buffer, sep, delimiter, header, names, index_col, usecols, squeeze, prefix, mangle_dupe_cols, dtype, engine, converters, true_values, false_values, skipinitialspace, skiprows, skipfooter, nrows, na_values, keep_default_na, na_filter, verbose, skip_blank_lines, parse_dates, infer_datetime_format, keep_date_col, date_parser, dayfirst, cache_dates, iterator, chunksize, compression, thousands, decimal, lineterminator, quotechar, quoting, doublequote, escapechar, comment, encoding, encoding_errors, dialect, error_bad_lines, warn_bad_lines, on_bad_lines, delim_whitespace, low_memory, memory_map, float_precision, storage_options)\u001b[0m\n\u001b[1;32m    948\u001b[0m     \u001b[0mkwds\u001b[0m\u001b[0;34m.\u001b[0m\u001b[0mupdate\u001b[0m\u001b[0;34m(\u001b[0m\u001b[0mkwds_defaults\u001b[0m\u001b[0;34m)\u001b[0m\u001b[0;34m\u001b[0m\u001b[0;34m\u001b[0m\u001b[0m\n\u001b[1;32m    949\u001b[0m \u001b[0;34m\u001b[0m\u001b[0m\n\u001b[0;32m--> 950\u001b[0;31m     \u001b[0;32mreturn\u001b[0m \u001b[0m_read\u001b[0m\u001b[0;34m(\u001b[0m\u001b[0mfilepath_or_buffer\u001b[0m\u001b[0;34m,\u001b[0m \u001b[0mkwds\u001b[0m\u001b[0;34m)\u001b[0m\u001b[0;34m\u001b[0m\u001b[0;34m\u001b[0m\u001b[0m\n\u001b[0m\u001b[1;32m    951\u001b[0m \u001b[0;34m\u001b[0m\u001b[0m\n\u001b[1;32m    952\u001b[0m \u001b[0;34m\u001b[0m\u001b[0m\n",
            "\u001b[0;32m/usr/local/lib/python3.10/dist-packages/pandas/io/parsers/readers.py\u001b[0m in \u001b[0;36m_read\u001b[0;34m(filepath_or_buffer, kwds)\u001b[0m\n\u001b[1;32m    603\u001b[0m \u001b[0;34m\u001b[0m\u001b[0m\n\u001b[1;32m    604\u001b[0m     \u001b[0;31m# Create the parser.\u001b[0m\u001b[0;34m\u001b[0m\u001b[0;34m\u001b[0m\u001b[0m\n\u001b[0;32m--> 605\u001b[0;31m     \u001b[0mparser\u001b[0m \u001b[0;34m=\u001b[0m \u001b[0mTextFileReader\u001b[0m\u001b[0;34m(\u001b[0m\u001b[0mfilepath_or_buffer\u001b[0m\u001b[0;34m,\u001b[0m \u001b[0;34m**\u001b[0m\u001b[0mkwds\u001b[0m\u001b[0;34m)\u001b[0m\u001b[0;34m\u001b[0m\u001b[0;34m\u001b[0m\u001b[0m\n\u001b[0m\u001b[1;32m    606\u001b[0m \u001b[0;34m\u001b[0m\u001b[0m\n\u001b[1;32m    607\u001b[0m     \u001b[0;32mif\u001b[0m \u001b[0mchunksize\u001b[0m \u001b[0;32mor\u001b[0m \u001b[0miterator\u001b[0m\u001b[0;34m:\u001b[0m\u001b[0;34m\u001b[0m\u001b[0;34m\u001b[0m\u001b[0m\n",
            "\u001b[0;32m/usr/local/lib/python3.10/dist-packages/pandas/io/parsers/readers.py\u001b[0m in \u001b[0;36m__init__\u001b[0;34m(self, f, engine, **kwds)\u001b[0m\n\u001b[1;32m   1440\u001b[0m \u001b[0;34m\u001b[0m\u001b[0m\n\u001b[1;32m   1441\u001b[0m         \u001b[0mself\u001b[0m\u001b[0;34m.\u001b[0m\u001b[0mhandles\u001b[0m\u001b[0;34m:\u001b[0m \u001b[0mIOHandles\u001b[0m \u001b[0;34m|\u001b[0m \u001b[0;32mNone\u001b[0m \u001b[0;34m=\u001b[0m \u001b[0;32mNone\u001b[0m\u001b[0;34m\u001b[0m\u001b[0;34m\u001b[0m\u001b[0m\n\u001b[0;32m-> 1442\u001b[0;31m         \u001b[0mself\u001b[0m\u001b[0;34m.\u001b[0m\u001b[0m_engine\u001b[0m \u001b[0;34m=\u001b[0m \u001b[0mself\u001b[0m\u001b[0;34m.\u001b[0m\u001b[0m_make_engine\u001b[0m\u001b[0;34m(\u001b[0m\u001b[0mf\u001b[0m\u001b[0;34m,\u001b[0m \u001b[0mself\u001b[0m\u001b[0;34m.\u001b[0m\u001b[0mengine\u001b[0m\u001b[0;34m)\u001b[0m\u001b[0;34m\u001b[0m\u001b[0;34m\u001b[0m\u001b[0m\n\u001b[0m\u001b[1;32m   1443\u001b[0m \u001b[0;34m\u001b[0m\u001b[0m\n\u001b[1;32m   1444\u001b[0m     \u001b[0;32mdef\u001b[0m \u001b[0mclose\u001b[0m\u001b[0;34m(\u001b[0m\u001b[0mself\u001b[0m\u001b[0;34m)\u001b[0m \u001b[0;34m->\u001b[0m \u001b[0;32mNone\u001b[0m\u001b[0;34m:\u001b[0m\u001b[0;34m\u001b[0m\u001b[0;34m\u001b[0m\u001b[0m\n",
            "\u001b[0;32m/usr/local/lib/python3.10/dist-packages/pandas/io/parsers/readers.py\u001b[0m in \u001b[0;36m_make_engine\u001b[0;34m(self, f, engine)\u001b[0m\n\u001b[1;32m   1733\u001b[0m                 \u001b[0;32mif\u001b[0m \u001b[0;34m\"b\"\u001b[0m \u001b[0;32mnot\u001b[0m \u001b[0;32min\u001b[0m \u001b[0mmode\u001b[0m\u001b[0;34m:\u001b[0m\u001b[0;34m\u001b[0m\u001b[0;34m\u001b[0m\u001b[0m\n\u001b[1;32m   1734\u001b[0m                     \u001b[0mmode\u001b[0m \u001b[0;34m+=\u001b[0m \u001b[0;34m\"b\"\u001b[0m\u001b[0;34m\u001b[0m\u001b[0;34m\u001b[0m\u001b[0m\n\u001b[0;32m-> 1735\u001b[0;31m             self.handles = get_handle(\n\u001b[0m\u001b[1;32m   1736\u001b[0m                 \u001b[0mf\u001b[0m\u001b[0;34m,\u001b[0m\u001b[0;34m\u001b[0m\u001b[0;34m\u001b[0m\u001b[0m\n\u001b[1;32m   1737\u001b[0m                 \u001b[0mmode\u001b[0m\u001b[0;34m,\u001b[0m\u001b[0;34m\u001b[0m\u001b[0;34m\u001b[0m\u001b[0m\n",
            "\u001b[0;32m/usr/local/lib/python3.10/dist-packages/pandas/io/common.py\u001b[0m in \u001b[0;36mget_handle\u001b[0;34m(path_or_buf, mode, encoding, compression, memory_map, is_text, errors, storage_options)\u001b[0m\n\u001b[1;32m    854\u001b[0m         \u001b[0;32mif\u001b[0m \u001b[0mioargs\u001b[0m\u001b[0;34m.\u001b[0m\u001b[0mencoding\u001b[0m \u001b[0;32mand\u001b[0m \u001b[0;34m\"b\"\u001b[0m \u001b[0;32mnot\u001b[0m \u001b[0;32min\u001b[0m \u001b[0mioargs\u001b[0m\u001b[0;34m.\u001b[0m\u001b[0mmode\u001b[0m\u001b[0;34m:\u001b[0m\u001b[0;34m\u001b[0m\u001b[0;34m\u001b[0m\u001b[0m\n\u001b[1;32m    855\u001b[0m             \u001b[0;31m# Encoding\u001b[0m\u001b[0;34m\u001b[0m\u001b[0;34m\u001b[0m\u001b[0m\n\u001b[0;32m--> 856\u001b[0;31m             handle = open(\n\u001b[0m\u001b[1;32m    857\u001b[0m                 \u001b[0mhandle\u001b[0m\u001b[0;34m,\u001b[0m\u001b[0;34m\u001b[0m\u001b[0;34m\u001b[0m\u001b[0m\n\u001b[1;32m    858\u001b[0m                 \u001b[0mioargs\u001b[0m\u001b[0;34m.\u001b[0m\u001b[0mmode\u001b[0m\u001b[0;34m,\u001b[0m\u001b[0;34m\u001b[0m\u001b[0;34m\u001b[0m\u001b[0m\n",
            "\u001b[0;31mFileNotFoundError\u001b[0m: [Errno 2] No such file or directory: '/content/cleaned_data.csv'"
          ]
        }
      ],
      "source": [
        "data = pd.read_csv(\"/content/cleaned_data.csv\")"
      ]
    },
    {
      "cell_type": "markdown",
      "metadata": {
        "id": "svCUrkX4_eFC"
      },
      "source": [
        "### After Data preprocessing and cleaning, our Dataset contains 14343 data instances with 14 features."
      ]
    },
    {
      "cell_type": "code",
      "execution_count": null,
      "metadata": {
        "colab": {
          "base_uri": "https://localhost:8080/",
          "height": 615
        },
        "id": "ufWH5oC4Z0rc",
        "outputId": "c7131d39-d3d6-4bba-d678-61a940b0194e"
      },
      "outputs": [
        {
          "output_type": "execute_result",
          "data": {
            "text/plain": [
              "                                   job_title         salary  pay_period  \\\n",
              "0                              Sales Manager   88336.222112           2   \n",
              "1                         Model Risk Auditor   88336.222112           3   \n",
              "2                        NY Studio Assistant   88336.222112           2   \n",
              "3                           Office Associate   42000.000000           2   \n",
              "4                          Education Manager   88336.222112           2   \n",
              "...                                      ...            ...         ...   \n",
              "14338                  Sanitation Technician   88336.222112           1   \n",
              "14339                         Unit Secretary   88336.222112           2   \n",
              "14340                Radiology Aide, Perdiem   88336.222112           1   \n",
              "14341                            MRI Manager  135000.000000           2   \n",
              "14342  Area Director of Business Development   88336.222112           2   \n",
              "\n",
              "       work_type           location  experience_level  sponsored currency  \\\n",
              "0              1  Santa Clarita, CA                 5          0      USD   \n",
              "1              0       New York, NY                 5          0      USD   \n",
              "2              1       New York, NY                 5          1      USD   \n",
              "3              1         Albany, GA                 5          1      USD   \n",
              "4              1      United States                 5          0      USD   \n",
              "...          ...                ...               ...        ...      ...   \n",
              "14338          4  West Columbia, SC                 2          0      USD   \n",
              "14339          1        Teaneck, NJ                 2          0      USD   \n",
              "14340          4        Teaneck, NJ                 2          0      USD   \n",
              "14341          1       New York, NY                 5          0      USD   \n",
              "14342          1      Vicksburg, MS                 5          0      USD   \n",
              "\n",
              "              skills                               company_name  company_size  \\\n",
              "0           SALE, BD                                CargoLogin.           1.0   \n",
              "1          ACCT, FIN                          Employvision Inc.           1.0   \n",
              "2      DSGN, ART, IT                               Ken Fulk Inc           1.0   \n",
              "3                ADM                            Sunnyland Farms           2.0   \n",
              "4          EDU, TRNG                   Paradigm Senior Services           2.0   \n",
              "...              ...                                        ...           ...   \n",
              "14338        ENG, IT                            Aspire Bakeries           5.0   \n",
              "14339            ADM                   Holy Name Medical Center           5.0   \n",
              "14340           HCPR                   Holy Name Medical Center           5.0   \n",
              "14341           OTHR  Columbia University Irving Medical Center           7.0   \n",
              "14342       BD, SALE                              Nexion Health           5.0   \n",
              "\n",
              "       category_ComplexOnsiteApply  category_OffsiteApply  \\\n",
              "0                                1                      0   \n",
              "1                                1                      0   \n",
              "2                                1                      0   \n",
              "3                                1                      0   \n",
              "4                                0                      1   \n",
              "...                            ...                    ...   \n",
              "14338                            0                      1   \n",
              "14339                            0                      1   \n",
              "14340                            0                      1   \n",
              "14341                            0                      1   \n",
              "14342                            1                      0   \n",
              "\n",
              "       category_SimpleOnsiteApply  \n",
              "0                               0  \n",
              "1                               0  \n",
              "2                               0  \n",
              "3                               0  \n",
              "4                               0  \n",
              "...                           ...  \n",
              "14338                           0  \n",
              "14339                           0  \n",
              "14340                           0  \n",
              "14341                           0  \n",
              "14342                           0  \n",
              "\n",
              "[14343 rows x 14 columns]"
            ],
            "text/html": [
              "\n",
              "  <div id=\"df-7653770a-3fea-4161-8f93-6a4c94eff506\" class=\"colab-df-container\">\n",
              "    <div>\n",
              "<style scoped>\n",
              "    .dataframe tbody tr th:only-of-type {\n",
              "        vertical-align: middle;\n",
              "    }\n",
              "\n",
              "    .dataframe tbody tr th {\n",
              "        vertical-align: top;\n",
              "    }\n",
              "\n",
              "    .dataframe thead th {\n",
              "        text-align: right;\n",
              "    }\n",
              "</style>\n",
              "<table border=\"1\" class=\"dataframe\">\n",
              "  <thead>\n",
              "    <tr style=\"text-align: right;\">\n",
              "      <th></th>\n",
              "      <th>job_title</th>\n",
              "      <th>salary</th>\n",
              "      <th>pay_period</th>\n",
              "      <th>work_type</th>\n",
              "      <th>location</th>\n",
              "      <th>experience_level</th>\n",
              "      <th>sponsored</th>\n",
              "      <th>currency</th>\n",
              "      <th>skills</th>\n",
              "      <th>company_name</th>\n",
              "      <th>company_size</th>\n",
              "      <th>category_ComplexOnsiteApply</th>\n",
              "      <th>category_OffsiteApply</th>\n",
              "      <th>category_SimpleOnsiteApply</th>\n",
              "    </tr>\n",
              "  </thead>\n",
              "  <tbody>\n",
              "    <tr>\n",
              "      <th>0</th>\n",
              "      <td>Sales Manager</td>\n",
              "      <td>88336.222112</td>\n",
              "      <td>2</td>\n",
              "      <td>1</td>\n",
              "      <td>Santa Clarita, CA</td>\n",
              "      <td>5</td>\n",
              "      <td>0</td>\n",
              "      <td>USD</td>\n",
              "      <td>SALE, BD</td>\n",
              "      <td>CargoLogin.</td>\n",
              "      <td>1.0</td>\n",
              "      <td>1</td>\n",
              "      <td>0</td>\n",
              "      <td>0</td>\n",
              "    </tr>\n",
              "    <tr>\n",
              "      <th>1</th>\n",
              "      <td>Model Risk Auditor</td>\n",
              "      <td>88336.222112</td>\n",
              "      <td>3</td>\n",
              "      <td>0</td>\n",
              "      <td>New York, NY</td>\n",
              "      <td>5</td>\n",
              "      <td>0</td>\n",
              "      <td>USD</td>\n",
              "      <td>ACCT, FIN</td>\n",
              "      <td>Employvision Inc.</td>\n",
              "      <td>1.0</td>\n",
              "      <td>1</td>\n",
              "      <td>0</td>\n",
              "      <td>0</td>\n",
              "    </tr>\n",
              "    <tr>\n",
              "      <th>2</th>\n",
              "      <td>NY Studio Assistant</td>\n",
              "      <td>88336.222112</td>\n",
              "      <td>2</td>\n",
              "      <td>1</td>\n",
              "      <td>New York, NY</td>\n",
              "      <td>5</td>\n",
              "      <td>1</td>\n",
              "      <td>USD</td>\n",
              "      <td>DSGN, ART, IT</td>\n",
              "      <td>Ken Fulk Inc</td>\n",
              "      <td>1.0</td>\n",
              "      <td>1</td>\n",
              "      <td>0</td>\n",
              "      <td>0</td>\n",
              "    </tr>\n",
              "    <tr>\n",
              "      <th>3</th>\n",
              "      <td>Office Associate</td>\n",
              "      <td>42000.000000</td>\n",
              "      <td>2</td>\n",
              "      <td>1</td>\n",
              "      <td>Albany, GA</td>\n",
              "      <td>5</td>\n",
              "      <td>1</td>\n",
              "      <td>USD</td>\n",
              "      <td>ADM</td>\n",
              "      <td>Sunnyland Farms</td>\n",
              "      <td>2.0</td>\n",
              "      <td>1</td>\n",
              "      <td>0</td>\n",
              "      <td>0</td>\n",
              "    </tr>\n",
              "    <tr>\n",
              "      <th>4</th>\n",
              "      <td>Education Manager</td>\n",
              "      <td>88336.222112</td>\n",
              "      <td>2</td>\n",
              "      <td>1</td>\n",
              "      <td>United States</td>\n",
              "      <td>5</td>\n",
              "      <td>0</td>\n",
              "      <td>USD</td>\n",
              "      <td>EDU, TRNG</td>\n",
              "      <td>Paradigm Senior Services</td>\n",
              "      <td>2.0</td>\n",
              "      <td>0</td>\n",
              "      <td>1</td>\n",
              "      <td>0</td>\n",
              "    </tr>\n",
              "    <tr>\n",
              "      <th>...</th>\n",
              "      <td>...</td>\n",
              "      <td>...</td>\n",
              "      <td>...</td>\n",
              "      <td>...</td>\n",
              "      <td>...</td>\n",
              "      <td>...</td>\n",
              "      <td>...</td>\n",
              "      <td>...</td>\n",
              "      <td>...</td>\n",
              "      <td>...</td>\n",
              "      <td>...</td>\n",
              "      <td>...</td>\n",
              "      <td>...</td>\n",
              "      <td>...</td>\n",
              "    </tr>\n",
              "    <tr>\n",
              "      <th>14338</th>\n",
              "      <td>Sanitation Technician</td>\n",
              "      <td>88336.222112</td>\n",
              "      <td>1</td>\n",
              "      <td>4</td>\n",
              "      <td>West Columbia, SC</td>\n",
              "      <td>2</td>\n",
              "      <td>0</td>\n",
              "      <td>USD</td>\n",
              "      <td>ENG, IT</td>\n",
              "      <td>Aspire Bakeries</td>\n",
              "      <td>5.0</td>\n",
              "      <td>0</td>\n",
              "      <td>1</td>\n",
              "      <td>0</td>\n",
              "    </tr>\n",
              "    <tr>\n",
              "      <th>14339</th>\n",
              "      <td>Unit Secretary</td>\n",
              "      <td>88336.222112</td>\n",
              "      <td>2</td>\n",
              "      <td>1</td>\n",
              "      <td>Teaneck, NJ</td>\n",
              "      <td>2</td>\n",
              "      <td>0</td>\n",
              "      <td>USD</td>\n",
              "      <td>ADM</td>\n",
              "      <td>Holy Name Medical Center</td>\n",
              "      <td>5.0</td>\n",
              "      <td>0</td>\n",
              "      <td>1</td>\n",
              "      <td>0</td>\n",
              "    </tr>\n",
              "    <tr>\n",
              "      <th>14340</th>\n",
              "      <td>Radiology Aide, Perdiem</td>\n",
              "      <td>88336.222112</td>\n",
              "      <td>1</td>\n",
              "      <td>4</td>\n",
              "      <td>Teaneck, NJ</td>\n",
              "      <td>2</td>\n",
              "      <td>0</td>\n",
              "      <td>USD</td>\n",
              "      <td>HCPR</td>\n",
              "      <td>Holy Name Medical Center</td>\n",
              "      <td>5.0</td>\n",
              "      <td>0</td>\n",
              "      <td>1</td>\n",
              "      <td>0</td>\n",
              "    </tr>\n",
              "    <tr>\n",
              "      <th>14341</th>\n",
              "      <td>MRI Manager</td>\n",
              "      <td>135000.000000</td>\n",
              "      <td>2</td>\n",
              "      <td>1</td>\n",
              "      <td>New York, NY</td>\n",
              "      <td>5</td>\n",
              "      <td>0</td>\n",
              "      <td>USD</td>\n",
              "      <td>OTHR</td>\n",
              "      <td>Columbia University Irving Medical Center</td>\n",
              "      <td>7.0</td>\n",
              "      <td>0</td>\n",
              "      <td>1</td>\n",
              "      <td>0</td>\n",
              "    </tr>\n",
              "    <tr>\n",
              "      <th>14342</th>\n",
              "      <td>Area Director of Business Development</td>\n",
              "      <td>88336.222112</td>\n",
              "      <td>2</td>\n",
              "      <td>1</td>\n",
              "      <td>Vicksburg, MS</td>\n",
              "      <td>5</td>\n",
              "      <td>0</td>\n",
              "      <td>USD</td>\n",
              "      <td>BD, SALE</td>\n",
              "      <td>Nexion Health</td>\n",
              "      <td>5.0</td>\n",
              "      <td>1</td>\n",
              "      <td>0</td>\n",
              "      <td>0</td>\n",
              "    </tr>\n",
              "  </tbody>\n",
              "</table>\n",
              "<p>14343 rows × 14 columns</p>\n",
              "</div>\n",
              "    <div class=\"colab-df-buttons\">\n",
              "\n",
              "  <div class=\"colab-df-container\">\n",
              "    <button class=\"colab-df-convert\" onclick=\"convertToInteractive('df-7653770a-3fea-4161-8f93-6a4c94eff506')\"\n",
              "            title=\"Convert this dataframe to an interactive table.\"\n",
              "            style=\"display:none;\">\n",
              "\n",
              "  <svg xmlns=\"http://www.w3.org/2000/svg\" height=\"24px\" viewBox=\"0 -960 960 960\">\n",
              "    <path d=\"M120-120v-720h720v720H120Zm60-500h600v-160H180v160Zm220 220h160v-160H400v160Zm0 220h160v-160H400v160ZM180-400h160v-160H180v160Zm440 0h160v-160H620v160ZM180-180h160v-160H180v160Zm440 0h160v-160H620v160Z\"/>\n",
              "  </svg>\n",
              "    </button>\n",
              "\n",
              "  <style>\n",
              "    .colab-df-container {\n",
              "      display:flex;\n",
              "      gap: 12px;\n",
              "    }\n",
              "\n",
              "    .colab-df-convert {\n",
              "      background-color: #E8F0FE;\n",
              "      border: none;\n",
              "      border-radius: 50%;\n",
              "      cursor: pointer;\n",
              "      display: none;\n",
              "      fill: #1967D2;\n",
              "      height: 32px;\n",
              "      padding: 0 0 0 0;\n",
              "      width: 32px;\n",
              "    }\n",
              "\n",
              "    .colab-df-convert:hover {\n",
              "      background-color: #E2EBFA;\n",
              "      box-shadow: 0px 1px 2px rgba(60, 64, 67, 0.3), 0px 1px 3px 1px rgba(60, 64, 67, 0.15);\n",
              "      fill: #174EA6;\n",
              "    }\n",
              "\n",
              "    .colab-df-buttons div {\n",
              "      margin-bottom: 4px;\n",
              "    }\n",
              "\n",
              "    [theme=dark] .colab-df-convert {\n",
              "      background-color: #3B4455;\n",
              "      fill: #D2E3FC;\n",
              "    }\n",
              "\n",
              "    [theme=dark] .colab-df-convert:hover {\n",
              "      background-color: #434B5C;\n",
              "      box-shadow: 0px 1px 3px 1px rgba(0, 0, 0, 0.15);\n",
              "      filter: drop-shadow(0px 1px 2px rgba(0, 0, 0, 0.3));\n",
              "      fill: #FFFFFF;\n",
              "    }\n",
              "  </style>\n",
              "\n",
              "    <script>\n",
              "      const buttonEl =\n",
              "        document.querySelector('#df-7653770a-3fea-4161-8f93-6a4c94eff506 button.colab-df-convert');\n",
              "      buttonEl.style.display =\n",
              "        google.colab.kernel.accessAllowed ? 'block' : 'none';\n",
              "\n",
              "      async function convertToInteractive(key) {\n",
              "        const element = document.querySelector('#df-7653770a-3fea-4161-8f93-6a4c94eff506');\n",
              "        const dataTable =\n",
              "          await google.colab.kernel.invokeFunction('convertToInteractive',\n",
              "                                                    [key], {});\n",
              "        if (!dataTable) return;\n",
              "\n",
              "        const docLinkHtml = 'Like what you see? Visit the ' +\n",
              "          '<a target=\"_blank\" href=https://colab.research.google.com/notebooks/data_table.ipynb>data table notebook</a>'\n",
              "          + ' to learn more about interactive tables.';\n",
              "        element.innerHTML = '';\n",
              "        dataTable['output_type'] = 'display_data';\n",
              "        await google.colab.output.renderOutput(dataTable, element);\n",
              "        const docLink = document.createElement('div');\n",
              "        docLink.innerHTML = docLinkHtml;\n",
              "        element.appendChild(docLink);\n",
              "      }\n",
              "    </script>\n",
              "  </div>\n",
              "\n",
              "\n",
              "<div id=\"df-c4e44a07-10ca-4cad-a7b0-d1d6f49c0261\">\n",
              "  <button class=\"colab-df-quickchart\" onclick=\"quickchart('df-c4e44a07-10ca-4cad-a7b0-d1d6f49c0261')\"\n",
              "            title=\"Suggest charts\"\n",
              "            style=\"display:none;\">\n",
              "\n",
              "<svg xmlns=\"http://www.w3.org/2000/svg\" height=\"24px\"viewBox=\"0 0 24 24\"\n",
              "     width=\"24px\">\n",
              "    <g>\n",
              "        <path d=\"M19 3H5c-1.1 0-2 .9-2 2v14c0 1.1.9 2 2 2h14c1.1 0 2-.9 2-2V5c0-1.1-.9-2-2-2zM9 17H7v-7h2v7zm4 0h-2V7h2v10zm4 0h-2v-4h2v4z\"/>\n",
              "    </g>\n",
              "</svg>\n",
              "  </button>\n",
              "\n",
              "<style>\n",
              "  .colab-df-quickchart {\n",
              "      --bg-color: #E8F0FE;\n",
              "      --fill-color: #1967D2;\n",
              "      --hover-bg-color: #E2EBFA;\n",
              "      --hover-fill-color: #174EA6;\n",
              "      --disabled-fill-color: #AAA;\n",
              "      --disabled-bg-color: #DDD;\n",
              "  }\n",
              "\n",
              "  [theme=dark] .colab-df-quickchart {\n",
              "      --bg-color: #3B4455;\n",
              "      --fill-color: #D2E3FC;\n",
              "      --hover-bg-color: #434B5C;\n",
              "      --hover-fill-color: #FFFFFF;\n",
              "      --disabled-bg-color: #3B4455;\n",
              "      --disabled-fill-color: #666;\n",
              "  }\n",
              "\n",
              "  .colab-df-quickchart {\n",
              "    background-color: var(--bg-color);\n",
              "    border: none;\n",
              "    border-radius: 50%;\n",
              "    cursor: pointer;\n",
              "    display: none;\n",
              "    fill: var(--fill-color);\n",
              "    height: 32px;\n",
              "    padding: 0;\n",
              "    width: 32px;\n",
              "  }\n",
              "\n",
              "  .colab-df-quickchart:hover {\n",
              "    background-color: var(--hover-bg-color);\n",
              "    box-shadow: 0 1px 2px rgba(60, 64, 67, 0.3), 0 1px 3px 1px rgba(60, 64, 67, 0.15);\n",
              "    fill: var(--button-hover-fill-color);\n",
              "  }\n",
              "\n",
              "  .colab-df-quickchart-complete:disabled,\n",
              "  .colab-df-quickchart-complete:disabled:hover {\n",
              "    background-color: var(--disabled-bg-color);\n",
              "    fill: var(--disabled-fill-color);\n",
              "    box-shadow: none;\n",
              "  }\n",
              "\n",
              "  .colab-df-spinner {\n",
              "    border: 2px solid var(--fill-color);\n",
              "    border-color: transparent;\n",
              "    border-bottom-color: var(--fill-color);\n",
              "    animation:\n",
              "      spin 1s steps(1) infinite;\n",
              "  }\n",
              "\n",
              "  @keyframes spin {\n",
              "    0% {\n",
              "      border-color: transparent;\n",
              "      border-bottom-color: var(--fill-color);\n",
              "      border-left-color: var(--fill-color);\n",
              "    }\n",
              "    20% {\n",
              "      border-color: transparent;\n",
              "      border-left-color: var(--fill-color);\n",
              "      border-top-color: var(--fill-color);\n",
              "    }\n",
              "    30% {\n",
              "      border-color: transparent;\n",
              "      border-left-color: var(--fill-color);\n",
              "      border-top-color: var(--fill-color);\n",
              "      border-right-color: var(--fill-color);\n",
              "    }\n",
              "    40% {\n",
              "      border-color: transparent;\n",
              "      border-right-color: var(--fill-color);\n",
              "      border-top-color: var(--fill-color);\n",
              "    }\n",
              "    60% {\n",
              "      border-color: transparent;\n",
              "      border-right-color: var(--fill-color);\n",
              "    }\n",
              "    80% {\n",
              "      border-color: transparent;\n",
              "      border-right-color: var(--fill-color);\n",
              "      border-bottom-color: var(--fill-color);\n",
              "    }\n",
              "    90% {\n",
              "      border-color: transparent;\n",
              "      border-bottom-color: var(--fill-color);\n",
              "    }\n",
              "  }\n",
              "</style>\n",
              "\n",
              "  <script>\n",
              "    async function quickchart(key) {\n",
              "      const quickchartButtonEl =\n",
              "        document.querySelector('#' + key + ' button');\n",
              "      quickchartButtonEl.disabled = true;  // To prevent multiple clicks.\n",
              "      quickchartButtonEl.classList.add('colab-df-spinner');\n",
              "      try {\n",
              "        const charts = await google.colab.kernel.invokeFunction(\n",
              "            'suggestCharts', [key], {});\n",
              "      } catch (error) {\n",
              "        console.error('Error during call to suggestCharts:', error);\n",
              "      }\n",
              "      quickchartButtonEl.classList.remove('colab-df-spinner');\n",
              "      quickchartButtonEl.classList.add('colab-df-quickchart-complete');\n",
              "    }\n",
              "    (() => {\n",
              "      let quickchartButtonEl =\n",
              "        document.querySelector('#df-c4e44a07-10ca-4cad-a7b0-d1d6f49c0261 button');\n",
              "      quickchartButtonEl.style.display =\n",
              "        google.colab.kernel.accessAllowed ? 'block' : 'none';\n",
              "    })();\n",
              "  </script>\n",
              "</div>\n",
              "    </div>\n",
              "  </div>\n"
            ]
          },
          "metadata": {},
          "execution_count": 4
        }
      ],
      "source": [
        "data"
      ]
    },
    {
      "cell_type": "code",
      "execution_count": null,
      "metadata": {
        "id": "T371jdg_Z2dv"
      },
      "outputs": [],
      "source": [
        "df = data[['salary','pay_period','work_type','experience_level','sponsored','company_size','category_ComplexOnsiteApply','category_OffsiteApply','category_SimpleOnsiteApply']]"
      ]
    },
    {
      "cell_type": "code",
      "execution_count": null,
      "metadata": {
        "colab": {
          "base_uri": "https://localhost:8080/"
        },
        "id": "gC-r81vRZKeO",
        "outputId": "767f8ff1-5804-4a04-9e13-55b90f1a8c55"
      },
      "outputs": [
        {
          "output_type": "stream",
          "name": "stdout",
          "text": [
            "<class 'pandas.core.frame.DataFrame'>\n",
            "RangeIndex: 14343 entries, 0 to 14342\n",
            "Data columns (total 9 columns):\n",
            " #   Column                       Non-Null Count  Dtype  \n",
            "---  ------                       --------------  -----  \n",
            " 0   salary                       14343 non-null  float64\n",
            " 1   pay_period                   14343 non-null  int64  \n",
            " 2   work_type                    14343 non-null  int64  \n",
            " 3   experience_level             14343 non-null  int64  \n",
            " 4   sponsored                    14343 non-null  int64  \n",
            " 5   company_size                 14343 non-null  float64\n",
            " 6   category_ComplexOnsiteApply  14343 non-null  int64  \n",
            " 7   category_OffsiteApply        14343 non-null  int64  \n",
            " 8   category_SimpleOnsiteApply   14343 non-null  int64  \n",
            "dtypes: float64(2), int64(7)\n",
            "memory usage: 1008.6 KB\n"
          ]
        }
      ],
      "source": [
        "df.info()"
      ]
    },
    {
      "cell_type": "markdown",
      "metadata": {
        "id": "iNtWMgZCAc_6"
      },
      "source": [
        "### Below 3 features \"experience_level\", \"pay_period\", and \"work_type\" are choosen as independent variables and \"salary\" is choosen as our target variable or dependent variable"
      ]
    },
    {
      "cell_type": "code",
      "execution_count": null,
      "metadata": {
        "id": "NqZWa6AzaFw-"
      },
      "outputs": [],
      "source": [
        "X = df[['experience_level','pay_period','work_type']] # Feature\n",
        "y = df['salary']                                      # Target Variable"
      ]
    },
    {
      "cell_type": "markdown",
      "source": [
        "## Split the data into training, validation and testing sets using sklearn train_test_split"
      ],
      "metadata": {
        "id": "yKLFvD7I8q3Q"
      }
    },
    {
      "cell_type": "code",
      "execution_count": null,
      "metadata": {
        "id": "sjRZQ22jaTH5"
      },
      "outputs": [],
      "source": [
        "from sklearn.model_selection import train_test_split\n",
        "X_train, X_temp, y_train, y_temp = train_test_split(X, y, test_size=0.2, random_state=42)\n",
        "X_val, X_test, y_val, y_test = train_test_split(X_temp, y_temp, test_size=0.5, random_state=42)"
      ]
    },
    {
      "cell_type": "markdown",
      "metadata": {
        "id": "iT4v1dmdaW-R"
      },
      "source": [
        "### With the help of sklearn train_test_split we splitted the dataset into two parst train set and test set. So, total 14343 rows are splitted into three sets where 11474 in train set, 1434 rows into validation set  and remaining 1435 in test set."
      ]
    },
    {
      "cell_type": "code",
      "execution_count": null,
      "metadata": {
        "colab": {
          "base_uri": "https://localhost:8080/"
        },
        "id": "tNAKgL7TaUXd",
        "outputId": "c9e0c38a-e6e9-4478-8da8-4840e794436f"
      },
      "outputs": [
        {
          "output_type": "execute_result",
          "data": {
            "text/plain": [
              "(11474, 3)"
            ]
          },
          "metadata": {},
          "execution_count": 9
        }
      ],
      "source": [
        "X_train.shape"
      ]
    },
    {
      "cell_type": "code",
      "execution_count": null,
      "metadata": {
        "colab": {
          "base_uri": "https://localhost:8080/"
        },
        "id": "Kov7g6Er59Fr",
        "outputId": "9a56193c-3db1-47bb-940d-0ab56eac299f"
      },
      "outputs": [
        {
          "output_type": "execute_result",
          "data": {
            "text/plain": [
              "(1434, 3)"
            ]
          },
          "metadata": {},
          "execution_count": 10
        }
      ],
      "source": [
        "X_val.shape"
      ]
    },
    {
      "cell_type": "code",
      "execution_count": null,
      "metadata": {
        "colab": {
          "base_uri": "https://localhost:8080/"
        },
        "id": "PnsXKZt4aXl9",
        "outputId": "92ba2761-fdd3-4e94-c322-a0cb3b2287d6"
      },
      "outputs": [
        {
          "output_type": "execute_result",
          "data": {
            "text/plain": [
              "(1435, 3)"
            ]
          },
          "metadata": {},
          "execution_count": 11
        }
      ],
      "source": [
        "X_test.shape"
      ]
    },
    {
      "cell_type": "code",
      "execution_count": null,
      "metadata": {
        "colab": {
          "base_uri": "https://localhost:8080/"
        },
        "id": "BUFe7oy2Z5zU",
        "outputId": "586a72b7-5a91-413a-fb26-98dd924ad2e6"
      },
      "outputs": [
        {
          "output_type": "execute_result",
          "data": {
            "text/plain": [
              "(11474,)"
            ]
          },
          "metadata": {},
          "execution_count": 12
        }
      ],
      "source": [
        "y_train.shape"
      ]
    },
    {
      "cell_type": "markdown",
      "source": [
        "## Scaling the data"
      ],
      "metadata": {
        "id": "Bbz5WnHt84lp"
      }
    },
    {
      "cell_type": "code",
      "execution_count": null,
      "metadata": {
        "id": "mBTheaG0abhH"
      },
      "outputs": [],
      "source": [
        "# Standardize features\n",
        "scaler = StandardScaler()\n",
        "X_train = scaler.fit_transform(X_train)\n",
        "X_val = scaler.fit_transform(X_val)\n",
        "X_test = scaler.transform(X_test)"
      ]
    },
    {
      "cell_type": "code",
      "execution_count": null,
      "metadata": {
        "id": "LIBMGSlBac3R"
      },
      "outputs": [],
      "source": [
        "y_train = scaler.fit_transform(y_train.values.reshape(-1, 1))\n",
        "y_val = scaler.transform(y_val.values.reshape(-1, 1))\n",
        "y_test = scaler.transform(y_test.values.reshape(-1, 1))"
      ]
    },
    {
      "cell_type": "markdown",
      "metadata": {
        "id": "SZPIeUykapMo"
      },
      "source": [
        "## Scaling is done using StandardScaler which is z-score. Scaling is one of the important process in Ml applications to perform so that the model has higher acccuracy."
      ]
    },
    {
      "cell_type": "markdown",
      "metadata": {
        "id": "Q7bC6pfaaunm"
      },
      "source": [
        "## Scaled values of X_train, X_val, and X_test"
      ]
    },
    {
      "cell_type": "code",
      "execution_count": null,
      "metadata": {
        "colab": {
          "base_uri": "https://localhost:8080/"
        },
        "id": "uaesMCl7aeMt",
        "outputId": "fc981c1a-3322-4914-b1a0-ceaee52a1dfe"
      },
      "outputs": [
        {
          "output_type": "execute_result",
          "data": {
            "text/plain": [
              "array([[ 0.77935155, -0.03795617, -0.13485794],\n",
              "       [ 0.77935155, -0.03795617, -0.13485794],\n",
              "       [ 0.77935155, -0.03795617, -0.13485794],\n",
              "       ...,\n",
              "       [ 0.77935155, -0.03795617, -0.13485794],\n",
              "       [ 0.77935155, -0.03795617, -0.13485794],\n",
              "       [-0.90026522, -0.03795617, -0.13485794]])"
            ]
          },
          "metadata": {},
          "execution_count": 15
        }
      ],
      "source": [
        "X_train"
      ]
    },
    {
      "cell_type": "code",
      "execution_count": null,
      "metadata": {
        "colab": {
          "base_uri": "https://localhost:8080/"
        },
        "id": "pFJowZJZ6OLv",
        "outputId": "7604d802-2bdc-4047-b203-ca920ac83e6e"
      },
      "outputs": [
        {
          "output_type": "execute_result",
          "data": {
            "text/plain": [
              "array([[ 0.72847308, -0.04287203, -0.14191681],\n",
              "       [ 0.72847308, -2.23853257,  3.21262237],\n",
              "       [-0.98966902, -0.04287203, -0.14191681],\n",
              "       ...,\n",
              "       [-2.13509708, -2.23853257,  3.21262237],\n",
              "       [-2.13509708, -0.04287203, -0.14191681],\n",
              "       [ 0.72847308, -0.04287203, -0.14191681]])"
            ]
          },
          "metadata": {},
          "execution_count": 16
        }
      ],
      "source": [
        "X_val"
      ]
    },
    {
      "cell_type": "code",
      "execution_count": null,
      "metadata": {
        "colab": {
          "base_uri": "https://localhost:8080/"
        },
        "id": "p414el_zawtb",
        "outputId": "23e5c288-f2f4-470e-eeec-1446d3a0915f"
      },
      "outputs": [
        {
          "output_type": "execute_result",
          "data": {
            "text/plain": [
              "array([[ 0.72847308, -0.04287203, -0.14191681],\n",
              "       [ 0.72847308, -0.04287203, -0.14191681],\n",
              "       [-2.13509708, -0.04287203, -0.14191681],\n",
              "       ...,\n",
              "       [ 0.72847308,  2.1527885 , -1.26009654],\n",
              "       [ 0.72847308, -0.04287203, -0.14191681],\n",
              "       [ 0.72847308, -0.04287203, -0.14191681]])"
            ]
          },
          "metadata": {},
          "execution_count": 17
        }
      ],
      "source": [
        "X_test"
      ]
    },
    {
      "cell_type": "code",
      "execution_count": null,
      "metadata": {
        "colab": {
          "base_uri": "https://localhost:8080/"
        },
        "id": "WOwWv0drax51",
        "outputId": "ca276c5b-d144-47ef-f6f9-dfe7496a4c0d"
      },
      "outputs": [
        {
          "output_type": "execute_result",
          "data": {
            "text/plain": [
              "array([[-0.01236833],\n",
              "       [-0.01236833],\n",
              "       [-0.01236833],\n",
              "       ...,\n",
              "       [-0.01236833],\n",
              "       [ 0.93892532],\n",
              "       [-0.01236833]])"
            ]
          },
          "metadata": {},
          "execution_count": 18
        }
      ],
      "source": [
        "y_train"
      ]
    },
    {
      "cell_type": "code",
      "execution_count": null,
      "metadata": {
        "colab": {
          "base_uri": "https://localhost:8080/"
        },
        "id": "b0uq-Svb6QzC",
        "outputId": "b0bd1086-6498-42ea-ac85-2ba49fee7ea8"
      },
      "outputs": [
        {
          "output_type": "execute_result",
          "data": {
            "text/plain": [
              "array([[ 3.00119977],\n",
              "       [-0.01236833],\n",
              "       [-0.01236833],\n",
              "       ...,\n",
              "       [-0.01236833],\n",
              "       [-0.11062506],\n",
              "       [ 0.97943428]])"
            ]
          },
          "metadata": {},
          "execution_count": 19
        }
      ],
      "source": [
        "y_val"
      ]
    },
    {
      "cell_type": "code",
      "execution_count": null,
      "metadata": {
        "colab": {
          "base_uri": "https://localhost:8080/"
        },
        "id": "nqJ-_cKFa3qo",
        "outputId": "c49bb49e-7973-4267-82f7-658f3459389e"
      },
      "outputs": [
        {
          "output_type": "execute_result",
          "data": {
            "text/plain": [
              "array([[-0.01236833],\n",
              "       [-0.01236833],\n",
              "       [ 1.04305011],\n",
              "       ...,\n",
              "       [-0.01236833],\n",
              "       [-0.01236833],\n",
              "       [-0.01236833]])"
            ]
          },
          "metadata": {},
          "execution_count": 20
        }
      ],
      "source": [
        "y_test"
      ]
    },
    {
      "cell_type": "markdown",
      "metadata": {
        "id": "Q9gGeUVDhF9D"
      },
      "source": [
        "# 1 - LINEAR REGRESSION\n",
        "\n",
        "### It is a statistical method that predicts the relationship between two variables. It's a commonly used method of predictive analysis.\n",
        "### To find the best-fit linear relationship that describes the pattern or trend in the data, a Statistical Linear regression method is used between a dependent variable and one or more independent variables.\n",
        "### It predicts continuous value.\n",
        "example: y = mx + b\n",
        "Here:\n",
        "- x = independent variable\n",
        "- y = dependent variable\n",
        "- b = bias\n",
        "- m = slope\n",
        "\n",
        "### Below 3 features are choosen as independent variables, to train a Linear regression model to find the ideal weights and bias that can predict the salary for any new data instance.\n",
        "\n"
      ]
    },
    {
      "cell_type": "markdown",
      "metadata": {
        "id": "ji74TAxka0rA"
      },
      "source": [
        "### Now, Lets start building different models on our cleaned dataset and observe how the performances are and with the help of metrics we can decicde which model has better performance compared to all the models built."
      ]
    },
    {
      "cell_type": "code",
      "execution_count": null,
      "metadata": {
        "colab": {
          "base_uri": "https://localhost:8080/",
          "height": 75
        },
        "id": "vlTg0Mq5a5B_",
        "outputId": "5b3b4858-a166-4e02-ba86-e8624ef9cabc"
      },
      "outputs": [
        {
          "output_type": "execute_result",
          "data": {
            "text/plain": [
              "LinearRegression()"
            ],
            "text/html": [
              "<style>#sk-container-id-1 {color: black;background-color: white;}#sk-container-id-1 pre{padding: 0;}#sk-container-id-1 div.sk-toggleable {background-color: white;}#sk-container-id-1 label.sk-toggleable__label {cursor: pointer;display: block;width: 100%;margin-bottom: 0;padding: 0.3em;box-sizing: border-box;text-align: center;}#sk-container-id-1 label.sk-toggleable__label-arrow:before {content: \"▸\";float: left;margin-right: 0.25em;color: #696969;}#sk-container-id-1 label.sk-toggleable__label-arrow:hover:before {color: black;}#sk-container-id-1 div.sk-estimator:hover label.sk-toggleable__label-arrow:before {color: black;}#sk-container-id-1 div.sk-toggleable__content {max-height: 0;max-width: 0;overflow: hidden;text-align: left;background-color: #f0f8ff;}#sk-container-id-1 div.sk-toggleable__content pre {margin: 0.2em;color: black;border-radius: 0.25em;background-color: #f0f8ff;}#sk-container-id-1 input.sk-toggleable__control:checked~div.sk-toggleable__content {max-height: 200px;max-width: 100%;overflow: auto;}#sk-container-id-1 input.sk-toggleable__control:checked~label.sk-toggleable__label-arrow:before {content: \"▾\";}#sk-container-id-1 div.sk-estimator input.sk-toggleable__control:checked~label.sk-toggleable__label {background-color: #d4ebff;}#sk-container-id-1 div.sk-label input.sk-toggleable__control:checked~label.sk-toggleable__label {background-color: #d4ebff;}#sk-container-id-1 input.sk-hidden--visually {border: 0;clip: rect(1px 1px 1px 1px);clip: rect(1px, 1px, 1px, 1px);height: 1px;margin: -1px;overflow: hidden;padding: 0;position: absolute;width: 1px;}#sk-container-id-1 div.sk-estimator {font-family: monospace;background-color: #f0f8ff;border: 1px dotted black;border-radius: 0.25em;box-sizing: border-box;margin-bottom: 0.5em;}#sk-container-id-1 div.sk-estimator:hover {background-color: #d4ebff;}#sk-container-id-1 div.sk-parallel-item::after {content: \"\";width: 100%;border-bottom: 1px solid gray;flex-grow: 1;}#sk-container-id-1 div.sk-label:hover label.sk-toggleable__label {background-color: #d4ebff;}#sk-container-id-1 div.sk-serial::before {content: \"\";position: absolute;border-left: 1px solid gray;box-sizing: border-box;top: 0;bottom: 0;left: 50%;z-index: 0;}#sk-container-id-1 div.sk-serial {display: flex;flex-direction: column;align-items: center;background-color: white;padding-right: 0.2em;padding-left: 0.2em;position: relative;}#sk-container-id-1 div.sk-item {position: relative;z-index: 1;}#sk-container-id-1 div.sk-parallel {display: flex;align-items: stretch;justify-content: center;background-color: white;position: relative;}#sk-container-id-1 div.sk-item::before, #sk-container-id-1 div.sk-parallel-item::before {content: \"\";position: absolute;border-left: 1px solid gray;box-sizing: border-box;top: 0;bottom: 0;left: 50%;z-index: -1;}#sk-container-id-1 div.sk-parallel-item {display: flex;flex-direction: column;z-index: 1;position: relative;background-color: white;}#sk-container-id-1 div.sk-parallel-item:first-child::after {align-self: flex-end;width: 50%;}#sk-container-id-1 div.sk-parallel-item:last-child::after {align-self: flex-start;width: 50%;}#sk-container-id-1 div.sk-parallel-item:only-child::after {width: 0;}#sk-container-id-1 div.sk-dashed-wrapped {border: 1px dashed gray;margin: 0 0.4em 0.5em 0.4em;box-sizing: border-box;padding-bottom: 0.4em;background-color: white;}#sk-container-id-1 div.sk-label label {font-family: monospace;font-weight: bold;display: inline-block;line-height: 1.2em;}#sk-container-id-1 div.sk-label-container {text-align: center;}#sk-container-id-1 div.sk-container {/* jupyter's `normalize.less` sets `[hidden] { display: none; }` but bootstrap.min.css set `[hidden] { display: none !important; }` so we also need the `!important` here to be able to override the default hidden behavior on the sphinx rendered scikit-learn.org. See: https://github.com/scikit-learn/scikit-learn/issues/21755 */display: inline-block !important;position: relative;}#sk-container-id-1 div.sk-text-repr-fallback {display: none;}</style><div id=\"sk-container-id-1\" class=\"sk-top-container\"><div class=\"sk-text-repr-fallback\"><pre>LinearRegression()</pre><b>In a Jupyter environment, please rerun this cell to show the HTML representation or trust the notebook. <br />On GitHub, the HTML representation is unable to render, please try loading this page with nbviewer.org.</b></div><div class=\"sk-container\" hidden><div class=\"sk-item\"><div class=\"sk-estimator sk-toggleable\"><input class=\"sk-toggleable__control sk-hidden--visually\" id=\"sk-estimator-id-1\" type=\"checkbox\" checked><label for=\"sk-estimator-id-1\" class=\"sk-toggleable__label sk-toggleable__label-arrow\">LinearRegression</label><div class=\"sk-toggleable__content\"><pre>LinearRegression()</pre></div></div></div></div></div>"
            ]
          },
          "metadata": {},
          "execution_count": 21
        }
      ],
      "source": [
        "#Importing the LinearRegression from sklearn library\n",
        "from sklearn.linear_model import LinearRegression\n",
        "from sklearn.metrics import mean_squared_error\n",
        "\n",
        "# Creating the model\n",
        "linear_reg_model = LinearRegression()\n",
        "# Training the model which is called fitting\n",
        "linear_reg_model.fit(X_train, y_train)"
      ]
    },
    {
      "cell_type": "code",
      "execution_count": null,
      "metadata": {
        "id": "Cb5OPtlR9BVg"
      },
      "outputs": [],
      "source": [
        "# Predicting on the train, val and test set\n",
        "y_pred_train_linear_reg = linear_reg_model.predict(X_train)\n",
        "y_pred_val_linear_reg = linear_reg_model.predict(X_val)\n",
        "y_pred_test_linear_reg = linear_reg_model.predict(X_test)"
      ]
    },
    {
      "cell_type": "code",
      "execution_count": null,
      "metadata": {
        "id": "48eJpNbAniSC"
      },
      "outputs": [],
      "source": [
        "# Finding the Metrics of the model to know the performance.\n",
        "from sklearn.metrics import mean_squared_error, mean_absolute_error, r2_score\n",
        "mse_train_linear_reg = mean_squared_error(y_train, y_pred_train_linear_reg)\n",
        "mse_val_linear_reg = mean_squared_error(y_val, y_pred_val_linear_reg)\n",
        "mse_test_linear_reg = mean_squared_error(y_test, y_pred_test_linear_reg)\n",
        "\n",
        "r2_train_linear_reg = r2_score(y_train, y_pred_train_linear_reg)\n",
        "r2_val_linear_reg = r2_score(y_val, y_pred_val_linear_reg)\n",
        "r2_test_linear_reg = r2_score(y_test, y_pred_test_linear_reg)"
      ]
    },
    {
      "cell_type": "markdown",
      "metadata": {
        "id": "RDDBUGWYDQ3c"
      },
      "source": [
        "### MSE measures the average squared difference between the predicted values and the actual values. Lower MSE values indicate better model performance. R-squared represents the proportion of the variance in the dependent variable that is predictable from the independent variables."
      ]
    },
    {
      "cell_type": "code",
      "execution_count": null,
      "metadata": {
        "colab": {
          "base_uri": "https://localhost:8080/"
        },
        "id": "W9D4V-N5niV5",
        "outputId": "67580f39-d527-45c2-eef7-ade5fcf98778"
      },
      "outputs": [
        {
          "output_type": "stream",
          "name": "stdout",
          "text": [
            "Training Set Mean Squared Error: 0.9540048263837551, R-squared: 0.045995173616244944\n",
            "Validation Set Mean Squared Error: 0.7153875997250922, R-squared: 0.05292848338277234\n",
            "Test Set Mean Squared Error: 0.7968164042173465, R-squared: 0.06358128689719511\n"
          ]
        }
      ],
      "source": [
        "#Mean Squared Error and R^2 Score values\n",
        "print(f'Training Set Mean Squared Error: {mse_train_linear_reg}, R-squared: {r2_train_linear_reg}')\n",
        "print(f'Validation Set Mean Squared Error: {mse_val_linear_reg}, R-squared: {r2_val_linear_reg}')\n",
        "print(f'Test Set Mean Squared Error: {mse_test_linear_reg}, R-squared: {r2_test_linear_reg}')"
      ]
    },
    {
      "cell_type": "code",
      "execution_count": null,
      "metadata": {
        "colab": {
          "base_uri": "https://localhost:8080/",
          "height": 507
        },
        "id": "1cz6GPUPoM_-",
        "outputId": "f378fcc0-0980-4c5a-dd6d-a4a71d3f9fe3"
      },
      "outputs": [
        {
          "output_type": "display_data",
          "data": {
            "text/plain": [
              "<Figure size 1500x500 with 2 Axes>"
            ],
            "image/png": "[encoded data removed]"
          },
          "metadata": {}
        }
      ],
      "source": [
        "# Plotting the evaluation metrics using plt library\n",
        "fig, axs = plt.subplots(1, 2, figsize=(15, 5))\n",
        "\n",
        "# Mean Squared Error (MSE)\n",
        "axs[0].scatter(y_test, y_pred_test_linear_reg, alpha=0.5)\n",
        "axs[0].plot([min(y_test), max(y_test)], [min(y_test), max(y_test)], 'k--', lw=2)\n",
        "axs[0].set_title(f'MSE: {mse_test_linear_reg:.4f}')\n",
        "axs[0].set_xlabel('Actual')\n",
        "axs[0].set_ylabel('Predicted')\n",
        "\n",
        "# R^2 Score\n",
        "axs[1].scatter(y_test, y_pred_test_linear_reg, alpha=0.5)\n",
        "axs[1].plot([min(y_test), max(y_test)], [min(y_test), max(y_test)], 'k--', lw=2)\n",
        "axs[1].set_title(f'R^2 Score: {r2_test_linear_reg:.4f}')\n",
        "axs[1].set_xlabel('Actual')\n",
        "axs[1].set_ylabel('Predicted')\n",
        "\n",
        "plt.tight_layout()\n",
        "plt.show()"
      ]
    },
    {
      "cell_type": "markdown",
      "source": [
        "# Hyperparameter Tuning"
      ],
      "metadata": {
        "id": "ci-NFlkq_Nhz"
      }
    },
    {
      "cell_type": "code",
      "source": [
        "from sklearn.model_selection import GridSearchCV"
      ],
      "metadata": {
        "id": "nvVfYYZ4_QPQ"
      },
      "execution_count": null,
      "outputs": []
    },
    {
      "cell_type": "code",
      "source": [
        "gs_lr = GridSearchCV(estimator = LinearRegression(),\n",
        "                  param_grid = {'fit_intercept': [True, False]},\n",
        "                                cv=5,scoring='neg_mean_squared_error'\n",
        "                                )"
      ],
      "metadata": {
        "id": "QAXAwYhz_QSJ"
      },
      "execution_count": null,
      "outputs": []
    },
    {
      "cell_type": "code",
      "source": [
        "gs_lr.fit(X_train, y_train)"
      ],
      "metadata": {
        "colab": {
          "base_uri": "https://localhost:8080/",
          "height": 119
        },
        "id": "bQhqD1Bq_QXG",
        "outputId": "9e4c8165-d610-42de-b9ca-951c9ce34266"
      },
      "execution_count": null,
      "outputs": [
        {
          "output_type": "execute_result",
          "data": {
            "text/plain": [
              "GridSearchCV(cv=5, estimator=LinearRegression(),\n",
              "             param_grid={'fit_intercept': [True, False]},\n",
              "             scoring='neg_mean_squared_error')"
            ],
            "text/html": [
              "<style>#sk-container-id-2 {color: black;background-color: white;}#sk-container-id-2 pre{padding: 0;}#sk-container-id-2 div.sk-toggleable {background-color: white;}#sk-container-id-2 label.sk-toggleable__label {cursor: pointer;display: block;width: 100%;margin-bottom: 0;padding: 0.3em;box-sizing: border-box;text-align: center;}#sk-container-id-2 label.sk-toggleable__label-arrow:before {content: \"▸\";float: left;margin-right: 0.25em;color: #696969;}#sk-container-id-2 label.sk-toggleable__label-arrow:hover:before {color: black;}#sk-container-id-2 div.sk-estimator:hover label.sk-toggleable__label-arrow:before {color: black;}#sk-container-id-2 div.sk-toggleable__content {max-height: 0;max-width: 0;overflow: hidden;text-align: left;background-color: #f0f8ff;}#sk-container-id-2 div.sk-toggleable__content pre {margin: 0.2em;color: black;border-radius: 0.25em;background-color: #f0f8ff;}#sk-container-id-2 input.sk-toggleable__control:checked~div.sk-toggleable__content {max-height: 200px;max-width: 100%;overflow: auto;}#sk-container-id-2 input.sk-toggleable__control:checked~label.sk-toggleable__label-arrow:before {content: \"▾\";}#sk-container-id-2 div.sk-estimator input.sk-toggleable__control:checked~label.sk-toggleable__label {background-color: #d4ebff;}#sk-container-id-2 div.sk-label input.sk-toggleable__control:checked~label.sk-toggleable__label {background-color: #d4ebff;}#sk-container-id-2 input.sk-hidden--visually {border: 0;clip: rect(1px 1px 1px 1px);clip: rect(1px, 1px, 1px, 1px);height: 1px;margin: -1px;overflow: hidden;padding: 0;position: absolute;width: 1px;}#sk-container-id-2 div.sk-estimator {font-family: monospace;background-color: #f0f8ff;border: 1px dotted black;border-radius: 0.25em;box-sizing: border-box;margin-bottom: 0.5em;}#sk-container-id-2 div.sk-estimator:hover {background-color: #d4ebff;}#sk-container-id-2 div.sk-parallel-item::after {content: \"\";width: 100%;border-bottom: 1px solid gray;flex-grow: 1;}#sk-container-id-2 div.sk-label:hover label.sk-toggleable__label {background-color: #d4ebff;}#sk-container-id-2 div.sk-serial::before {content: \"\";position: absolute;border-left: 1px solid gray;box-sizing: border-box;top: 0;bottom: 0;left: 50%;z-index: 0;}#sk-container-id-2 div.sk-serial {display: flex;flex-direction: column;align-items: center;background-color: white;padding-right: 0.2em;padding-left: 0.2em;position: relative;}#sk-container-id-2 div.sk-item {position: relative;z-index: 1;}#sk-container-id-2 div.sk-parallel {display: flex;align-items: stretch;justify-content: center;background-color: white;position: relative;}#sk-container-id-2 div.sk-item::before, #sk-container-id-2 div.sk-parallel-item::before {content: \"\";position: absolute;border-left: 1px solid gray;box-sizing: border-box;top: 0;bottom: 0;left: 50%;z-index: -1;}#sk-container-id-2 div.sk-parallel-item {display: flex;flex-direction: column;z-index: 1;position: relative;background-color: white;}#sk-container-id-2 div.sk-parallel-item:first-child::after {align-self: flex-end;width: 50%;}#sk-container-id-2 div.sk-parallel-item:last-child::after {align-self: flex-start;width: 50%;}#sk-container-id-2 div.sk-parallel-item:only-child::after {width: 0;}#sk-container-id-2 div.sk-dashed-wrapped {border: 1px dashed gray;margin: 0 0.4em 0.5em 0.4em;box-sizing: border-box;padding-bottom: 0.4em;background-color: white;}#sk-container-id-2 div.sk-label label {font-family: monospace;font-weight: bold;display: inline-block;line-height: 1.2em;}#sk-container-id-2 div.sk-label-container {text-align: center;}#sk-container-id-2 div.sk-container {/* jupyter's `normalize.less` sets `[hidden] { display: none; }` but bootstrap.min.css set `[hidden] { display: none !important; }` so we also need the `!important` here to be able to override the default hidden behavior on the sphinx rendered scikit-learn.org. See: https://github.com/scikit-learn/scikit-learn/issues/21755 */display: inline-block !important;position: relative;}#sk-container-id-2 div.sk-text-repr-fallback {display: none;}</style><div id=\"sk-container-id-2\" class=\"sk-top-container\"><div class=\"sk-text-repr-fallback\"><pre>GridSearchCV(cv=5, estimator=LinearRegression(),\n",
              "             param_grid={&#x27;fit_intercept&#x27;: [True, False]},\n",
              "             scoring=&#x27;neg_mean_squared_error&#x27;)</pre><b>In a Jupyter environment, please rerun this cell to show the HTML representation or trust the notebook. <br />On GitHub, the HTML representation is unable to render, please try loading this page with nbviewer.org.</b></div><div class=\"sk-container\" hidden><div class=\"sk-item sk-dashed-wrapped\"><div class=\"sk-label-container\"><div class=\"sk-label sk-toggleable\"><input class=\"sk-toggleable__control sk-hidden--visually\" id=\"sk-estimator-id-2\" type=\"checkbox\" ><label for=\"sk-estimator-id-2\" class=\"sk-toggleable__label sk-toggleable__label-arrow\">GridSearchCV</label><div class=\"sk-toggleable__content\"><pre>GridSearchCV(cv=5, estimator=LinearRegression(),\n",
              "             param_grid={&#x27;fit_intercept&#x27;: [True, False]},\n",
              "             scoring=&#x27;neg_mean_squared_error&#x27;)</pre></div></div></div><div class=\"sk-parallel\"><div class=\"sk-parallel-item\"><div class=\"sk-item\"><div class=\"sk-label-container\"><div class=\"sk-label sk-toggleable\"><input class=\"sk-toggleable__control sk-hidden--visually\" id=\"sk-estimator-id-3\" type=\"checkbox\" ><label for=\"sk-estimator-id-3\" class=\"sk-toggleable__label sk-toggleable__label-arrow\">estimator: LinearRegression</label><div class=\"sk-toggleable__content\"><pre>LinearRegression()</pre></div></div></div><div class=\"sk-serial\"><div class=\"sk-item\"><div class=\"sk-estimator sk-toggleable\"><input class=\"sk-toggleable__control sk-hidden--visually\" id=\"sk-estimator-id-4\" type=\"checkbox\" ><label for=\"sk-estimator-id-4\" class=\"sk-toggleable__label sk-toggleable__label-arrow\">LinearRegression</label><div class=\"sk-toggleable__content\"><pre>LinearRegression()</pre></div></div></div></div></div></div></div></div></div></div>"
            ]
          },
          "metadata": {},
          "execution_count": 28
        }
      ]
    },
    {
      "cell_type": "code",
      "source": [
        "gs_lr.best_score_"
      ],
      "metadata": {
        "colab": {
          "base_uri": "https://localhost:8080/"
        },
        "id": "bvvtwaeN_QZk",
        "outputId": "bc0b5e35-a16f-43b8-c643-71388e6730d6"
      },
      "execution_count": null,
      "outputs": [
        {
          "output_type": "execute_result",
          "data": {
            "text/plain": [
              "-0.9547215951647836"
            ]
          },
          "metadata": {},
          "execution_count": 29
        }
      ]
    },
    {
      "cell_type": "code",
      "source": [
        "gs_lr.best_params_"
      ],
      "metadata": {
        "colab": {
          "base_uri": "https://localhost:8080/"
        },
        "id": "t7CK0fdE_uro",
        "outputId": "f87fc293-e70b-4817-f454-6310daf8ec67"
      },
      "execution_count": null,
      "outputs": [
        {
          "output_type": "execute_result",
          "data": {
            "text/plain": [
              "{'fit_intercept': False}"
            ]
          },
          "metadata": {},
          "execution_count": 30
        }
      ]
    },
    {
      "cell_type": "code",
      "source": [
        "# Print the best hyperparameters\n",
        "print(\"Best Hyperparameters:\", gs_lr.best_params_)"
      ],
      "metadata": {
        "colab": {
          "base_uri": "https://localhost:8080/"
        },
        "id": "BqlmItMe_vkn",
        "outputId": "50bee5a1-0ce4-4827-8721-38ea5a50e2d8"
      },
      "execution_count": null,
      "outputs": [
        {
          "output_type": "stream",
          "name": "stdout",
          "text": [
            "Best Hyperparameters: {'fit_intercept': False}\n"
          ]
        }
      ]
    },
    {
      "cell_type": "code",
      "source": [
        "# Get the best model\n",
        "best_lr = gs_lr.best_estimator_"
      ],
      "metadata": {
        "id": "dZp_KkQD_vr0"
      },
      "execution_count": null,
      "outputs": []
    },
    {
      "cell_type": "code",
      "source": [
        "#Final Predictions on test set\n",
        "y_pred = best_lr.predict(X_test)"
      ],
      "metadata": {
        "id": "A3Ti4vaV_vvI"
      },
      "execution_count": null,
      "outputs": []
    },
    {
      "cell_type": "code",
      "source": [
        "#Final Evaluation\n",
        "mse_lr = mean_squared_error(y_test, y_pred)\n",
        "print(\"Mean Squared Error on Test Set:\", mse_lr)\n",
        "\n",
        "r2_lr = r2_score(y_test, y_pred)\n",
        "print(\"R^2 Score on test Set:\",r2_lr)"
      ],
      "metadata": {
        "colab": {
          "base_uri": "https://localhost:8080/"
        },
        "id": "I0qomo4-_vyK",
        "outputId": "baa8c54f-51c8-437a-f81b-0e542acc971d"
      },
      "execution_count": null,
      "outputs": [
        {
          "output_type": "stream",
          "name": "stdout",
          "text": [
            "Mean Squared Error on Test Set: 0.7968164042173465\n",
            "R^2 Score on test Set: 0.06358128689719511\n"
          ]
        }
      ]
    },
    {
      "cell_type": "code",
      "source": [
        "categories = ['Before Hyperparameter Tuning', 'After Hyperparameter Tuning']\n",
        "mse_values = [mse_test_linear_reg, mse_lr]\n",
        "\n",
        "# Plotting the bar chart\n",
        "plt.bar(categories, mse_values, color=['blue', 'green'])\n",
        "plt.ylabel('Mean Squared Error')\n",
        "plt.title('MSE Comparison for Linear Regression')\n",
        "plt.ylim(0, max(mse_values) + 0.2)\n",
        "plt.show()"
      ],
      "metadata": {
        "colab": {
          "base_uri": "https://localhost:8080/",
          "height": 452
        },
        "id": "yM5tHmXNAu9N",
        "outputId": "bcd8bbdf-9dae-4442-fc35-e11d79eee95d"
      },
      "execution_count": null,
      "outputs": [
        {
          "output_type": "display_data",
          "data": {
            "text/plain": [
              "<Figure size 640x480 with 1 Axes>"
            ],
            "image/png": "[encoded data removed]"
          },
          "metadata": {}
        }
      ]
    },
    {
      "cell_type": "markdown",
      "source": [
        "## From the above bar plot we can say that the MSE values havent change after tuning the model. We cannot guarantee that the model should perform better after tuning, this depends on the nature of the dataset also."
      ],
      "metadata": {
        "id": "-Y6nG9UUBHEs"
      }
    },
    {
      "cell_type": "markdown",
      "metadata": {
        "id": "IreDOxs8hqep"
      },
      "source": [
        "# 2 - K-NEAREST NEIGHBOURS (KNN)\n",
        "### A non-parametric algorithm called K-Nearest Neighbors (KNN) regression locates the K data points that are closest to an input to generate predictions. Next, it chooses the averages their target values for numerical regression.\n",
        "### In k-NN regression, the output is the property value for the object. This value is the average of the values of k nearest neighbors. If k = 1, then the output is simply assigned to the value of that single nearest neighbor.\n",
        "\n",
        "###  To predict a new data point, K-NN Regressor looks through the training data and finds K training data points that are closest to the new data point. From these neighbors the output is the average of the target values of the K nearest neighbors\n"
      ]
    },
    {
      "cell_type": "code",
      "execution_count": null,
      "metadata": {
        "colab": {
          "base_uri": "https://localhost:8080/",
          "height": 75
        },
        "id": "6ZQSnuljhq7q",
        "outputId": "d0419562-1f0b-488e-e531-dda84d5eea1d"
      },
      "outputs": [
        {
          "output_type": "execute_result",
          "data": {
            "text/plain": [
              "KNeighborsRegressor()"
            ],
            "text/html": [
              "<style>#sk-container-id-3 {color: black;background-color: white;}#sk-container-id-3 pre{padding: 0;}#sk-container-id-3 div.sk-toggleable {background-color: white;}#sk-container-id-3 label.sk-toggleable__label {cursor: pointer;display: block;width: 100%;margin-bottom: 0;padding: 0.3em;box-sizing: border-box;text-align: center;}#sk-container-id-3 label.sk-toggleable__label-arrow:before {content: \"▸\";float: left;margin-right: 0.25em;color: #696969;}#sk-container-id-3 label.sk-toggleable__label-arrow:hover:before {color: black;}#sk-container-id-3 div.sk-estimator:hover label.sk-toggleable__label-arrow:before {color: black;}#sk-container-id-3 div.sk-toggleable__content {max-height: 0;max-width: 0;overflow: hidden;text-align: left;background-color: #f0f8ff;}#sk-container-id-3 div.sk-toggleable__content pre {margin: 0.2em;color: black;border-radius: 0.25em;background-color: #f0f8ff;}#sk-container-id-3 input.sk-toggleable__control:checked~div.sk-toggleable__content {max-height: 200px;max-width: 100%;overflow: auto;}#sk-container-id-3 input.sk-toggleable__control:checked~label.sk-toggleable__label-arrow:before {content: \"▾\";}#sk-container-id-3 div.sk-estimator input.sk-toggleable__control:checked~label.sk-toggleable__label {background-color: #d4ebff;}#sk-container-id-3 div.sk-label input.sk-toggleable__control:checked~label.sk-toggleable__label {background-color: #d4ebff;}#sk-container-id-3 input.sk-hidden--visually {border: 0;clip: rect(1px 1px 1px 1px);clip: rect(1px, 1px, 1px, 1px);height: 1px;margin: -1px;overflow: hidden;padding: 0;position: absolute;width: 1px;}#sk-container-id-3 div.sk-estimator {font-family: monospace;background-color: #f0f8ff;border: 1px dotted black;border-radius: 0.25em;box-sizing: border-box;margin-bottom: 0.5em;}#sk-container-id-3 div.sk-estimator:hover {background-color: #d4ebff;}#sk-container-id-3 div.sk-parallel-item::after {content: \"\";width: 100%;border-bottom: 1px solid gray;flex-grow: 1;}#sk-container-id-3 div.sk-label:hover label.sk-toggleable__label {background-color: #d4ebff;}#sk-container-id-3 div.sk-serial::before {content: \"\";position: absolute;border-left: 1px solid gray;box-sizing: border-box;top: 0;bottom: 0;left: 50%;z-index: 0;}#sk-container-id-3 div.sk-serial {display: flex;flex-direction: column;align-items: center;background-color: white;padding-right: 0.2em;padding-left: 0.2em;position: relative;}#sk-container-id-3 div.sk-item {position: relative;z-index: 1;}#sk-container-id-3 div.sk-parallel {display: flex;align-items: stretch;justify-content: center;background-color: white;position: relative;}#sk-container-id-3 div.sk-item::before, #sk-container-id-3 div.sk-parallel-item::before {content: \"\";position: absolute;border-left: 1px solid gray;box-sizing: border-box;top: 0;bottom: 0;left: 50%;z-index: -1;}#sk-container-id-3 div.sk-parallel-item {display: flex;flex-direction: column;z-index: 1;position: relative;background-color: white;}#sk-container-id-3 div.sk-parallel-item:first-child::after {align-self: flex-end;width: 50%;}#sk-container-id-3 div.sk-parallel-item:last-child::after {align-self: flex-start;width: 50%;}#sk-container-id-3 div.sk-parallel-item:only-child::after {width: 0;}#sk-container-id-3 div.sk-dashed-wrapped {border: 1px dashed gray;margin: 0 0.4em 0.5em 0.4em;box-sizing: border-box;padding-bottom: 0.4em;background-color: white;}#sk-container-id-3 div.sk-label label {font-family: monospace;font-weight: bold;display: inline-block;line-height: 1.2em;}#sk-container-id-3 div.sk-label-container {text-align: center;}#sk-container-id-3 div.sk-container {/* jupyter's `normalize.less` sets `[hidden] { display: none; }` but bootstrap.min.css set `[hidden] { display: none !important; }` so we also need the `!important` here to be able to override the default hidden behavior on the sphinx rendered scikit-learn.org. See: https://github.com/scikit-learn/scikit-learn/issues/21755 */display: inline-block !important;position: relative;}#sk-container-id-3 div.sk-text-repr-fallback {display: none;}</style><div id=\"sk-container-id-3\" class=\"sk-top-container\"><div class=\"sk-text-repr-fallback\"><pre>KNeighborsRegressor()</pre><b>In a Jupyter environment, please rerun this cell to show the HTML representation or trust the notebook. <br />On GitHub, the HTML representation is unable to render, please try loading this page with nbviewer.org.</b></div><div class=\"sk-container\" hidden><div class=\"sk-item\"><div class=\"sk-estimator sk-toggleable\"><input class=\"sk-toggleable__control sk-hidden--visually\" id=\"sk-estimator-id-5\" type=\"checkbox\" checked><label for=\"sk-estimator-id-5\" class=\"sk-toggleable__label sk-toggleable__label-arrow\">KNeighborsRegressor</label><div class=\"sk-toggleable__content\"><pre>KNeighborsRegressor()</pre></div></div></div></div></div>"
            ]
          },
          "metadata": {},
          "execution_count": 36
        }
      ],
      "source": [
        "#Importing the KNeighborsRegressor from sklearn library\n",
        "from sklearn.neighbors import KNeighborsRegressor\n",
        "\n",
        "# Creating the model\n",
        "knn_model = KNeighborsRegressor(n_neighbors=5)\n",
        "\n",
        "# Training the model which is called fitting\n",
        "knn_model.fit(X_train, y_train)"
      ]
    },
    {
      "cell_type": "code",
      "execution_count": null,
      "metadata": {
        "id": "w4BaXwAh-lkP"
      },
      "outputs": [],
      "source": [
        "# Predicting on the train, val and test set\n",
        "y_pred_train_knn = knn_model.predict(X_train)\n",
        "y_pred_val_knn = knn_model.predict(X_val)\n",
        "y_pred_test_knn = knn_model.predict(X_test)"
      ]
    },
    {
      "cell_type": "code",
      "execution_count": null,
      "metadata": {
        "id": "g5ANHBSE-36A"
      },
      "outputs": [],
      "source": [
        "# Finding the Metrics of the model to know the performance.\n",
        "from sklearn.metrics import mean_squared_error, mean_absolute_error, r2_score\n",
        "mse_train_knn = mean_squared_error(y_train, y_pred_train_knn)\n",
        "mse_val_knn = mean_squared_error(y_val, y_pred_val_knn)\n",
        "mse_test_knn = mean_squared_error(y_test, y_pred_test_knn)\n",
        "\n",
        "r2_train_knn = r2_score(y_train, y_pred_train_knn)\n",
        "r2_val_knn = r2_score(y_val, y_pred_val_knn)\n",
        "r2_test_knn = r2_score(y_test, y_pred_test_knn)"
      ]
    },
    {
      "cell_type": "code",
      "execution_count": null,
      "metadata": {
        "colab": {
          "base_uri": "https://localhost:8080/"
        },
        "id": "uEBnLGQ7_Mlc",
        "outputId": "50eed693-7664-4df8-bfe0-bf51b348d8da"
      },
      "outputs": [
        {
          "output_type": "stream",
          "name": "stdout",
          "text": [
            "Training Set Mean Squared Error: 0.9567643855383462, R-squared: 0.043235614461653804\n",
            "Validation Set Mean Squared Error: 0.7640753743707739, R-squared: -0.011527211113641744\n",
            "Test Set Mean Squared Error: 0.8202509604384366, R-squared: 0.036040994224326384\n"
          ]
        }
      ],
      "source": [
        "#Mean Squared Error and R^2 Score values\n",
        "print(f'Training Set Mean Squared Error: {mse_train_knn}, R-squared: {r2_train_knn}')\n",
        "print(f'Validation Set Mean Squared Error: {mse_val_knn}, R-squared: {r2_val_knn}')\n",
        "print(f'Test Set Mean Squared Error: {mse_test_knn}, R-squared: {r2_test_knn}')"
      ]
    },
    {
      "cell_type": "code",
      "execution_count": null,
      "metadata": {
        "colab": {
          "base_uri": "https://localhost:8080/",
          "height": 507
        },
        "id": "FKTJ-lJKlt6n",
        "outputId": "8e37bc10-b651-4b15-dfc8-3246dfc4ad3e"
      },
      "outputs": [
        {
          "output_type": "display_data",
          "data": {
            "text/plain": [
              "<Figure size 1500x500 with 2 Axes>"
            ],
            "image/png": "[encoded data removed]"
          },
          "metadata": {}
        }
      ],
      "source": [
        "# Plotting the evaluation metrics using plt library\n",
        "fig, axs = plt.subplots(1, 2, figsize=(15, 5))\n",
        "\n",
        "# Mean Squared Error (MSE)\n",
        "axs[0].scatter(y_test, y_pred_test_knn, alpha=0.5)\n",
        "axs[0].plot([min(y_test), max(y_test)], [min(y_test), max(y_test)], 'k--', lw=2)\n",
        "axs[0].set_title(f'MSE: {mse_test_knn:.4f}')\n",
        "axs[0].set_xlabel('Actual')\n",
        "axs[0].set_ylabel('Predicted')\n",
        "\n",
        "# R^2 Score\n",
        "axs[1].scatter(y_test, y_pred_test_knn, alpha=0.5)\n",
        "axs[1].plot([min(y_test), max(y_test)], [min(y_test), max(y_test)], 'k--', lw=2)\n",
        "axs[1].set_title(f'R^2 Score: {r2_test_knn:.4f}')\n",
        "axs[1].set_xlabel('Actual')\n",
        "axs[1].set_ylabel('Predicted')\n",
        "\n",
        "plt.tight_layout()\n",
        "plt.show()"
      ]
    },
    {
      "cell_type": "markdown",
      "metadata": {
        "id": "zB91YRvQo1IT"
      },
      "source": [
        "# Hyperparameter Tuning"
      ]
    },
    {
      "cell_type": "markdown",
      "metadata": {
        "id": "LgsHBeeRHuVH"
      },
      "source": [
        "### Hyperparameter tuning involves selecting the optimal values for the hyperparameters of a machine learning model. It is a crucial step in the model development process because the choice of hyperparameters can significantly impact the performance of the model."
      ]
    },
    {
      "cell_type": "code",
      "execution_count": null,
      "metadata": {
        "id": "nATjh0HKl9r_"
      },
      "outputs": [],
      "source": [
        "from sklearn.model_selection import GridSearchCV"
      ]
    },
    {
      "cell_type": "code",
      "execution_count": null,
      "metadata": {
        "id": "Kqq4pD_TpD-P"
      },
      "outputs": [],
      "source": [
        "gs = GridSearchCV(estimator = KNeighborsRegressor(),\n",
        "                  param_grid = {\"n_neighbors\": range(1,51),\n",
        "                                \"weights\": ['uniform', 'distance'],},\n",
        "                                cv=5,\n",
        "                                )"
      ]
    },
    {
      "cell_type": "markdown",
      "source": [
        "## The range of the K values, weights, and CV value can be given as the user choice. Here we wanted to tune the model for K value between 1 to 51."
      ],
      "metadata": {
        "id": "qmlE7v4_Cr7D"
      }
    },
    {
      "cell_type": "markdown",
      "metadata": {
        "id": "EDptQAjlHxr5"
      },
      "source": [
        "### We are adopting Grid search cross validation method. This process systematically explore a predefined set of hyperparameter combination that yields the best model performance."
      ]
    },
    {
      "cell_type": "code",
      "execution_count": null,
      "metadata": {
        "colab": {
          "base_uri": "https://localhost:8080/",
          "height": 119
        },
        "id": "O6GAUGE7_xdT",
        "outputId": "c2b63054-ef96-4894-e52d-fd67c8830dab"
      },
      "outputs": [
        {
          "output_type": "execute_result",
          "data": {
            "text/plain": [
              "GridSearchCV(cv=5, estimator=KNeighborsRegressor(),\n",
              "             param_grid={'n_neighbors': range(1, 51),\n",
              "                         'weights': ['uniform', 'distance']})"
            ],
            "text/html": [
              "<style>#sk-container-id-4 {color: black;background-color: white;}#sk-container-id-4 pre{padding: 0;}#sk-container-id-4 div.sk-toggleable {background-color: white;}#sk-container-id-4 label.sk-toggleable__label {cursor: pointer;display: block;width: 100%;margin-bottom: 0;padding: 0.3em;box-sizing: border-box;text-align: center;}#sk-container-id-4 label.sk-toggleable__label-arrow:before {content: \"▸\";float: left;margin-right: 0.25em;color: #696969;}#sk-container-id-4 label.sk-toggleable__label-arrow:hover:before {color: black;}#sk-container-id-4 div.sk-estimator:hover label.sk-toggleable__label-arrow:before {color: black;}#sk-container-id-4 div.sk-toggleable__content {max-height: 0;max-width: 0;overflow: hidden;text-align: left;background-color: #f0f8ff;}#sk-container-id-4 div.sk-toggleable__content pre {margin: 0.2em;color: black;border-radius: 0.25em;background-color: #f0f8ff;}#sk-container-id-4 input.sk-toggleable__control:checked~div.sk-toggleable__content {max-height: 200px;max-width: 100%;overflow: auto;}#sk-container-id-4 input.sk-toggleable__control:checked~label.sk-toggleable__label-arrow:before {content: \"▾\";}#sk-container-id-4 div.sk-estimator input.sk-toggleable__control:checked~label.sk-toggleable__label {background-color: #d4ebff;}#sk-container-id-4 div.sk-label input.sk-toggleable__control:checked~label.sk-toggleable__label {background-color: #d4ebff;}#sk-container-id-4 input.sk-hidden--visually {border: 0;clip: rect(1px 1px 1px 1px);clip: rect(1px, 1px, 1px, 1px);height: 1px;margin: -1px;overflow: hidden;padding: 0;position: absolute;width: 1px;}#sk-container-id-4 div.sk-estimator {font-family: monospace;background-color: #f0f8ff;border: 1px dotted black;border-radius: 0.25em;box-sizing: border-box;margin-bottom: 0.5em;}#sk-container-id-4 div.sk-estimator:hover {background-color: #d4ebff;}#sk-container-id-4 div.sk-parallel-item::after {content: \"\";width: 100%;border-bottom: 1px solid gray;flex-grow: 1;}#sk-container-id-4 div.sk-label:hover label.sk-toggleable__label {background-color: #d4ebff;}#sk-container-id-4 div.sk-serial::before {content: \"\";position: absolute;border-left: 1px solid gray;box-sizing: border-box;top: 0;bottom: 0;left: 50%;z-index: 0;}#sk-container-id-4 div.sk-serial {display: flex;flex-direction: column;align-items: center;background-color: white;padding-right: 0.2em;padding-left: 0.2em;position: relative;}#sk-container-id-4 div.sk-item {position: relative;z-index: 1;}#sk-container-id-4 div.sk-parallel {display: flex;align-items: stretch;justify-content: center;background-color: white;position: relative;}#sk-container-id-4 div.sk-item::before, #sk-container-id-4 div.sk-parallel-item::before {content: \"\";position: absolute;border-left: 1px solid gray;box-sizing: border-box;top: 0;bottom: 0;left: 50%;z-index: -1;}#sk-container-id-4 div.sk-parallel-item {display: flex;flex-direction: column;z-index: 1;position: relative;background-color: white;}#sk-container-id-4 div.sk-parallel-item:first-child::after {align-self: flex-end;width: 50%;}#sk-container-id-4 div.sk-parallel-item:last-child::after {align-self: flex-start;width: 50%;}#sk-container-id-4 div.sk-parallel-item:only-child::after {width: 0;}#sk-container-id-4 div.sk-dashed-wrapped {border: 1px dashed gray;margin: 0 0.4em 0.5em 0.4em;box-sizing: border-box;padding-bottom: 0.4em;background-color: white;}#sk-container-id-4 div.sk-label label {font-family: monospace;font-weight: bold;display: inline-block;line-height: 1.2em;}#sk-container-id-4 div.sk-label-container {text-align: center;}#sk-container-id-4 div.sk-container {/* jupyter's `normalize.less` sets `[hidden] { display: none; }` but bootstrap.min.css set `[hidden] { display: none !important; }` so we also need the `!important` here to be able to override the default hidden behavior on the sphinx rendered scikit-learn.org. See: https://github.com/scikit-learn/scikit-learn/issues/21755 */display: inline-block !important;position: relative;}#sk-container-id-4 div.sk-text-repr-fallback {display: none;}</style><div id=\"sk-container-id-4\" class=\"sk-top-container\"><div class=\"sk-text-repr-fallback\"><pre>GridSearchCV(cv=5, estimator=KNeighborsRegressor(),\n",
              "             param_grid={&#x27;n_neighbors&#x27;: range(1, 51),\n",
              "                         &#x27;weights&#x27;: [&#x27;uniform&#x27;, &#x27;distance&#x27;]})</pre><b>In a Jupyter environment, please rerun this cell to show the HTML representation or trust the notebook. <br />On GitHub, the HTML representation is unable to render, please try loading this page with nbviewer.org.</b></div><div class=\"sk-container\" hidden><div class=\"sk-item sk-dashed-wrapped\"><div class=\"sk-label-container\"><div class=\"sk-label sk-toggleable\"><input class=\"sk-toggleable__control sk-hidden--visually\" id=\"sk-estimator-id-6\" type=\"checkbox\" ><label for=\"sk-estimator-id-6\" class=\"sk-toggleable__label sk-toggleable__label-arrow\">GridSearchCV</label><div class=\"sk-toggleable__content\"><pre>GridSearchCV(cv=5, estimator=KNeighborsRegressor(),\n",
              "             param_grid={&#x27;n_neighbors&#x27;: range(1, 51),\n",
              "                         &#x27;weights&#x27;: [&#x27;uniform&#x27;, &#x27;distance&#x27;]})</pre></div></div></div><div class=\"sk-parallel\"><div class=\"sk-parallel-item\"><div class=\"sk-item\"><div class=\"sk-label-container\"><div class=\"sk-label sk-toggleable\"><input class=\"sk-toggleable__control sk-hidden--visually\" id=\"sk-estimator-id-7\" type=\"checkbox\" ><label for=\"sk-estimator-id-7\" class=\"sk-toggleable__label sk-toggleable__label-arrow\">estimator: KNeighborsRegressor</label><div class=\"sk-toggleable__content\"><pre>KNeighborsRegressor()</pre></div></div></div><div class=\"sk-serial\"><div class=\"sk-item\"><div class=\"sk-estimator sk-toggleable\"><input class=\"sk-toggleable__control sk-hidden--visually\" id=\"sk-estimator-id-8\" type=\"checkbox\" ><label for=\"sk-estimator-id-8\" class=\"sk-toggleable__label sk-toggleable__label-arrow\">KNeighborsRegressor</label><div class=\"sk-toggleable__content\"><pre>KNeighborsRegressor()</pre></div></div></div></div></div></div></div></div></div></div>"
            ]
          },
          "metadata": {},
          "execution_count": 43
        }
      ],
      "source": [
        "gs.fit(X_train, y_train)"
      ]
    },
    {
      "cell_type": "code",
      "execution_count": null,
      "metadata": {
        "colab": {
          "base_uri": "https://localhost:8080/"
        },
        "id": "fABfXDsN_2iW",
        "outputId": "d34fb739-d334-4cf6-c023-da91e00c098b"
      },
      "outputs": [
        {
          "output_type": "execute_result",
          "data": {
            "text/plain": [
              "{'mean_fit_time': array([0.00801525, 0.00953112, 0.00838785, 0.0081233 , 0.00783486,\n",
              "        0.00800323, 0.00729799, 0.00453944, 0.00458965, 0.00460229,\n",
              "        0.00465856, 0.00484419, 0.00455437, 0.00507927, 0.00460482,\n",
              "        0.00465131, 0.0045795 , 0.00464063, 0.00457954, 0.00454545,\n",
              "        0.00460658, 0.00456724, 0.0045351 , 0.00485334, 0.00483503,\n",
              "        0.00459042, 0.00458913, 0.00465283, 0.0045372 , 0.00472431,\n",
              "        0.00461836, 0.00731969, 0.00792408, 0.00809841, 0.00791988,\n",
              "        0.00798893, 0.00827422, 0.0053174 , 0.00459471, 0.00453548,\n",
              "        0.00455523, 0.00497923, 0.00462375, 0.00459514, 0.00456524,\n",
              "        0.00461016, 0.00507846, 0.00453844, 0.00457487, 0.00458074,\n",
              "        0.00455475, 0.00452833, 0.00456667, 0.00462246, 0.00452523,\n",
              "        0.00464573, 0.00457683, 0.00474281, 0.00461011, 0.00468283,\n",
              "        0.00464501, 0.00679045, 0.00826402, 0.00793262, 0.00796194,\n",
              "        0.00891886, 0.00773067, 0.00520005, 0.00513225, 0.0045609 ,\n",
              "        0.00460019, 0.00458884, 0.00459542, 0.00452986, 0.00471482,\n",
              "        0.00458889, 0.00462012, 0.00457602, 0.00454707, 0.0046175 ,\n",
              "        0.00459819, 0.0048522 , 0.00535688, 0.00480213, 0.00454817,\n",
              "        0.00481834, 0.00463438, 0.00476522, 0.00455456, 0.00498004,\n",
              "        0.00745888, 0.00891891, 0.00790787, 0.00789943, 0.00791616,\n",
              "        0.00717998, 0.00525875, 0.00471478, 0.0045733 , 0.00468998]),\n",
              " 'std_fit_time': array([5.18619032e-04, 2.24371228e-03, 6.68956775e-04, 1.30284844e-04,\n",
              "        8.29617417e-04, 3.21836188e-04, 2.55558238e-03, 9.29979655e-05,\n",
              "        1.18248655e-04, 8.85040595e-05, 2.72224851e-04, 5.08897361e-04,\n",
              "        8.96344280e-05, 9.13132326e-04, 9.81943062e-05, 1.04127742e-04,\n",
              "        1.34216523e-04, 1.39822315e-04, 7.43786490e-05, 1.30602642e-04,\n",
              "        8.45492388e-05, 1.48880413e-04, 9.09350589e-05, 4.76227528e-04,\n",
              "        4.72950199e-04, 8.85627434e-05, 1.57316694e-04, 1.40316462e-04,\n",
              "        7.69770263e-05, 3.44976093e-04, 7.80468089e-05, 1.21506419e-03,\n",
              "        1.56883556e-04, 1.98965320e-04, 1.11536849e-04, 1.35296861e-04,\n",
              "        6.16036545e-04, 1.51504993e-03, 1.66530938e-04, 1.44016932e-04,\n",
              "        7.64071102e-05, 8.13016243e-04, 1.86255829e-04, 1.85607760e-04,\n",
              "        6.47926780e-05, 7.61941316e-05, 1.14045199e-03, 7.85373526e-05,\n",
              "        2.08995697e-04, 9.78282303e-05, 1.02529525e-04, 5.73963007e-05,\n",
              "        1.02504130e-04, 1.75725459e-04, 7.29670548e-05, 1.77519090e-04,\n",
              "        1.19343263e-04, 3.38340389e-04, 9.57316833e-05, 9.11811151e-05,\n",
              "        1.52919870e-04, 1.19708714e-03, 9.35480307e-04, 1.06849770e-04,\n",
              "        1.40526783e-04, 1.27620103e-03, 2.31837393e-04, 1.31565348e-03,\n",
              "        1.19181279e-03, 7.20693896e-05, 1.00005565e-04, 1.59797302e-04,\n",
              "        6.93399931e-05, 8.84856887e-05, 3.90006788e-04, 1.23962658e-04,\n",
              "        9.31037709e-05, 8.20522173e-05, 7.95970201e-05, 4.13836967e-05,\n",
              "        1.09911368e-04, 4.91409983e-04, 1.18451760e-03, 5.61843620e-04,\n",
              "        1.12609272e-04, 5.30174769e-04, 1.05613456e-04, 4.68536668e-04,\n",
              "        1.00244554e-04, 8.80516338e-04, 1.45804849e-03, 1.71500166e-03,\n",
              "        2.97988241e-04, 1.48161109e-04, 2.31585106e-04, 1.34517843e-03,\n",
              "        1.39327737e-03, 2.84461898e-04, 1.18331961e-04, 2.86596721e-04]),\n",
              " 'mean_score_time': array([0.13619685, 0.13293543, 0.13700299, 0.13691263, 0.13875155,\n",
              "        0.13298759, 0.10410433, 0.07440166, 0.0772675 , 0.07488036,\n",
              "        0.07924948, 0.07495632, 0.07465882, 0.0776629 , 0.07601643,\n",
              "        0.07803798, 0.0753233 , 0.07428236, 0.08095422, 0.07565103,\n",
              "        0.07836733, 0.07478204, 0.0745153 , 0.07959709, 0.07547007,\n",
              "        0.07750053, 0.07554669, 0.07606649, 0.07757359, 0.07734728,\n",
              "        0.07801208, 0.13727059, 0.13881912, 0.14070396, 0.13605456,\n",
              "        0.14078412, 0.13803878, 0.08509793, 0.07964559, 0.07592983,\n",
              "        0.07587395, 0.07917833, 0.07572885, 0.07919021, 0.07643747,\n",
              "        0.07851758, 0.07621288, 0.07647667, 0.07939987, 0.07791104,\n",
              "        0.07901926, 0.0770679 , 0.07789712, 0.07910037, 0.07665205,\n",
              "        0.08032231, 0.07793121, 0.08054047, 0.07920561, 0.08129892,\n",
              "        0.08190227, 0.13146467, 0.14162951, 0.14580903, 0.14303408,\n",
              "        0.1443408 , 0.14209633, 0.08242183, 0.08116293, 0.0844399 ,\n",
              "        0.08093367, 0.07981062, 0.082866  , 0.07934189, 0.07912126,\n",
              "        0.08173895, 0.0798666 , 0.081706  , 0.07960825, 0.08263078,\n",
              "        0.08328223, 0.08127069, 0.08092971, 0.08194733, 0.08250394,\n",
              "        0.08162165, 0.08211641, 0.08295135, 0.08241696, 0.08342819,\n",
              "        0.14336438, 0.14731936, 0.14872222, 0.14713035, 0.148669  ,\n",
              "        0.13592825, 0.08330503, 0.08283391, 0.0846396 , 0.08733726]),\n",
              " 'std_score_time': array([0.0056579 , 0.0027646 , 0.00387062, 0.0042436 , 0.00351627,\n",
              "        0.00367066, 0.02667208, 0.00190359, 0.00306352, 0.00116775,\n",
              "        0.00629851, 0.00153126, 0.00141591, 0.0032602 , 0.00293787,\n",
              "        0.00418149, 0.00226179, 0.00119612, 0.00428268, 0.00326308,\n",
              "        0.00323629, 0.00188587, 0.00064394, 0.00383841, 0.00146379,\n",
              "        0.00364512, 0.00136832, 0.00193477, 0.00526944, 0.00173049,\n",
              "        0.00545093, 0.00234017, 0.00467601, 0.00770608, 0.00126222,\n",
              "        0.00170118, 0.0034258 , 0.01816523, 0.00326434, 0.00074916,\n",
              "        0.00128516, 0.00413687, 0.00101872, 0.00375347, 0.00063943,\n",
              "        0.00298869, 0.0017323 , 0.0010643 , 0.00537609, 0.00243441,\n",
              "        0.00365781, 0.0010823 , 0.00244963, 0.0032334 , 0.00056076,\n",
              "        0.00451534, 0.00147392, 0.00221315, 0.00291164, 0.00565197,\n",
              "        0.00352036, 0.01740475, 0.00286395, 0.00367527, 0.00308239,\n",
              "        0.0030004 , 0.00388018, 0.00351765, 0.00374102, 0.00459098,\n",
              "        0.00349674, 0.0015377 , 0.00531698, 0.00126036, 0.0004524 ,\n",
              "        0.0034235 , 0.00132228, 0.00396168, 0.0017099 , 0.00215976,\n",
              "        0.00374269, 0.00212753, 0.00144894, 0.00170677, 0.00381356,\n",
              "        0.00175876, 0.00200643, 0.00430953, 0.00207156, 0.00303782,\n",
              "        0.01223051, 0.00168329, 0.00185323, 0.00124995, 0.00437613,\n",
              "        0.02598114, 0.00381151, 0.00110486, 0.00398225, 0.00487383]),\n",
              " 'param_n_neighbors': masked_array(data=[1, 1, 2, 2, 3, 3, 4, 4, 5, 5, 6, 6, 7, 7, 8, 8, 9, 9,\n",
              "                    10, 10, 11, 11, 12, 12, 13, 13, 14, 14, 15, 15, 16, 16,\n",
              "                    17, 17, 18, 18, 19, 19, 20, 20, 21, 21, 22, 22, 23, 23,\n",
              "                    24, 24, 25, 25, 26, 26, 27, 27, 28, 28, 29, 29, 30, 30,\n",
              "                    31, 31, 32, 32, 33, 33, 34, 34, 35, 35, 36, 36, 37, 37,\n",
              "                    38, 38, 39, 39, 40, 40, 41, 41, 42, 42, 43, 43, 44, 44,\n",
              "                    45, 45, 46, 46, 47, 47, 48, 48, 49, 49, 50, 50],\n",
              "              mask=[False, False, False, False, False, False, False, False,\n",
              "                    False, False, False, False, False, False, False, False,\n",
              "                    False, False, False, False, False, False, False, False,\n",
              "                    False, False, False, False, False, False, False, False,\n",
              "                    False, False, False, False, False, False, False, False,\n",
              "                    False, False, False, False, False, False, False, False,\n",
              "                    False, False, False, False, False, False, False, False,\n",
              "                    False, False, False, False, False, False, False, False,\n",
              "                    False, False, False, False, False, False, False, False,\n",
              "                    False, False, False, False, False, False, False, False,\n",
              "                    False, False, False, False, False, False, False, False,\n",
              "                    False, False, False, False, False, False, False, False,\n",
              "                    False, False, False, False],\n",
              "        fill_value='?',\n",
              "             dtype=object),\n",
              " 'param_weights': masked_array(data=['uniform', 'distance', 'uniform', 'distance',\n",
              "                    'uniform', 'distance', 'uniform', 'distance',\n",
              "                    'uniform', 'distance', 'uniform', 'distance',\n",
              "                    'uniform', 'distance', 'uniform', 'distance',\n",
              "                    'uniform', 'distance', 'uniform', 'distance',\n",
              "                    'uniform', 'distance', 'uniform', 'distance',\n",
              "                    'uniform', 'distance', 'uniform', 'distance',\n",
              "                    'uniform', 'distance', 'uniform', 'distance',\n",
              "                    'uniform', 'distance', 'uniform', 'distance',\n",
              "                    'uniform', 'distance', 'uniform', 'distance',\n",
              "                    'uniform', 'distance', 'uniform', 'distance',\n",
              "                    'uniform', 'distance', 'uniform', 'distance',\n",
              "                    'uniform', 'distance', 'uniform', 'distance',\n",
              "                    'uniform', 'distance', 'uniform', 'distance',\n",
              "                    'uniform', 'distance', 'uniform', 'distance',\n",
              "                    'uniform', 'distance', 'uniform', 'distance',\n",
              "                    'uniform', 'distance', 'uniform', 'distance',\n",
              "                    'uniform', 'distance', 'uniform', 'distance',\n",
              "                    'uniform', 'distance', 'uniform', 'distance',\n",
              "                    'uniform', 'distance', 'uniform', 'distance',\n",
              "                    'uniform', 'distance', 'uniform', 'distance',\n",
              "                    'uniform', 'distance', 'uniform', 'distance',\n",
              "                    'uniform', 'distance', 'uniform', 'distance',\n",
              "                    'uniform', 'distance', 'uniform', 'distance',\n",
              "                    'uniform', 'distance', 'uniform', 'distance'],\n",
              "              mask=[False, False, False, False, False, False, False, False,\n",
              "                    False, False, False, False, False, False, False, False,\n",
              "                    False, False, False, False, False, False, False, False,\n",
              "                    False, False, False, False, False, False, False, False,\n",
              "                    False, False, False, False, False, False, False, False,\n",
              "                    False, False, False, False, False, False, False, False,\n",
              "                    False, False, False, False, False, False, False, False,\n",
              "                    False, False, False, False, False, False, False, False,\n",
              "                    False, False, False, False, False, False, False, False,\n",
              "                    False, False, False, False, False, False, False, False,\n",
              "                    False, False, False, False, False, False, False, False,\n",
              "                    False, False, False, False, False, False, False, False,\n",
              "                    False, False, False, False],\n",
              "        fill_value='?',\n",
              "             dtype=object),\n",
              " 'params': [{'n_neighbors': 1, 'weights': 'uniform'},\n",
              "  {'n_neighbors': 1, 'weights': 'distance'},\n",
              "  {'n_neighbors': 2, 'weights': 'uniform'},\n",
              "  {'n_neighbors': 2, 'weights': 'distance'},\n",
              "  {'n_neighbors': 3, 'weights': 'uniform'},\n",
              "  {'n_neighbors': 3, 'weights': 'distance'},\n",
              "  {'n_neighbors': 4, 'weights': 'uniform'},\n",
              "  {'n_neighbors': 4, 'weights': 'distance'},\n",
              "  {'n_neighbors': 5, 'weights': 'uniform'},\n",
              "  {'n_neighbors': 5, 'weights': 'distance'},\n",
              "  {'n_neighbors': 6, 'weights': 'uniform'},\n",
              "  {'n_neighbors': 6, 'weights': 'distance'},\n",
              "  {'n_neighbors': 7, 'weights': 'uniform'},\n",
              "  {'n_neighbors': 7, 'weights': 'distance'},\n",
              "  {'n_neighbors': 8, 'weights': 'uniform'},\n",
              "  {'n_neighbors': 8, 'weights': 'distance'},\n",
              "  {'n_neighbors': 9, 'weights': 'uniform'},\n",
              "  {'n_neighbors': 9, 'weights': 'distance'},\n",
              "  {'n_neighbors': 10, 'weights': 'uniform'},\n",
              "  {'n_neighbors': 10, 'weights': 'distance'},\n",
              "  {'n_neighbors': 11, 'weights': 'uniform'},\n",
              "  {'n_neighbors': 11, 'weights': 'distance'},\n",
              "  {'n_neighbors': 12, 'weights': 'uniform'},\n",
              "  {'n_neighbors': 12, 'weights': 'distance'},\n",
              "  {'n_neighbors': 13, 'weights': 'uniform'},\n",
              "  {'n_neighbors': 13, 'weights': 'distance'},\n",
              "  {'n_neighbors': 14, 'weights': 'uniform'},\n",
              "  {'n_neighbors': 14, 'weights': 'distance'},\n",
              "  {'n_neighbors': 15, 'weights': 'uniform'},\n",
              "  {'n_neighbors': 15, 'weights': 'distance'},\n",
              "  {'n_neighbors': 16, 'weights': 'uniform'},\n",
              "  {'n_neighbors': 16, 'weights': 'distance'},\n",
              "  {'n_neighbors': 17, 'weights': 'uniform'},\n",
              "  {'n_neighbors': 17, 'weights': 'distance'},\n",
              "  {'n_neighbors': 18, 'weights': 'uniform'},\n",
              "  {'n_neighbors': 18, 'weights': 'distance'},\n",
              "  {'n_neighbors': 19, 'weights': 'uniform'},\n",
              "  {'n_neighbors': 19, 'weights': 'distance'},\n",
              "  {'n_neighbors': 20, 'weights': 'uniform'},\n",
              "  {'n_neighbors': 20, 'weights': 'distance'},\n",
              "  {'n_neighbors': 21, 'weights': 'uniform'},\n",
              "  {'n_neighbors': 21, 'weights': 'distance'},\n",
              "  {'n_neighbors': 22, 'weights': 'uniform'},\n",
              "  {'n_neighbors': 22, 'weights': 'distance'},\n",
              "  {'n_neighbors': 23, 'weights': 'uniform'},\n",
              "  {'n_neighbors': 23, 'weights': 'distance'},\n",
              "  {'n_neighbors': 24, 'weights': 'uniform'},\n",
              "  {'n_neighbors': 24, 'weights': 'distance'},\n",
              "  {'n_neighbors': 25, 'weights': 'uniform'},\n",
              "  {'n_neighbors': 25, 'weights': 'distance'},\n",
              "  {'n_neighbors': 26, 'weights': 'uniform'},\n",
              "  {'n_neighbors': 26, 'weights': 'distance'},\n",
              "  {'n_neighbors': 27, 'weights': 'uniform'},\n",
              "  {'n_neighbors': 27, 'weights': 'distance'},\n",
              "  {'n_neighbors': 28, 'weights': 'uniform'},\n",
              "  {'n_neighbors': 28, 'weights': 'distance'},\n",
              "  {'n_neighbors': 29, 'weights': 'uniform'},\n",
              "  {'n_neighbors': 29, 'weights': 'distance'},\n",
              "  {'n_neighbors': 30, 'weights': 'uniform'},\n",
              "  {'n_neighbors': 30, 'weights': 'distance'},\n",
              "  {'n_neighbors': 31, 'weights': 'uniform'},\n",
              "  {'n_neighbors': 31, 'weights': 'distance'},\n",
              "  {'n_neighbors': 32, 'weights': 'uniform'},\n",
              "  {'n_neighbors': 32, 'weights': 'distance'},\n",
              "  {'n_neighbors': 33, 'weights': 'uniform'},\n",
              "  {'n_neighbors': 33, 'weights': 'distance'},\n",
              "  {'n_neighbors': 34, 'weights': 'uniform'},\n",
              "  {'n_neighbors': 34, 'weights': 'distance'},\n",
              "  {'n_neighbors': 35, 'weights': 'uniform'},\n",
              "  {'n_neighbors': 35, 'weights': 'distance'},\n",
              "  {'n_neighbors': 36, 'weights': 'uniform'},\n",
              "  {'n_neighbors': 36, 'weights': 'distance'},\n",
              "  {'n_neighbors': 37, 'weights': 'uniform'},\n",
              "  {'n_neighbors': 37, 'weights': 'distance'},\n",
              "  {'n_neighbors': 38, 'weights': 'uniform'},\n",
              "  {'n_neighbors': 38, 'weights': 'distance'},\n",
              "  {'n_neighbors': 39, 'weights': 'uniform'},\n",
              "  {'n_neighbors': 39, 'weights': 'distance'},\n",
              "  {'n_neighbors': 40, 'weights': 'uniform'},\n",
              "  {'n_neighbors': 40, 'weights': 'distance'},\n",
              "  {'n_neighbors': 41, 'weights': 'uniform'},\n",
              "  {'n_neighbors': 41, 'weights': 'distance'},\n",
              "  {'n_neighbors': 42, 'weights': 'uniform'},\n",
              "  {'n_neighbors': 42, 'weights': 'distance'},\n",
              "  {'n_neighbors': 43, 'weights': 'uniform'},\n",
              "  {'n_neighbors': 43, 'weights': 'distance'},\n",
              "  {'n_neighbors': 44, 'weights': 'uniform'},\n",
              "  {'n_neighbors': 44, 'weights': 'distance'},\n",
              "  {'n_neighbors': 45, 'weights': 'uniform'},\n",
              "  {'n_neighbors': 45, 'weights': 'distance'},\n",
              "  {'n_neighbors': 46, 'weights': 'uniform'},\n",
              "  {'n_neighbors': 46, 'weights': 'distance'},\n",
              "  {'n_neighbors': 47, 'weights': 'uniform'},\n",
              "  {'n_neighbors': 47, 'weights': 'distance'},\n",
              "  {'n_neighbors': 48, 'weights': 'uniform'},\n",
              "  {'n_neighbors': 48, 'weights': 'distance'},\n",
              "  {'n_neighbors': 49, 'weights': 'uniform'},\n",
              "  {'n_neighbors': 49, 'weights': 'distance'},\n",
              "  {'n_neighbors': 50, 'weights': 'uniform'},\n",
              "  {'n_neighbors': 50, 'weights': 'distance'}],\n",
              " 'split0_test_score': array([-1.47272443, -1.47272443, -0.27611305, -0.27611305, -0.06136168,\n",
              "        -0.06136168, -0.01494561, -0.01494561,  0.03706829,  0.03684656,\n",
              "        -0.04367638, -0.04407302, -0.02959792, -0.02958669, -0.02857014,\n",
              "        -0.02918721,  0.03221009,  0.03161702,  0.04207853,  0.04103555,\n",
              "         0.04910605,  0.04830499,  0.05476352,  0.05369228,  0.06182526,\n",
              "         0.06036359,  0.06166704,  0.0604206 ,  0.06117964,  0.05998909,\n",
              "         0.06159797,  0.06059287,  0.06230044,  0.06133968,  0.06232551,\n",
              "         0.06159453,  0.06630245,  0.06532547,  0.07230837,  0.07111358,\n",
              "         0.07207813,  0.07047953,  0.07245128,  0.07104811,  0.07336383,\n",
              "         0.07219494,  0.07037756,  0.06919936,  0.07003183,  0.06882577,\n",
              "         0.0705032 ,  0.06928526,  0.07102558,  0.06984967,  0.07122047,\n",
              "         0.07018136,  0.07569805,  0.07470411,  0.07870411,  0.07737332,\n",
              "         0.07850404,  0.07721222,  0.07318463,  0.07180049,  0.07313924,\n",
              "         0.07189105,  0.07495876,  0.07347345,  0.07520624,  0.07332008,\n",
              "         0.06946221,  0.067658  ,  0.06861691,  0.0669379 ,  0.06070331,\n",
              "         0.05930313,  0.06026491,  0.05869214,  0.06466986,  0.06295941,\n",
              "         0.0617941 ,  0.06015165,  0.06187789,  0.06004523,  0.06695402,\n",
              "         0.06526772,  0.06671086,  0.06490662,  0.06899819,  0.06731808,\n",
              "         0.06369994,  0.06208005,  0.06771628,  0.06590295,  0.06762653,\n",
              "         0.06595275,  0.0657187 ,  0.06405518,  0.06548954,  0.06382723]),\n",
              " 'split1_test_score': array([-0.44065461, -0.44065461, -0.18987865, -0.18987865, -0.0424787 ,\n",
              "        -0.0424787 ,  0.04781386,  0.04781386,  0.04484537,  0.04484537,\n",
              "        -0.07609716, -0.07598581, -0.04380022, -0.04383261, -0.01202094,\n",
              "        -0.01177315,  0.00737119,  0.00692211,  0.00664915,  0.00601701,\n",
              "         0.01957592,  0.01853909,  0.04853662,  0.04763806,  0.06895732,\n",
              "         0.06816068,  0.06973933,  0.0693461 ,  0.06337532,  0.06246677,\n",
              "         0.07866736,  0.07799771,  0.08177705,  0.08061522,  0.08725616,\n",
              "         0.08555629,  0.08877651,  0.08718162,  0.09002751,  0.08816591,\n",
              "         0.08796839,  0.08628212,  0.08922363,  0.08787753,  0.09200018,\n",
              "         0.09063051,  0.09258784,  0.09080377,  0.09368104,  0.09179919,\n",
              "         0.09500065,  0.09298438,  0.09442947,  0.09238262,  0.09480309,\n",
              "         0.09287412,  0.09359737,  0.09166497,  0.09658832,  0.09465816,\n",
              "         0.09677713,  0.0949384 ,  0.09634194,  0.09458142,  0.09741928,\n",
              "         0.09550488,  0.0935641 ,  0.09154461,  0.09388412,  0.09201921,\n",
              "         0.09729885,  0.09530936,  0.09711874,  0.0952684 ,  0.09768175,\n",
              "         0.0957482 ,  0.09841813,  0.09646963,  0.10084743,  0.09880465,\n",
              "         0.0984792 ,  0.09659391,  0.09290541,  0.09086867,  0.09250145,\n",
              "         0.09039612,  0.09463296,  0.09255057,  0.09455926,  0.0923567 ,\n",
              "         0.09675822,  0.09482172,  0.09958302,  0.09780666,  0.10076884,\n",
              "         0.09898733,  0.10096792,  0.09910802,  0.10018563,  0.09831855]),\n",
              " 'split2_test_score': array([-0.12019082, -0.12019082, -0.00898799, -0.00898799, -0.16873813,\n",
              "        -0.16873813, -0.1170423 , -0.1170423 , -0.05759283, -0.05759283,\n",
              "        -0.02375594, -0.02348225,  0.01174026,  0.01241465,  0.06134746,\n",
              "         0.06188721,  0.06931466,  0.07000719,  0.06822651,  0.06925271,\n",
              "         0.07000979,  0.07072008,  0.07143454,  0.07202559,  0.07613427,\n",
              "         0.07655061,  0.0781443 ,  0.07860692,  0.06744161,  0.06793292,\n",
              "         0.06733117,  0.0678497 ,  0.07201687,  0.07197965,  0.07507494,\n",
              "         0.07493898,  0.07329353,  0.07339224,  0.07775204,  0.07804842,\n",
              "         0.07618297,  0.07636409,  0.07771793,  0.07788761,  0.07258743,\n",
              "         0.07234198,  0.07349357,  0.07330111,  0.08004354,  0.07977871,\n",
              "         0.082654  ,  0.08228949,  0.08484617,  0.08458212,  0.0870852 ,\n",
              "         0.08676356,  0.08802432,  0.08774992,  0.08714762,  0.08674657,\n",
              "         0.08719551,  0.086879  ,  0.08600427,  0.0855353 ,  0.08566056,\n",
              "         0.08525195,  0.08218124,  0.0818122 ,  0.0833239 ,  0.08299889,\n",
              "         0.08246206,  0.08197405,  0.08211145,  0.08157027,  0.08229873,\n",
              "         0.08161633,  0.0805487 ,  0.07982142,  0.0834051 ,  0.08272694,\n",
              "         0.08472079,  0.08404289,  0.08622287,  0.08530843,  0.08633568,\n",
              "         0.08546597,  0.08763367,  0.08675082,  0.08529587,  0.08458153,\n",
              "         0.08455642,  0.08377486,  0.08551396,  0.08467498,  0.08631065,\n",
              "         0.08545817,  0.08681461,  0.0860162 ,  0.08766347,  0.08691376]),\n",
              " 'split3_test_score': array([-0.21833704, -0.21833704,  0.01385029,  0.01418469, -0.01507716,\n",
              "        -0.01459466,  0.03005926,  0.03062267,  0.03961184,  0.04008039,\n",
              "        -0.01482677, -0.01400659,  0.00133463,  0.00203803,  0.00233685,\n",
              "         0.00307909, -0.02161765, -0.02068358, -0.00192928, -0.00083548,\n",
              "        -0.00163344, -0.00077366,  0.04223863,  0.04334869,  0.06434171,\n",
              "         0.06566514,  0.03820446,  0.03938575,  0.04891901,  0.04991579,\n",
              "         0.05009086,  0.05110722,  0.05227469,  0.05307687,  0.05279875,\n",
              "         0.05366087,  0.05401965,  0.05499403,  0.05546182,  0.05666868,\n",
              "         0.06186001,  0.06260275,  0.07197837,  0.07285476,  0.07429333,\n",
              "         0.07523708,  0.07307723,  0.07398342,  0.07281772,  0.07371474,\n",
              "         0.07319754,  0.07404958,  0.07592071,  0.07668893,  0.07778832,\n",
              "         0.07851054,  0.07850273,  0.0791226 ,  0.07647762,  0.07712098,\n",
              "         0.0767808 ,  0.07737469,  0.07835368,  0.07893578,  0.08129272,\n",
              "         0.08194426,  0.08039706,  0.08095596,  0.07571149,  0.076286  ,\n",
              "         0.07594806,  0.07659976,  0.08278506,  0.08342252,  0.08314753,\n",
              "         0.08388142,  0.08358157,  0.08436328,  0.08681702,  0.08758265,\n",
              "         0.08325365,  0.08401928,  0.08178419,  0.08266417,  0.08215686,\n",
              "         0.08307719,  0.08127567,  0.08210024,  0.08682998,  0.08759792,\n",
              "         0.08643147,  0.08727875,  0.08178827,  0.08266641,  0.08266874,\n",
              "         0.08353949,  0.08166219,  0.08262081,  0.08217975,  0.08317006]),\n",
              " 'split4_test_score': array([-0.06300213, -0.06300213, -0.0387395 , -0.03889904,  0.00975585,\n",
              "         0.00960003,  0.00456328,  0.0044389 ,  0.00811065,  0.00809185,\n",
              "        -0.04095707, -0.04069164, -0.02199858, -0.02174059, -0.02875005,\n",
              "        -0.02785091, -0.02017418, -0.01921701, -0.00047312,  0.00028345,\n",
              "         0.01155294,  0.01213919,  0.02862505,  0.02924546,  0.03176674,\n",
              "         0.03104832,  0.02004551,  0.01934351,  0.02636463,  0.02573687,\n",
              "         0.03327774,  0.03259929,  0.03693038,  0.03550966,  0.03068268,\n",
              "         0.02963705,  0.03773194,  0.03649214,  0.04023079,  0.0393951 ,\n",
              "         0.03797454,  0.03677156,  0.04001507,  0.03892969,  0.04079816,\n",
              "         0.03992316,  0.04087139,  0.03985521,  0.04120275,  0.0401726 ,\n",
              "         0.04242697,  0.04173677,  0.04121249,  0.04055941,  0.03881725,\n",
              "         0.03789613,  0.04846946,  0.0474059 ,  0.05068058,  0.04994509,\n",
              "         0.05073116,  0.04996023,  0.05252518,  0.05135988,  0.05236314,\n",
              "         0.05193511,  0.05399481,  0.053354  ,  0.05106177,  0.05005994,\n",
              "         0.05398053,  0.05278927,  0.04892814,  0.04766803,  0.05048955,\n",
              "         0.04958233,  0.05160736,  0.05047023,  0.05252985,  0.05150141,\n",
              "         0.05051743,  0.04923302,  0.04924178,  0.0476901 ,  0.04928655,\n",
              "         0.04774241,  0.05034794,  0.04860543,  0.04589387,  0.04411901,\n",
              "         0.05025477,  0.04861688,  0.04705124,  0.04535764,  0.04874495,\n",
              "         0.0470435 ,  0.04788596,  0.04609096,  0.04715012,  0.04528325]),\n",
              " 'mean_test_score': array([-0.4629818 , -0.4629818 , -0.09997378, -0.09993881, -0.05557996,\n",
              "        -0.05551463, -0.0099103 , -0.0098225 ,  0.01440866,  0.01445427,\n",
              "        -0.03986266, -0.03964786, -0.01646437, -0.01614144, -0.00113136,\n",
              "        -0.00076899,  0.01342082,  0.01372915,  0.02291036,  0.02315065,\n",
              "         0.02972225,  0.02978594,  0.04911967,  0.04919002,  0.06060506,\n",
              "         0.06035767,  0.05356013,  0.05342057,  0.05345604,  0.05320829,\n",
              "         0.05819302,  0.05802936,  0.06105989,  0.06050422,  0.06162761,\n",
              "         0.06107754,  0.06402482,  0.0634771 ,  0.06715611,  0.06667834,\n",
              "         0.06721281,  0.06650001,  0.07027726,  0.06971954,  0.07060859,\n",
              "         0.07006553,  0.07008152,  0.06942857,  0.07155538,  0.0708582 ,\n",
              "         0.07275647,  0.0720691 ,  0.07348688,  0.07281255,  0.07394287,\n",
              "         0.07324514,  0.07685839,  0.0761295 ,  0.07791965,  0.07716882,\n",
              "         0.07799773,  0.07727291,  0.07728194,  0.07644258,  0.07797499,\n",
              "         0.07730545,  0.0770192 ,  0.07622804,  0.0758375 ,  0.07493683,\n",
              "         0.07583034,  0.07486609,  0.07591206,  0.07497342,  0.07486417,\n",
              "         0.07402628,  0.07488413,  0.07396334,  0.07765385,  0.07671501,\n",
              "         0.07575304,  0.07480815,  0.07440643,  0.07331532,  0.07544691,\n",
              "         0.07438988,  0.07612022,  0.07498274,  0.07631543,  0.07519465,\n",
              "         0.07634016,  0.07531445,  0.07633055,  0.07528173,  0.07722394,\n",
              "         0.07619625,  0.07660988,  0.07557823,  0.0765337 ,  0.07550257]),\n",
              " 'std_test_score': array([0.5210411 , 0.5210411 , 0.11321828, 0.11326837, 0.06151274,\n",
              "        0.06154356, 0.05769185, 0.05776414, 0.03820715, 0.03824395,\n",
              "        0.02104711, 0.02125991, 0.02031094, 0.02061489, 0.03331634,\n",
              "        0.03347454, 0.0342639 , 0.03406821, 0.02774597, 0.02770225,\n",
              "        0.02613453, 0.02603977, 0.01412462, 0.01397175, 0.01521852,\n",
              "        0.01555831, 0.02140512, 0.02142521, 0.01488739, 0.01492671,\n",
              "        0.01549654, 0.01546836, 0.01555769, 0.01559954, 0.01935809,\n",
              "        0.01915791, 0.01729255, 0.01711012, 0.01745651, 0.0170601 ,\n",
              "        0.01684315, 0.01675373, 0.01635695, 0.01646839, 0.01656107,\n",
              "        0.01654051, 0.01661608, 0.0165365 , 0.01724407, 0.01715807,\n",
              "        0.01742363, 0.01716757, 0.0180069 , 0.01780775, 0.01930739,\n",
              "        0.01925985, 0.01558752, 0.0155719 , 0.01535146, 0.01509163,\n",
              "        0.01537835, 0.01516801, 0.01463008, 0.01461918, 0.0150167 ,\n",
              "        0.01475706, 0.01300891, 0.01279799, 0.01411367, 0.0140007 ,\n",
              "        0.01430285, 0.01421829, 0.01622803, 0.01635204, 0.01696573,\n",
              "        0.01697558, 0.01683515, 0.01693603, 0.01705745, 0.01712976,\n",
              "        0.01723279, 0.01739911, 0.01628801, 0.01656564, 0.01556239,\n",
              "        0.01579652, 0.01584049, 0.01609389, 0.01733814, 0.01768743,\n",
              "        0.0168906 , 0.01722305, 0.0178117 , 0.01807513, 0.01771857,\n",
              "        0.01796637, 0.01825737, 0.01851745, 0.01844197, 0.01875684]),\n",
              " 'rank_test_score': array([99, 99, 98, 97, 96, 95, 90, 89, 84, 83, 94, 93, 92, 91, 88, 87, 86,\n",
              "        85, 82, 81, 80, 79, 78, 77, 68, 70, 73, 75, 74, 76, 71, 72, 67, 69,\n",
              "        65, 66, 63, 64, 60, 61, 59, 62, 54, 57, 53, 56, 55, 58, 51, 52, 49,\n",
              "        50, 45, 48, 44, 47, 11, 21,  3,  9,  1,  7,  6, 15,  2,  5, 10, 19,\n",
              "        24, 35, 25, 37, 23, 34, 38, 42, 36, 43,  4, 12, 26, 39, 40, 46, 29,\n",
              "        41, 22, 33, 18, 32, 16, 30, 17, 31,  8, 20, 13, 27, 14, 28],\n",
              "       dtype=int32)}"
            ]
          },
          "metadata": {},
          "execution_count": 44
        }
      ],
      "source": [
        "gs.cv_results_"
      ]
    },
    {
      "cell_type": "markdown",
      "metadata": {
        "id": "aKtrrrcasRWy"
      },
      "source": [
        "### Here, param_grid defines the hyperparameter values to be explored during the grid search. The GridSearchCV object is used to perform a cross-validated grid search, and the best hyperparameters are printed. Finally, the best model is used to make predictions on the test set, and the performance is evaluated using the mean squared error."
      ]
    },
    {
      "cell_type": "code",
      "execution_count": null,
      "metadata": {
        "colab": {
          "base_uri": "https://localhost:8080/",
          "height": 791
        },
        "id": "IKMjAevbpVM1",
        "outputId": "d439b56f-a04b-43fe-c295-ff878664092f"
      },
      "outputs": [
        {
          "output_type": "execute_result",
          "data": {
            "text/plain": [
              "    mean_fit_time  std_fit_time  mean_score_time  std_score_time  \\\n",
              "0        0.008015      0.000519         0.136197        0.005658   \n",
              "1        0.009531      0.002244         0.132935        0.002765   \n",
              "2        0.008388      0.000669         0.137003        0.003871   \n",
              "3        0.008123      0.000130         0.136913        0.004244   \n",
              "4        0.007835      0.000830         0.138752        0.003516   \n",
              "..            ...           ...              ...             ...   \n",
              "95       0.007180      0.001345         0.135928        0.025981   \n",
              "96       0.005259      0.001393         0.083305        0.003812   \n",
              "97       0.004715      0.000284         0.082834        0.001105   \n",
              "98       0.004573      0.000118         0.084640        0.003982   \n",
              "99       0.004690      0.000287         0.087337        0.004874   \n",
              "\n",
              "   param_n_neighbors param_weights  \\\n",
              "0                  1       uniform   \n",
              "1                  1      distance   \n",
              "2                  2       uniform   \n",
              "3                  2      distance   \n",
              "4                  3       uniform   \n",
              "..               ...           ...   \n",
              "95                48      distance   \n",
              "96                49       uniform   \n",
              "97                49      distance   \n",
              "98                50       uniform   \n",
              "99                50      distance   \n",
              "\n",
              "                                        params  split0_test_score  \\\n",
              "0     {'n_neighbors': 1, 'weights': 'uniform'}          -1.472724   \n",
              "1    {'n_neighbors': 1, 'weights': 'distance'}          -1.472724   \n",
              "2     {'n_neighbors': 2, 'weights': 'uniform'}          -0.276113   \n",
              "3    {'n_neighbors': 2, 'weights': 'distance'}          -0.276113   \n",
              "4     {'n_neighbors': 3, 'weights': 'uniform'}          -0.061362   \n",
              "..                                         ...                ...   \n",
              "95  {'n_neighbors': 48, 'weights': 'distance'}           0.065953   \n",
              "96   {'n_neighbors': 49, 'weights': 'uniform'}           0.065719   \n",
              "97  {'n_neighbors': 49, 'weights': 'distance'}           0.064055   \n",
              "98   {'n_neighbors': 50, 'weights': 'uniform'}           0.065490   \n",
              "99  {'n_neighbors': 50, 'weights': 'distance'}           0.063827   \n",
              "\n",
              "    split1_test_score  split2_test_score  split3_test_score  \\\n",
              "0           -0.440655          -0.120191          -0.218337   \n",
              "1           -0.440655          -0.120191          -0.218337   \n",
              "2           -0.189879          -0.008988           0.013850   \n",
              "3           -0.189879          -0.008988           0.014185   \n",
              "4           -0.042479          -0.168738          -0.015077   \n",
              "..                ...                ...                ...   \n",
              "95           0.098987           0.085458           0.083539   \n",
              "96           0.100968           0.086815           0.081662   \n",
              "97           0.099108           0.086016           0.082621   \n",
              "98           0.100186           0.087663           0.082180   \n",
              "99           0.098319           0.086914           0.083170   \n",
              "\n",
              "    split4_test_score  mean_test_score  std_test_score  rank_test_score  \n",
              "0           -0.063002        -0.462982        0.521041               99  \n",
              "1           -0.063002        -0.462982        0.521041               99  \n",
              "2           -0.038739        -0.099974        0.113218               98  \n",
              "3           -0.038899        -0.099939        0.113268               97  \n",
              "4            0.009756        -0.055580        0.061513               96  \n",
              "..                ...              ...             ...              ...  \n",
              "95           0.047043         0.076196        0.017966               20  \n",
              "96           0.047886         0.076610        0.018257               13  \n",
              "97           0.046091         0.075578        0.018517               27  \n",
              "98           0.047150         0.076534        0.018442               14  \n",
              "99           0.045283         0.075503        0.018757               28  \n",
              "\n",
              "[100 rows x 15 columns]"
            ],
            "text/html": [
              "\n",
              "  <div id=\"df-1c95aa65-1c84-46e1-bd05-6c9dc4fd8195\" class=\"colab-df-container\">\n",
              "    <div>\n",
              "<style scoped>\n",
              "    .dataframe tbody tr th:only-of-type {\n",
              "        vertical-align: middle;\n",
              "    }\n",
              "\n",
              "    .dataframe tbody tr th {\n",
              "        vertical-align: top;\n",
              "    }\n",
              "\n",
              "    .dataframe thead th {\n",
              "        text-align: right;\n",
              "    }\n",
              "</style>\n",
              "<table border=\"1\" class=\"dataframe\">\n",
              "  <thead>\n",
              "    <tr style=\"text-align: right;\">\n",
              "      <th></th>\n",
              "      <th>mean_fit_time</th>\n",
              "      <th>std_fit_time</th>\n",
              "      <th>mean_score_time</th>\n",
              "      <th>std_score_time</th>\n",
              "      <th>param_n_neighbors</th>\n",
              "      <th>param_weights</th>\n",
              "      <th>params</th>\n",
              "      <th>split0_test_score</th>\n",
              "      <th>split1_test_score</th>\n",
              "      <th>split2_test_score</th>\n",
              "      <th>split3_test_score</th>\n",
              "      <th>split4_test_score</th>\n",
              "      <th>mean_test_score</th>\n",
              "      <th>std_test_score</th>\n",
              "      <th>rank_test_score</th>\n",
              "    </tr>\n",
              "  </thead>\n",
              "  <tbody>\n",
              "    <tr>\n",
              "      <th>0</th>\n",
              "      <td>0.008015</td>\n",
              "      <td>0.000519</td>\n",
              "      <td>0.136197</td>\n",
              "      <td>0.005658</td>\n",
              "      <td>1</td>\n",
              "      <td>uniform</td>\n",
              "      <td>{'n_neighbors': 1, 'weights': 'uniform'}</td>\n",
              "      <td>-1.472724</td>\n",
              "      <td>-0.440655</td>\n",
              "      <td>-0.120191</td>\n",
              "      <td>-0.218337</td>\n",
              "      <td>-0.063002</td>\n",
              "      <td>-0.462982</td>\n",
              "      <td>0.521041</td>\n",
              "      <td>99</td>\n",
              "    </tr>\n",
              "    <tr>\n",
              "      <th>1</th>\n",
              "      <td>0.009531</td>\n",
              "      <td>0.002244</td>\n",
              "      <td>0.132935</td>\n",
              "      <td>0.002765</td>\n",
              "      <td>1</td>\n",
              "      <td>distance</td>\n",
              "      <td>{'n_neighbors': 1, 'weights': 'distance'}</td>\n",
              "      <td>-1.472724</td>\n",
              "      <td>-0.440655</td>\n",
              "      <td>-0.120191</td>\n",
              "      <td>-0.218337</td>\n",
              "      <td>-0.063002</td>\n",
              "      <td>-0.462982</td>\n",
              "      <td>0.521041</td>\n",
              "      <td>99</td>\n",
              "    </tr>\n",
              "    <tr>\n",
              "      <th>2</th>\n",
              "      <td>0.008388</td>\n",
              "      <td>0.000669</td>\n",
              "      <td>0.137003</td>\n",
              "      <td>0.003871</td>\n",
              "      <td>2</td>\n",
              "      <td>uniform</td>\n",
              "      <td>{'n_neighbors': 2, 'weights': 'uniform'}</td>\n",
              "      <td>-0.276113</td>\n",
              "      <td>-0.189879</td>\n",
              "      <td>-0.008988</td>\n",
              "      <td>0.013850</td>\n",
              "      <td>-0.038739</td>\n",
              "      <td>-0.099974</td>\n",
              "      <td>0.113218</td>\n",
              "      <td>98</td>\n",
              "    </tr>\n",
              "    <tr>\n",
              "      <th>3</th>\n",
              "      <td>0.008123</td>\n",
              "      <td>0.000130</td>\n",
              "      <td>0.136913</td>\n",
              "      <td>0.004244</td>\n",
              "      <td>2</td>\n",
              "      <td>distance</td>\n",
              "      <td>{'n_neighbors': 2, 'weights': 'distance'}</td>\n",
              "      <td>-0.276113</td>\n",
              "      <td>-0.189879</td>\n",
              "      <td>-0.008988</td>\n",
              "      <td>0.014185</td>\n",
              "      <td>-0.038899</td>\n",
              "      <td>-0.099939</td>\n",
              "      <td>0.113268</td>\n",
              "      <td>97</td>\n",
              "    </tr>\n",
              "    <tr>\n",
              "      <th>4</th>\n",
              "      <td>0.007835</td>\n",
              "      <td>0.000830</td>\n",
              "      <td>0.138752</td>\n",
              "      <td>0.003516</td>\n",
              "      <td>3</td>\n",
              "      <td>uniform</td>\n",
              "      <td>{'n_neighbors': 3, 'weights': 'uniform'}</td>\n",
              "      <td>-0.061362</td>\n",
              "      <td>-0.042479</td>\n",
              "      <td>-0.168738</td>\n",
              "      <td>-0.015077</td>\n",
              "      <td>0.009756</td>\n",
              "      <td>-0.055580</td>\n",
              "      <td>0.061513</td>\n",
              "      <td>96</td>\n",
              "    </tr>\n",
              "    <tr>\n",
              "      <th>...</th>\n",
              "      <td>...</td>\n",
              "      <td>...</td>\n",
              "      <td>...</td>\n",
              "      <td>...</td>\n",
              "      <td>...</td>\n",
              "      <td>...</td>\n",
              "      <td>...</td>\n",
              "      <td>...</td>\n",
              "      <td>...</td>\n",
              "      <td>...</td>\n",
              "      <td>...</td>\n",
              "      <td>...</td>\n",
              "      <td>...</td>\n",
              "      <td>...</td>\n",
              "      <td>...</td>\n",
              "    </tr>\n",
              "    <tr>\n",
              "      <th>95</th>\n",
              "      <td>0.007180</td>\n",
              "      <td>0.001345</td>\n",
              "      <td>0.135928</td>\n",
              "      <td>0.025981</td>\n",
              "      <td>48</td>\n",
              "      <td>distance</td>\n",
              "      <td>{'n_neighbors': 48, 'weights': 'distance'}</td>\n",
              "      <td>0.065953</td>\n",
              "      <td>0.098987</td>\n",
              "      <td>0.085458</td>\n",
              "      <td>0.083539</td>\n",
              "      <td>0.047043</td>\n",
              "      <td>0.076196</td>\n",
              "      <td>0.017966</td>\n",
              "      <td>20</td>\n",
              "    </tr>\n",
              "    <tr>\n",
              "      <th>96</th>\n",
              "      <td>0.005259</td>\n",
              "      <td>0.001393</td>\n",
              "      <td>0.083305</td>\n",
              "      <td>0.003812</td>\n",
              "      <td>49</td>\n",
              "      <td>uniform</td>\n",
              "      <td>{'n_neighbors': 49, 'weights': 'uniform'}</td>\n",
              "      <td>0.065719</td>\n",
              "      <td>0.100968</td>\n",
              "      <td>0.086815</td>\n",
              "      <td>0.081662</td>\n",
              "      <td>0.047886</td>\n",
              "      <td>0.076610</td>\n",
              "      <td>0.018257</td>\n",
              "      <td>13</td>\n",
              "    </tr>\n",
              "    <tr>\n",
              "      <th>97</th>\n",
              "      <td>0.004715</td>\n",
              "      <td>0.000284</td>\n",
              "      <td>0.082834</td>\n",
              "      <td>0.001105</td>\n",
              "      <td>49</td>\n",
              "      <td>distance</td>\n",
              "      <td>{'n_neighbors': 49, 'weights': 'distance'}</td>\n",
              "      <td>0.064055</td>\n",
              "      <td>0.099108</td>\n",
              "      <td>0.086016</td>\n",
              "      <td>0.082621</td>\n",
              "      <td>0.046091</td>\n",
              "      <td>0.075578</td>\n",
              "      <td>0.018517</td>\n",
              "      <td>27</td>\n",
              "    </tr>\n",
              "    <tr>\n",
              "      <th>98</th>\n",
              "      <td>0.004573</td>\n",
              "      <td>0.000118</td>\n",
              "      <td>0.084640</td>\n",
              "      <td>0.003982</td>\n",
              "      <td>50</td>\n",
              "      <td>uniform</td>\n",
              "      <td>{'n_neighbors': 50, 'weights': 'uniform'}</td>\n",
              "      <td>0.065490</td>\n",
              "      <td>0.100186</td>\n",
              "      <td>0.087663</td>\n",
              "      <td>0.082180</td>\n",
              "      <td>0.047150</td>\n",
              "      <td>0.076534</td>\n",
              "      <td>0.018442</td>\n",
              "      <td>14</td>\n",
              "    </tr>\n",
              "    <tr>\n",
              "      <th>99</th>\n",
              "      <td>0.004690</td>\n",
              "      <td>0.000287</td>\n",
              "      <td>0.087337</td>\n",
              "      <td>0.004874</td>\n",
              "      <td>50</td>\n",
              "      <td>distance</td>\n",
              "      <td>{'n_neighbors': 50, 'weights': 'distance'}</td>\n",
              "      <td>0.063827</td>\n",
              "      <td>0.098319</td>\n",
              "      <td>0.086914</td>\n",
              "      <td>0.083170</td>\n",
              "      <td>0.045283</td>\n",
              "      <td>0.075503</td>\n",
              "      <td>0.018757</td>\n",
              "      <td>28</td>\n",
              "    </tr>\n",
              "  </tbody>\n",
              "</table>\n",
              "<p>100 rows × 15 columns</p>\n",
              "</div>\n",
              "    <div class=\"colab-df-buttons\">\n",
              "\n",
              "  <div class=\"colab-df-container\">\n",
              "    <button class=\"colab-df-convert\" onclick=\"convertToInteractive('df-1c95aa65-1c84-46e1-bd05-6c9dc4fd8195')\"\n",
              "            title=\"Convert this dataframe to an interactive table.\"\n",
              "            style=\"display:none;\">\n",
              "\n",
              "  <svg xmlns=\"http://www.w3.org/2000/svg\" height=\"24px\" viewBox=\"0 -960 960 960\">\n",
              "    <path d=\"M120-120v-720h720v720H120Zm60-500h600v-160H180v160Zm220 220h160v-160H400v160Zm0 220h160v-160H400v160ZM180-400h160v-160H180v160Zm440 0h160v-160H620v160ZM180-180h160v-160H180v160Zm440 0h160v-160H620v160Z\"/>\n",
              "  </svg>\n",
              "    </button>\n",
              "\n",
              "  <style>\n",
              "    .colab-df-container {\n",
              "      display:flex;\n",
              "      gap: 12px;\n",
              "    }\n",
              "\n",
              "    .colab-df-convert {\n",
              "      background-color: #E8F0FE;\n",
              "      border: none;\n",
              "      border-radius: 50%;\n",
              "      cursor: pointer;\n",
              "      display: none;\n",
              "      fill: #1967D2;\n",
              "      height: 32px;\n",
              "      padding: 0 0 0 0;\n",
              "      width: 32px;\n",
              "    }\n",
              "\n",
              "    .colab-df-convert:hover {\n",
              "      background-color: #E2EBFA;\n",
              "      box-shadow: 0px 1px 2px rgba(60, 64, 67, 0.3), 0px 1px 3px 1px rgba(60, 64, 67, 0.15);\n",
              "      fill: #174EA6;\n",
              "    }\n",
              "\n",
              "    .colab-df-buttons div {\n",
              "      margin-bottom: 4px;\n",
              "    }\n",
              "\n",
              "    [theme=dark] .colab-df-convert {\n",
              "      background-color: #3B4455;\n",
              "      fill: #D2E3FC;\n",
              "    }\n",
              "\n",
              "    [theme=dark] .colab-df-convert:hover {\n",
              "      background-color: #434B5C;\n",
              "      box-shadow: 0px 1px 3px 1px rgba(0, 0, 0, 0.15);\n",
              "      filter: drop-shadow(0px 1px 2px rgba(0, 0, 0, 0.3));\n",
              "      fill: #FFFFFF;\n",
              "    }\n",
              "  </style>\n",
              "\n",
              "    <script>\n",
              "      const buttonEl =\n",
              "        document.querySelector('#df-1c95aa65-1c84-46e1-bd05-6c9dc4fd8195 button.colab-df-convert');\n",
              "      buttonEl.style.display =\n",
              "        google.colab.kernel.accessAllowed ? 'block' : 'none';\n",
              "\n",
              "      async function convertToInteractive(key) {\n",
              "        const element = document.querySelector('#df-1c95aa65-1c84-46e1-bd05-6c9dc4fd8195');\n",
              "        const dataTable =\n",
              "          await google.colab.kernel.invokeFunction('convertToInteractive',\n",
              "                                                    [key], {});\n",
              "        if (!dataTable) return;\n",
              "\n",
              "        const docLinkHtml = 'Like what you see? Visit the ' +\n",
              "          '<a target=\"_blank\" href=https://colab.research.google.com/notebooks/data_table.ipynb>data table notebook</a>'\n",
              "          + ' to learn more about interactive tables.';\n",
              "        element.innerHTML = '';\n",
              "        dataTable['output_type'] = 'display_data';\n",
              "        await google.colab.output.renderOutput(dataTable, element);\n",
              "        const docLink = document.createElement('div');\n",
              "        docLink.innerHTML = docLinkHtml;\n",
              "        element.appendChild(docLink);\n",
              "      }\n",
              "    </script>\n",
              "  </div>\n",
              "\n",
              "\n",
              "<div id=\"df-e64ae989-a65c-4624-b7e7-c5ce544fc258\">\n",
              "  <button class=\"colab-df-quickchart\" onclick=\"quickchart('df-e64ae989-a65c-4624-b7e7-c5ce544fc258')\"\n",
              "            title=\"Suggest charts\"\n",
              "            style=\"display:none;\">\n",
              "\n",
              "<svg xmlns=\"http://www.w3.org/2000/svg\" height=\"24px\"viewBox=\"0 0 24 24\"\n",
              "     width=\"24px\">\n",
              "    <g>\n",
              "        <path d=\"M19 3H5c-1.1 0-2 .9-2 2v14c0 1.1.9 2 2 2h14c1.1 0 2-.9 2-2V5c0-1.1-.9-2-2-2zM9 17H7v-7h2v7zm4 0h-2V7h2v10zm4 0h-2v-4h2v4z\"/>\n",
              "    </g>\n",
              "</svg>\n",
              "  </button>\n",
              "\n",
              "<style>\n",
              "  .colab-df-quickchart {\n",
              "      --bg-color: #E8F0FE;\n",
              "      --fill-color: #1967D2;\n",
              "      --hover-bg-color: #E2EBFA;\n",
              "      --hover-fill-color: #174EA6;\n",
              "      --disabled-fill-color: #AAA;\n",
              "      --disabled-bg-color: #DDD;\n",
              "  }\n",
              "\n",
              "  [theme=dark] .colab-df-quickchart {\n",
              "      --bg-color: #3B4455;\n",
              "      --fill-color: #D2E3FC;\n",
              "      --hover-bg-color: #434B5C;\n",
              "      --hover-fill-color: #FFFFFF;\n",
              "      --disabled-bg-color: #3B4455;\n",
              "      --disabled-fill-color: #666;\n",
              "  }\n",
              "\n",
              "  .colab-df-quickchart {\n",
              "    background-color: var(--bg-color);\n",
              "    border: none;\n",
              "    border-radius: 50%;\n",
              "    cursor: pointer;\n",
              "    display: none;\n",
              "    fill: var(--fill-color);\n",
              "    height: 32px;\n",
              "    padding: 0;\n",
              "    width: 32px;\n",
              "  }\n",
              "\n",
              "  .colab-df-quickchart:hover {\n",
              "    background-color: var(--hover-bg-color);\n",
              "    box-shadow: 0 1px 2px rgba(60, 64, 67, 0.3), 0 1px 3px 1px rgba(60, 64, 67, 0.15);\n",
              "    fill: var(--button-hover-fill-color);\n",
              "  }\n",
              "\n",
              "  .colab-df-quickchart-complete:disabled,\n",
              "  .colab-df-quickchart-complete:disabled:hover {\n",
              "    background-color: var(--disabled-bg-color);\n",
              "    fill: var(--disabled-fill-color);\n",
              "    box-shadow: none;\n",
              "  }\n",
              "\n",
              "  .colab-df-spinner {\n",
              "    border: 2px solid var(--fill-color);\n",
              "    border-color: transparent;\n",
              "    border-bottom-color: var(--fill-color);\n",
              "    animation:\n",
              "      spin 1s steps(1) infinite;\n",
              "  }\n",
              "\n",
              "  @keyframes spin {\n",
              "    0% {\n",
              "      border-color: transparent;\n",
              "      border-bottom-color: var(--fill-color);\n",
              "      border-left-color: var(--fill-color);\n",
              "    }\n",
              "    20% {\n",
              "      border-color: transparent;\n",
              "      border-left-color: var(--fill-color);\n",
              "      border-top-color: var(--fill-color);\n",
              "    }\n",
              "    30% {\n",
              "      border-color: transparent;\n",
              "      border-left-color: var(--fill-color);\n",
              "      border-top-color: var(--fill-color);\n",
              "      border-right-color: var(--fill-color);\n",
              "    }\n",
              "    40% {\n",
              "      border-color: transparent;\n",
              "      border-right-color: var(--fill-color);\n",
              "      border-top-color: var(--fill-color);\n",
              "    }\n",
              "    60% {\n",
              "      border-color: transparent;\n",
              "      border-right-color: var(--fill-color);\n",
              "    }\n",
              "    80% {\n",
              "      border-color: transparent;\n",
              "      border-right-color: var(--fill-color);\n",
              "      border-bottom-color: var(--fill-color);\n",
              "    }\n",
              "    90% {\n",
              "      border-color: transparent;\n",
              "      border-bottom-color: var(--fill-color);\n",
              "    }\n",
              "  }\n",
              "</style>\n",
              "\n",
              "  <script>\n",
              "    async function quickchart(key) {\n",
              "      const quickchartButtonEl =\n",
              "        document.querySelector('#' + key + ' button');\n",
              "      quickchartButtonEl.disabled = true;  // To prevent multiple clicks.\n",
              "      quickchartButtonEl.classList.add('colab-df-spinner');\n",
              "      try {\n",
              "        const charts = await google.colab.kernel.invokeFunction(\n",
              "            'suggestCharts', [key], {});\n",
              "      } catch (error) {\n",
              "        console.error('Error during call to suggestCharts:', error);\n",
              "      }\n",
              "      quickchartButtonEl.classList.remove('colab-df-spinner');\n",
              "      quickchartButtonEl.classList.add('colab-df-quickchart-complete');\n",
              "    }\n",
              "    (() => {\n",
              "      let quickchartButtonEl =\n",
              "        document.querySelector('#df-e64ae989-a65c-4624-b7e7-c5ce544fc258 button');\n",
              "      quickchartButtonEl.style.display =\n",
              "        google.colab.kernel.accessAllowed ? 'block' : 'none';\n",
              "    })();\n",
              "  </script>\n",
              "</div>\n",
              "    </div>\n",
              "  </div>\n"
            ]
          },
          "metadata": {},
          "execution_count": 45
        }
      ],
      "source": [
        "results = pd.DataFrame(gs.cv_results_)\n",
        "results"
      ]
    },
    {
      "cell_type": "code",
      "execution_count": null,
      "metadata": {
        "colab": {
          "base_uri": "https://localhost:8080/"
        },
        "id": "4YiWJstuqB9R",
        "outputId": "f0fa3e4e-ad11-4eb0-fc52-6c22c60ca9f1"
      },
      "outputs": [
        {
          "output_type": "execute_result",
          "data": {
            "text/plain": [
              "0.07799772921090682"
            ]
          },
          "metadata": {},
          "execution_count": 46
        }
      ],
      "source": [
        "gs.best_score_"
      ]
    },
    {
      "cell_type": "code",
      "execution_count": null,
      "metadata": {
        "colab": {
          "base_uri": "https://localhost:8080/"
        },
        "id": "dOKWyYNwqFKQ",
        "outputId": "e8a034b7-1e96-4e2b-fa4b-a89f63c9e4d9"
      },
      "outputs": [
        {
          "output_type": "execute_result",
          "data": {
            "text/plain": [
              "{'n_neighbors': 31, 'weights': 'uniform'}"
            ]
          },
          "metadata": {},
          "execution_count": 47
        }
      ],
      "source": [
        "gs.best_params_"
      ]
    },
    {
      "cell_type": "markdown",
      "metadata": {
        "id": "VLHM0OYoIkYS"
      },
      "source": [
        "## These hyperparameters collectively define the behavior of the KNN regressor. The best combination is determined based on the specified evaluation metric from the grid search."
      ]
    },
    {
      "cell_type": "code",
      "execution_count": null,
      "metadata": {
        "colab": {
          "base_uri": "https://localhost:8080/"
        },
        "id": "oChVsl8bqVPS",
        "outputId": "289640a5-2e7a-43f5-bf76-8328dfba8518"
      },
      "outputs": [
        {
          "output_type": "stream",
          "name": "stdout",
          "text": [
            "Best Hyperparameters: {'n_neighbors': 31, 'weights': 'uniform'}\n"
          ]
        }
      ],
      "source": [
        "# Print the best hyperparameters\n",
        "print(\"Best Hyperparameters:\", gs.best_params_)"
      ]
    },
    {
      "cell_type": "code",
      "execution_count": null,
      "metadata": {
        "id": "LgIEDX1gr48l"
      },
      "outputs": [],
      "source": [
        "# Get the best model\n",
        "best_knn = gs.best_estimator_"
      ]
    },
    {
      "cell_type": "code",
      "execution_count": null,
      "metadata": {
        "id": "L2vGiPVHsEZ_"
      },
      "outputs": [],
      "source": [
        "#Final Predictions on test set\n",
        "y_pred = best_knn.predict(X_test)"
      ]
    },
    {
      "cell_type": "code",
      "execution_count": null,
      "metadata": {
        "colab": {
          "base_uri": "https://localhost:8080/"
        },
        "id": "5pG5kVNvsH3U",
        "outputId": "f6acb730-4689-41b7-d48b-be162910a9b1"
      },
      "outputs": [
        {
          "output_type": "stream",
          "name": "stdout",
          "text": [
            "Mean Squared Error on Test Set: 0.7497062133081047\n",
            "R^2 Score on test Set: 0.11894518768007423\n"
          ]
        }
      ],
      "source": [
        "#Final Evaluation\n",
        "mse_knn = mean_squared_error(y_test, y_pred)\n",
        "print(\"Mean Squared Error on Test Set:\", mse_knn)\n",
        "\n",
        "r2_knn = r2_score(y_test, y_pred)\n",
        "print(\"R^2 Score on test Set:\",r2_knn)"
      ]
    },
    {
      "cell_type": "code",
      "source": [
        "categories = ['Before Hyperparameter Tuning', 'After Hyperparameter Tuning']\n",
        "mse_values = [mse_test_knn, mse_knn]\n",
        "\n",
        "# Plotting the bar chart\n",
        "plt.bar(categories, mse_values, color=['blue', 'green'])\n",
        "plt.ylabel('Mean Squared Error')\n",
        "plt.title('MSE Comparison for KNN')\n",
        "plt.ylim(0, max(mse_values) + 0.2)\n",
        "plt.show()"
      ],
      "metadata": {
        "colab": {
          "base_uri": "https://localhost:8080/",
          "height": 452
        },
        "id": "72VqqQjKDFNb",
        "outputId": "046fdeb9-3a27-4798-e5a8-3ea31839b897"
      },
      "execution_count": null,
      "outputs": [
        {
          "output_type": "display_data",
          "data": {
            "text/plain": [
              "<Figure size 640x480 with 1 Axes>"
            ],
            "image/png": "[encoded data removed]"
          },
          "metadata": {}
        }
      ]
    },
    {
      "cell_type": "markdown",
      "metadata": {
        "id": "g0Pjp5U2sh2t"
      },
      "source": [
        "### Based upon the new hyperparameters we are able to reduce the Mean Squared Error from 0.82 to 0.749 which is clearly visible in the bar plot. So, with the help of GridSearch Cv, performing hyperparameter tuning we can find the best hyperparameter value for better performance. In our case for 31 number of neighbours we got the best performance. If you increase the range of the K values you might get a better performance of the model."
      ]
    },
    {
      "cell_type": "markdown",
      "metadata": {
        "id": "_trxPKc8tDhE"
      },
      "source": [
        "# RANDOM FOREST"
      ]
    },
    {
      "cell_type": "markdown",
      "metadata": {
        "id": "uydYhs4AK-3l"
      },
      "source": [
        "### The random forest is an ensemble model made up of many decision trees that uses the random sampling of training data points when building trees and random subsets of features considered when splitting node.\n",
        "### Random forest regression makes use of ensemble learning to address regression issues. To produce a prediction that is more accurate, ensemble learning combines predictions from several machine learning algorithms."
      ]
    },
    {
      "cell_type": "code",
      "execution_count": null,
      "metadata": {
        "colab": {
          "base_uri": "https://localhost:8080/",
          "height": 110
        },
        "id": "wLv1iTmltG3b",
        "outputId": "4e102049-cb0f-4db2-a2ba-6af13354e2a8"
      },
      "outputs": [
        {
          "output_type": "stream",
          "name": "stderr",
          "text": [
            "<ipython-input-53-9e8fcf0c9b45>:8: DataConversionWarning: A column-vector y was passed when a 1d array was expected. Please change the shape of y to (n_samples,), for example using ravel().\n",
            "  random_forest_model.fit(X_train, y_train)\n"
          ]
        },
        {
          "output_type": "execute_result",
          "data": {
            "text/plain": [
              "RandomForestRegressor(random_state=42)"
            ],
            "text/html": [
              "<style>#sk-container-id-5 {color: black;background-color: white;}#sk-container-id-5 pre{padding: 0;}#sk-container-id-5 div.sk-toggleable {background-color: white;}#sk-container-id-5 label.sk-toggleable__label {cursor: pointer;display: block;width: 100%;margin-bottom: 0;padding: 0.3em;box-sizing: border-box;text-align: center;}#sk-container-id-5 label.sk-toggleable__label-arrow:before {content: \"▸\";float: left;margin-right: 0.25em;color: #696969;}#sk-container-id-5 label.sk-toggleable__label-arrow:hover:before {color: black;}#sk-container-id-5 div.sk-estimator:hover label.sk-toggleable__label-arrow:before {color: black;}#sk-container-id-5 div.sk-toggleable__content {max-height: 0;max-width: 0;overflow: hidden;text-align: left;background-color: #f0f8ff;}#sk-container-id-5 div.sk-toggleable__content pre {margin: 0.2em;color: black;border-radius: 0.25em;background-color: #f0f8ff;}#sk-container-id-5 input.sk-toggleable__control:checked~div.sk-toggleable__content {max-height: 200px;max-width: 100%;overflow: auto;}#sk-container-id-5 input.sk-toggleable__control:checked~label.sk-toggleable__label-arrow:before {content: \"▾\";}#sk-container-id-5 div.sk-estimator input.sk-toggleable__control:checked~label.sk-toggleable__label {background-color: #d4ebff;}#sk-container-id-5 div.sk-label input.sk-toggleable__control:checked~label.sk-toggleable__label {background-color: #d4ebff;}#sk-container-id-5 input.sk-hidden--visually {border: 0;clip: rect(1px 1px 1px 1px);clip: rect(1px, 1px, 1px, 1px);height: 1px;margin: -1px;overflow: hidden;padding: 0;position: absolute;width: 1px;}#sk-container-id-5 div.sk-estimator {font-family: monospace;background-color: #f0f8ff;border: 1px dotted black;border-radius: 0.25em;box-sizing: border-box;margin-bottom: 0.5em;}#sk-container-id-5 div.sk-estimator:hover {background-color: #d4ebff;}#sk-container-id-5 div.sk-parallel-item::after {content: \"\";width: 100%;border-bottom: 1px solid gray;flex-grow: 1;}#sk-container-id-5 div.sk-label:hover label.sk-toggleable__label {background-color: #d4ebff;}#sk-container-id-5 div.sk-serial::before {content: \"\";position: absolute;border-left: 1px solid gray;box-sizing: border-box;top: 0;bottom: 0;left: 50%;z-index: 0;}#sk-container-id-5 div.sk-serial {display: flex;flex-direction: column;align-items: center;background-color: white;padding-right: 0.2em;padding-left: 0.2em;position: relative;}#sk-container-id-5 div.sk-item {position: relative;z-index: 1;}#sk-container-id-5 div.sk-parallel {display: flex;align-items: stretch;justify-content: center;background-color: white;position: relative;}#sk-container-id-5 div.sk-item::before, #sk-container-id-5 div.sk-parallel-item::before {content: \"\";position: absolute;border-left: 1px solid gray;box-sizing: border-box;top: 0;bottom: 0;left: 50%;z-index: -1;}#sk-container-id-5 div.sk-parallel-item {display: flex;flex-direction: column;z-index: 1;position: relative;background-color: white;}#sk-container-id-5 div.sk-parallel-item:first-child::after {align-self: flex-end;width: 50%;}#sk-container-id-5 div.sk-parallel-item:last-child::after {align-self: flex-start;width: 50%;}#sk-container-id-5 div.sk-parallel-item:only-child::after {width: 0;}#sk-container-id-5 div.sk-dashed-wrapped {border: 1px dashed gray;margin: 0 0.4em 0.5em 0.4em;box-sizing: border-box;padding-bottom: 0.4em;background-color: white;}#sk-container-id-5 div.sk-label label {font-family: monospace;font-weight: bold;display: inline-block;line-height: 1.2em;}#sk-container-id-5 div.sk-label-container {text-align: center;}#sk-container-id-5 div.sk-container {/* jupyter's `normalize.less` sets `[hidden] { display: none; }` but bootstrap.min.css set `[hidden] { display: none !important; }` so we also need the `!important` here to be able to override the default hidden behavior on the sphinx rendered scikit-learn.org. See: https://github.com/scikit-learn/scikit-learn/issues/21755 */display: inline-block !important;position: relative;}#sk-container-id-5 div.sk-text-repr-fallback {display: none;}</style><div id=\"sk-container-id-5\" class=\"sk-top-container\"><div class=\"sk-text-repr-fallback\"><pre>RandomForestRegressor(random_state=42)</pre><b>In a Jupyter environment, please rerun this cell to show the HTML representation or trust the notebook. <br />On GitHub, the HTML representation is unable to render, please try loading this page with nbviewer.org.</b></div><div class=\"sk-container\" hidden><div class=\"sk-item\"><div class=\"sk-estimator sk-toggleable\"><input class=\"sk-toggleable__control sk-hidden--visually\" id=\"sk-estimator-id-9\" type=\"checkbox\" checked><label for=\"sk-estimator-id-9\" class=\"sk-toggleable__label sk-toggleable__label-arrow\">RandomForestRegressor</label><div class=\"sk-toggleable__content\"><pre>RandomForestRegressor(random_state=42)</pre></div></div></div></div></div>"
            ]
          },
          "metadata": {},
          "execution_count": 53
        }
      ],
      "source": [
        "#Importing the RandomForestRegressor from sklearn library\n",
        "from sklearn.ensemble import RandomForestRegressor\n",
        "\n",
        "# Creating the model\n",
        "random_forest_model = RandomForestRegressor(n_estimators=100, random_state=42)\n",
        "\n",
        "# Training the model which is called fitting\n",
        "random_forest_model.fit(X_train, y_train)"
      ]
    },
    {
      "cell_type": "markdown",
      "metadata": {
        "id": "DxRlZdPhLpoo"
      },
      "source": [
        "### A Random Forest Regressor consists of collection of decision trees which were constructed using a random subset of the training data and a random subset of features.\n",
        "\n",
        "### During the training process of each tree, a random subset of the training data using bootstrap sampling. This results in multiple trees, each trained on a slightly different subset of the data."
      ]
    },
    {
      "cell_type": "code",
      "execution_count": null,
      "metadata": {
        "id": "1nZbuoevBI9V"
      },
      "outputs": [],
      "source": [
        "# Predicting on the train, val and test set\n",
        "y_pred_train_random_forest = random_forest_model.predict(X_train)\n",
        "y_pred_val_random_forest = random_forest_model.predict(X_val)\n",
        "y_pred_test_random_forest = random_forest_model.predict(X_test)"
      ]
    },
    {
      "cell_type": "code",
      "execution_count": null,
      "metadata": {
        "id": "eqUxBcgCBdsH"
      },
      "outputs": [],
      "source": [
        "# Finding the Metrics of the model to know the performance.\n",
        "from sklearn.metrics import mean_squared_error, mean_absolute_error, r2_score\n",
        "mse_train_random_forest = mean_squared_error(y_train, y_pred_train_random_forest)\n",
        "mse_val_random_forest = mean_squared_error(y_val, y_pred_val_random_forest)\n",
        "mse_test_random_forest = mean_squared_error(y_test, y_pred_test_random_forest)\n",
        "\n",
        "r2_train_random_forest = r2_score(y_train, y_pred_train_random_forest)\n",
        "r2_val_random_forest = r2_score(y_val, y_pred_val_random_forest)\n",
        "r2_test_random_forest = r2_score(y_test, y_pred_test_random_forest)"
      ]
    },
    {
      "cell_type": "code",
      "execution_count": null,
      "metadata": {
        "colab": {
          "base_uri": "https://localhost:8080/"
        },
        "id": "Ucq4wUapByxr",
        "outputId": "13812865-e1e0-427b-e46b-622a7c391446"
      },
      "outputs": [
        {
          "output_type": "stream",
          "name": "stdout",
          "text": [
            "Training Set Mean Squared Error: 0.909067173324499, R-squared: 0.09093282667550096\n",
            "Validation Set Mean Squared Error: 0.6967538312889033, R-squared: 0.07759694470351264\n",
            "Test Set Mean Squared Error: 0.7471716975696672, R-squared: 0.12192375081402185\n"
          ]
        }
      ],
      "source": [
        "#Mean Squared Error and R^2 Score values\n",
        "print(f'Training Set Mean Squared Error: {mse_train_random_forest}, R-squared: {r2_train_random_forest}')\n",
        "print(f'Validation Set Mean Squared Error: {mse_val_random_forest}, R-squared: {r2_val_random_forest}')\n",
        "print(f'Test Set Mean Squared Error: {mse_test_random_forest}, R-squared: {r2_test_random_forest}')"
      ]
    },
    {
      "cell_type": "code",
      "execution_count": null,
      "metadata": {
        "colab": {
          "base_uri": "https://localhost:8080/",
          "height": 507
        },
        "id": "OC9_MM7Ltwrw",
        "outputId": "ef5accb3-e472-4c91-b792-0b3da4362fb5"
      },
      "outputs": [
        {
          "output_type": "display_data",
          "data": {
            "text/plain": [
              "<Figure size 1500x500 with 2 Axes>"
            ],
            "image/png": "[encoded data removed]"
          },
          "metadata": {}
        }
      ],
      "source": [
        "# Plotting the evaluation metrics using plt library\n",
        "fig, axs = plt.subplots(1, 2, figsize=(15, 5))\n",
        "\n",
        "# Mean Squared Error (MSE)\n",
        "axs[0].scatter(y_test, y_pred_test_random_forest, alpha=0.5)\n",
        "axs[0].plot([min(y_test), max(y_test)], [min(y_test), max(y_test)], 'k--', lw=2)\n",
        "axs[0].set_title(f'MSE: {mse_test_random_forest:.4f}')\n",
        "axs[0].set_xlabel('Actual')\n",
        "axs[0].set_ylabel('Predicted')\n",
        "\n",
        "# R^2 Score\n",
        "axs[1].scatter(y_test, y_pred_test_random_forest, alpha=0.5)\n",
        "axs[1].plot([min(y_test), max(y_test)], [min(y_test), max(y_test)], 'k--', lw=2)\n",
        "axs[1].set_title(f'R^2 Score: {r2_test_random_forest:.4f}')\n",
        "axs[1].set_xlabel('Actual')\n",
        "axs[1].set_ylabel('Predicted')\n",
        "\n",
        "plt.tight_layout()\n",
        "plt.show()"
      ]
    },
    {
      "cell_type": "markdown",
      "metadata": {
        "id": "NeI9FbDzuW59"
      },
      "source": [
        "# Hyperparameter Tuning"
      ]
    },
    {
      "cell_type": "code",
      "execution_count": null,
      "metadata": {
        "id": "0kxikEhSxNU3"
      },
      "outputs": [],
      "source": [
        "y_train_flat = y_train.ravel()\n",
        "y_val_flat = y_val.ravel()\n",
        "y_test_flat = y_test.ravel()"
      ]
    },
    {
      "cell_type": "code",
      "execution_count": null,
      "metadata": {
        "id": "D6jfQYHPuCl-"
      },
      "outputs": [],
      "source": [
        "from sklearn.model_selection import GridSearchCV\n",
        "\n",
        "gs = GridSearchCV(estimator = RandomForestRegressor(),\n",
        "                  param_grid = {\n",
        "                                'n_estimators': [50, 100, 200, 300],\n",
        "                                'max_depth': [None, 10, 20, 30],\n",
        "                                'min_samples_split': [2, 5, 10],\n",
        "                                'min_samples_leaf': [1, 2, 4],\n",
        "                                'bootstrap': [True, False]},\n",
        "                                cv=5,\n",
        "                                scoring='neg_mean_squared_error'\n",
        "                                )"
      ]
    },
    {
      "cell_type": "markdown",
      "source": [
        "### In the above you can clearly see the range of number of estimators, max_depth, min_samples_split,etc which are given by us. It is upto the programmer to give the range of hyperparameters that are available or simply go on with single hyperparameter also. But for better tuning we use the required hyperparameters."
      ],
      "metadata": {
        "id": "G_S9M2IAEMV8"
      }
    },
    {
      "cell_type": "code",
      "execution_count": null,
      "metadata": {
        "colab": {
          "base_uri": "https://localhost:8080/",
          "height": 119
        },
        "id": "9BjpqhYWCZeD",
        "outputId": "0c42fcbf-1864-4f4e-caf8-b24bb42a5a23"
      },
      "outputs": [
        {
          "output_type": "execute_result",
          "data": {
            "text/plain": [
              "GridSearchCV(cv=5, estimator=RandomForestRegressor(),\n",
              "             param_grid={'bootstrap': [True, False],\n",
              "                         'max_depth': [None, 10, 20, 30],\n",
              "                         'min_samples_leaf': [1, 2, 4],\n",
              "                         'min_samples_split': [2, 5, 10],\n",
              "                         'n_estimators': [50, 100, 200, 300]},\n",
              "             scoring='neg_mean_squared_error')"
            ],
            "text/html": [
              "<style>#sk-container-id-6 {color: black;background-color: white;}#sk-container-id-6 pre{padding: 0;}#sk-container-id-6 div.sk-toggleable {background-color: white;}#sk-container-id-6 label.sk-toggleable__label {cursor: pointer;display: block;width: 100%;margin-bottom: 0;padding: 0.3em;box-sizing: border-box;text-align: center;}#sk-container-id-6 label.sk-toggleable__label-arrow:before {content: \"▸\";float: left;margin-right: 0.25em;color: #696969;}#sk-container-id-6 label.sk-toggleable__label-arrow:hover:before {color: black;}#sk-container-id-6 div.sk-estimator:hover label.sk-toggleable__label-arrow:before {color: black;}#sk-container-id-6 div.sk-toggleable__content {max-height: 0;max-width: 0;overflow: hidden;text-align: left;background-color: #f0f8ff;}#sk-container-id-6 div.sk-toggleable__content pre {margin: 0.2em;color: black;border-radius: 0.25em;background-color: #f0f8ff;}#sk-container-id-6 input.sk-toggleable__control:checked~div.sk-toggleable__content {max-height: 200px;max-width: 100%;overflow: auto;}#sk-container-id-6 input.sk-toggleable__control:checked~label.sk-toggleable__label-arrow:before {content: \"▾\";}#sk-container-id-6 div.sk-estimator input.sk-toggleable__control:checked~label.sk-toggleable__label {background-color: #d4ebff;}#sk-container-id-6 div.sk-label input.sk-toggleable__control:checked~label.sk-toggleable__label {background-color: #d4ebff;}#sk-container-id-6 input.sk-hidden--visually {border: 0;clip: rect(1px 1px 1px 1px);clip: rect(1px, 1px, 1px, 1px);height: 1px;margin: -1px;overflow: hidden;padding: 0;position: absolute;width: 1px;}#sk-container-id-6 div.sk-estimator {font-family: monospace;background-color: #f0f8ff;border: 1px dotted black;border-radius: 0.25em;box-sizing: border-box;margin-bottom: 0.5em;}#sk-container-id-6 div.sk-estimator:hover {background-color: #d4ebff;}#sk-container-id-6 div.sk-parallel-item::after {content: \"\";width: 100%;border-bottom: 1px solid gray;flex-grow: 1;}#sk-container-id-6 div.sk-label:hover label.sk-toggleable__label {background-color: #d4ebff;}#sk-container-id-6 div.sk-serial::before {content: \"\";position: absolute;border-left: 1px solid gray;box-sizing: border-box;top: 0;bottom: 0;left: 50%;z-index: 0;}#sk-container-id-6 div.sk-serial {display: flex;flex-direction: column;align-items: center;background-color: white;padding-right: 0.2em;padding-left: 0.2em;position: relative;}#sk-container-id-6 div.sk-item {position: relative;z-index: 1;}#sk-container-id-6 div.sk-parallel {display: flex;align-items: stretch;justify-content: center;background-color: white;position: relative;}#sk-container-id-6 div.sk-item::before, #sk-container-id-6 div.sk-parallel-item::before {content: \"\";position: absolute;border-left: 1px solid gray;box-sizing: border-box;top: 0;bottom: 0;left: 50%;z-index: -1;}#sk-container-id-6 div.sk-parallel-item {display: flex;flex-direction: column;z-index: 1;position: relative;background-color: white;}#sk-container-id-6 div.sk-parallel-item:first-child::after {align-self: flex-end;width: 50%;}#sk-container-id-6 div.sk-parallel-item:last-child::after {align-self: flex-start;width: 50%;}#sk-container-id-6 div.sk-parallel-item:only-child::after {width: 0;}#sk-container-id-6 div.sk-dashed-wrapped {border: 1px dashed gray;margin: 0 0.4em 0.5em 0.4em;box-sizing: border-box;padding-bottom: 0.4em;background-color: white;}#sk-container-id-6 div.sk-label label {font-family: monospace;font-weight: bold;display: inline-block;line-height: 1.2em;}#sk-container-id-6 div.sk-label-container {text-align: center;}#sk-container-id-6 div.sk-container {/* jupyter's `normalize.less` sets `[hidden] { display: none; }` but bootstrap.min.css set `[hidden] { display: none !important; }` so we also need the `!important` here to be able to override the default hidden behavior on the sphinx rendered scikit-learn.org. See: https://github.com/scikit-learn/scikit-learn/issues/21755 */display: inline-block !important;position: relative;}#sk-container-id-6 div.sk-text-repr-fallback {display: none;}</style><div id=\"sk-container-id-6\" class=\"sk-top-container\"><div class=\"sk-text-repr-fallback\"><pre>GridSearchCV(cv=5, estimator=RandomForestRegressor(),\n",
              "             param_grid={&#x27;bootstrap&#x27;: [True, False],\n",
              "                         &#x27;max_depth&#x27;: [None, 10, 20, 30],\n",
              "                         &#x27;min_samples_leaf&#x27;: [1, 2, 4],\n",
              "                         &#x27;min_samples_split&#x27;: [2, 5, 10],\n",
              "                         &#x27;n_estimators&#x27;: [50, 100, 200, 300]},\n",
              "             scoring=&#x27;neg_mean_squared_error&#x27;)</pre><b>In a Jupyter environment, please rerun this cell to show the HTML representation or trust the notebook. <br />On GitHub, the HTML representation is unable to render, please try loading this page with nbviewer.org.</b></div><div class=\"sk-container\" hidden><div class=\"sk-item sk-dashed-wrapped\"><div class=\"sk-label-container\"><div class=\"sk-label sk-toggleable\"><input class=\"sk-toggleable__control sk-hidden--visually\" id=\"sk-estimator-id-10\" type=\"checkbox\" ><label for=\"sk-estimator-id-10\" class=\"sk-toggleable__label sk-toggleable__label-arrow\">GridSearchCV</label><div class=\"sk-toggleable__content\"><pre>GridSearchCV(cv=5, estimator=RandomForestRegressor(),\n",
              "             param_grid={&#x27;bootstrap&#x27;: [True, False],\n",
              "                         &#x27;max_depth&#x27;: [None, 10, 20, 30],\n",
              "                         &#x27;min_samples_leaf&#x27;: [1, 2, 4],\n",
              "                         &#x27;min_samples_split&#x27;: [2, 5, 10],\n",
              "                         &#x27;n_estimators&#x27;: [50, 100, 200, 300]},\n",
              "             scoring=&#x27;neg_mean_squared_error&#x27;)</pre></div></div></div><div class=\"sk-parallel\"><div class=\"sk-parallel-item\"><div class=\"sk-item\"><div class=\"sk-label-container\"><div class=\"sk-label sk-toggleable\"><input class=\"sk-toggleable__control sk-hidden--visually\" id=\"sk-estimator-id-11\" type=\"checkbox\" ><label for=\"sk-estimator-id-11\" class=\"sk-toggleable__label sk-toggleable__label-arrow\">estimator: RandomForestRegressor</label><div class=\"sk-toggleable__content\"><pre>RandomForestRegressor()</pre></div></div></div><div class=\"sk-serial\"><div class=\"sk-item\"><div class=\"sk-estimator sk-toggleable\"><input class=\"sk-toggleable__control sk-hidden--visually\" id=\"sk-estimator-id-12\" type=\"checkbox\" ><label for=\"sk-estimator-id-12\" class=\"sk-toggleable__label sk-toggleable__label-arrow\">RandomForestRegressor</label><div class=\"sk-toggleable__content\"><pre>RandomForestRegressor()</pre></div></div></div></div></div></div></div></div></div></div>"
            ]
          },
          "metadata": {},
          "execution_count": 60
        }
      ],
      "source": [
        "gs.fit(X_train, y_train_flat)"
      ]
    },
    {
      "cell_type": "code",
      "execution_count": null,
      "metadata": {
        "colab": {
          "base_uri": "https://localhost:8080/"
        },
        "id": "vn5znf0Oxos2",
        "outputId": "3b02eff7-5c2b-4d7b-fbeb-9c33be71c605"
      },
      "outputs": [
        {
          "output_type": "execute_result",
          "data": {
            "text/plain": [
              "-0.9125217046124842"
            ]
          },
          "metadata": {},
          "execution_count": 61
        }
      ],
      "source": [
        "gs.best_score_"
      ]
    },
    {
      "cell_type": "code",
      "execution_count": null,
      "metadata": {
        "colab": {
          "base_uri": "https://localhost:8080/"
        },
        "id": "zcuPp0F6xprc",
        "outputId": "8579ddd6-24de-488c-f97e-ac74a75ef88b"
      },
      "outputs": [
        {
          "output_type": "execute_result",
          "data": {
            "text/plain": [
              "{'bootstrap': True,\n",
              " 'max_depth': 10,\n",
              " 'min_samples_leaf': 4,\n",
              " 'min_samples_split': 10,\n",
              " 'n_estimators': 50}"
            ]
          },
          "metadata": {},
          "execution_count": 62
        }
      ],
      "source": [
        "gs.best_params_"
      ]
    },
    {
      "cell_type": "code",
      "execution_count": null,
      "metadata": {
        "colab": {
          "base_uri": "https://localhost:8080/"
        },
        "id": "MRkHHoOlunhI",
        "outputId": "b9354736-f147-42b3-e799-d430c1f7ede3"
      },
      "outputs": [
        {
          "output_type": "stream",
          "name": "stdout",
          "text": [
            "Best Hyperparameters: {'bootstrap': True, 'max_depth': 10, 'min_samples_leaf': 4, 'min_samples_split': 10, 'n_estimators': 50}\n"
          ]
        }
      ],
      "source": [
        "# Print the best hyperparameters\n",
        "print(\"Best Hyperparameters:\", gs.best_params_)"
      ]
    },
    {
      "cell_type": "code",
      "execution_count": null,
      "metadata": {
        "id": "VAgJgl5huvoG"
      },
      "outputs": [],
      "source": [
        "# Get the best model\n",
        "best_rf = gs.best_estimator_"
      ]
    },
    {
      "cell_type": "code",
      "execution_count": null,
      "metadata": {
        "id": "Gm97Jz1luxt2"
      },
      "outputs": [],
      "source": [
        "#Final Predictions\n",
        "y_pred = best_rf.predict(X_test)"
      ]
    },
    {
      "cell_type": "code",
      "execution_count": null,
      "metadata": {
        "colab": {
          "base_uri": "https://localhost:8080/"
        },
        "id": "LW51AnDRu0lh",
        "outputId": "b4ce1ebb-65b3-4014-94ec-511e3c62c278"
      },
      "outputs": [
        {
          "output_type": "stream",
          "name": "stdout",
          "text": [
            "Mean Squared Error on Test Set: 0.7451693969927626\n",
            "R^2 Score on test Set: 0.12427685464013039\n"
          ]
        }
      ],
      "source": [
        "#Final Evaluation\n",
        "mse_rf = mean_squared_error(y_test_flat, y_pred)\n",
        "print(\"Mean Squared Error on Test Set:\", mse_rf)\n",
        "\n",
        "r2_rf = r2_score(y_test_flat, y_pred)\n",
        "print(\"R^2 Score on test Set:\",r2_rf)"
      ]
    },
    {
      "cell_type": "code",
      "source": [
        "categories = ['Before Hyperparameter Tuning', 'After Hyperparameter Tuning']\n",
        "mse_values = [mse_test_random_forest, mse_rf]\n",
        "\n",
        "# Plotting the bar chart\n",
        "plt.bar(categories, mse_values, color=['blue', 'green'])\n",
        "plt.ylabel('Mean Squared Error')\n",
        "plt.title('MSE Comparison for Random Forest')\n",
        "plt.ylim(0, max(mse_values) + 0.2)\n",
        "plt.show()"
      ],
      "metadata": {
        "colab": {
          "base_uri": "https://localhost:8080/",
          "height": 452
        },
        "id": "ck4gWNfNEw1f",
        "outputId": "97efbb48-15ea-47f8-fb1b-5c4758f2e06b"
      },
      "execution_count": null,
      "outputs": [
        {
          "output_type": "display_data",
          "data": {
            "text/plain": [
              "<Figure size 640x480 with 1 Axes>"
            ],
            "image/png": "[encoded data removed]"
          },
          "metadata": {}
        }
      ]
    },
    {
      "cell_type": "markdown",
      "source": [
        "### From the plot we can directly say that there is no change in MSE value before and after hyperparameter tuning. But when you have a closer look in the values there is a very very slight drop in the MSE value, which can be seen above."
      ],
      "metadata": {
        "id": "b3Eob8usII3Q"
      }
    },
    {
      "cell_type": "markdown",
      "metadata": {
        "id": "ihIpQvm9fsj5"
      },
      "source": [
        "# SUPPORT VECTOR MACHINE With Linear Kernel"
      ]
    },
    {
      "cell_type": "markdown",
      "metadata": {
        "id": "PMpe1Z6HSsTs"
      },
      "source": [
        "### For linearly separable or nearly linearly separable data, A Support Vector Machine (SVM) with a linear kernel is used to find a linear relationship between the input features and the target variable by predicting a continuous output variable, in context of regression.\n",
        "### Regression using Support Vector Machines (SVM) can employ both linear and non-linear kernels. A straightforward dot product of two input vectors is a linear kernel. When data is linearly separable—that is, when it can be divided using a single line—it is frequently used. It's also frequently applied in situations where a data set contains a lot of features.\n"
      ]
    },
    {
      "cell_type": "code",
      "execution_count": null,
      "metadata": {
        "colab": {
          "base_uri": "https://localhost:8080/",
          "height": 110
        },
        "id": "ut_PrmEefvTD",
        "outputId": "06a2d44d-1520-4128-ee20-e227af4fd8d3"
      },
      "outputs": [
        {
          "output_type": "stream",
          "name": "stderr",
          "text": [
            "/usr/local/lib/python3.10/dist-packages/sklearn/utils/validation.py:1143: DataConversionWarning: A column-vector y was passed when a 1d array was expected. Please change the shape of y to (n_samples, ), for example using ravel().\n",
            "  y = column_or_1d(y, warn=True)\n"
          ]
        },
        {
          "output_type": "execute_result",
          "data": {
            "text/plain": [
              "SVR(C=10, kernel='linear')"
            ],
            "text/html": [
              "<style>#sk-container-id-7 {color: black;background-color: white;}#sk-container-id-7 pre{padding: 0;}#sk-container-id-7 div.sk-toggleable {background-color: white;}#sk-container-id-7 label.sk-toggleable__label {cursor: pointer;display: block;width: 100%;margin-bottom: 0;padding: 0.3em;box-sizing: border-box;text-align: center;}#sk-container-id-7 label.sk-toggleable__label-arrow:before {content: \"▸\";float: left;margin-right: 0.25em;color: #696969;}#sk-container-id-7 label.sk-toggleable__label-arrow:hover:before {color: black;}#sk-container-id-7 div.sk-estimator:hover label.sk-toggleable__label-arrow:before {color: black;}#sk-container-id-7 div.sk-toggleable__content {max-height: 0;max-width: 0;overflow: hidden;text-align: left;background-color: #f0f8ff;}#sk-container-id-7 div.sk-toggleable__content pre {margin: 0.2em;color: black;border-radius: 0.25em;background-color: #f0f8ff;}#sk-container-id-7 input.sk-toggleable__control:checked~div.sk-toggleable__content {max-height: 200px;max-width: 100%;overflow: auto;}#sk-container-id-7 input.sk-toggleable__control:checked~label.sk-toggleable__label-arrow:before {content: \"▾\";}#sk-container-id-7 div.sk-estimator input.sk-toggleable__control:checked~label.sk-toggleable__label {background-color: #d4ebff;}#sk-container-id-7 div.sk-label input.sk-toggleable__control:checked~label.sk-toggleable__label {background-color: #d4ebff;}#sk-container-id-7 input.sk-hidden--visually {border: 0;clip: rect(1px 1px 1px 1px);clip: rect(1px, 1px, 1px, 1px);height: 1px;margin: -1px;overflow: hidden;padding: 0;position: absolute;width: 1px;}#sk-container-id-7 div.sk-estimator {font-family: monospace;background-color: #f0f8ff;border: 1px dotted black;border-radius: 0.25em;box-sizing: border-box;margin-bottom: 0.5em;}#sk-container-id-7 div.sk-estimator:hover {background-color: #d4ebff;}#sk-container-id-7 div.sk-parallel-item::after {content: \"\";width: 100%;border-bottom: 1px solid gray;flex-grow: 1;}#sk-container-id-7 div.sk-label:hover label.sk-toggleable__label {background-color: #d4ebff;}#sk-container-id-7 div.sk-serial::before {content: \"\";position: absolute;border-left: 1px solid gray;box-sizing: border-box;top: 0;bottom: 0;left: 50%;z-index: 0;}#sk-container-id-7 div.sk-serial {display: flex;flex-direction: column;align-items: center;background-color: white;padding-right: 0.2em;padding-left: 0.2em;position: relative;}#sk-container-id-7 div.sk-item {position: relative;z-index: 1;}#sk-container-id-7 div.sk-parallel {display: flex;align-items: stretch;justify-content: center;background-color: white;position: relative;}#sk-container-id-7 div.sk-item::before, #sk-container-id-7 div.sk-parallel-item::before {content: \"\";position: absolute;border-left: 1px solid gray;box-sizing: border-box;top: 0;bottom: 0;left: 50%;z-index: -1;}#sk-container-id-7 div.sk-parallel-item {display: flex;flex-direction: column;z-index: 1;position: relative;background-color: white;}#sk-container-id-7 div.sk-parallel-item:first-child::after {align-self: flex-end;width: 50%;}#sk-container-id-7 div.sk-parallel-item:last-child::after {align-self: flex-start;width: 50%;}#sk-container-id-7 div.sk-parallel-item:only-child::after {width: 0;}#sk-container-id-7 div.sk-dashed-wrapped {border: 1px dashed gray;margin: 0 0.4em 0.5em 0.4em;box-sizing: border-box;padding-bottom: 0.4em;background-color: white;}#sk-container-id-7 div.sk-label label {font-family: monospace;font-weight: bold;display: inline-block;line-height: 1.2em;}#sk-container-id-7 div.sk-label-container {text-align: center;}#sk-container-id-7 div.sk-container {/* jupyter's `normalize.less` sets `[hidden] { display: none; }` but bootstrap.min.css set `[hidden] { display: none !important; }` so we also need the `!important` here to be able to override the default hidden behavior on the sphinx rendered scikit-learn.org. See: https://github.com/scikit-learn/scikit-learn/issues/21755 */display: inline-block !important;position: relative;}#sk-container-id-7 div.sk-text-repr-fallback {display: none;}</style><div id=\"sk-container-id-7\" class=\"sk-top-container\"><div class=\"sk-text-repr-fallback\"><pre>SVR(C=10, kernel=&#x27;linear&#x27;)</pre><b>In a Jupyter environment, please rerun this cell to show the HTML representation or trust the notebook. <br />On GitHub, the HTML representation is unable to render, please try loading this page with nbviewer.org.</b></div><div class=\"sk-container\" hidden><div class=\"sk-item\"><div class=\"sk-estimator sk-toggleable\"><input class=\"sk-toggleable__control sk-hidden--visually\" id=\"sk-estimator-id-13\" type=\"checkbox\" checked><label for=\"sk-estimator-id-13\" class=\"sk-toggleable__label sk-toggleable__label-arrow\">SVR</label><div class=\"sk-toggleable__content\"><pre>SVR(C=10, kernel=&#x27;linear&#x27;)</pre></div></div></div></div></div>"
            ]
          },
          "metadata": {},
          "execution_count": 68
        }
      ],
      "source": [
        "#Importing the SVR from sklearn library\n",
        "from sklearn.svm import SVR\n",
        "\n",
        "# Creating the model\n",
        "linear_svm_model = SVR(kernel=\"linear\", C=10)\n",
        "\n",
        "# Training the model which is called fitting\n",
        "linear_svm_model.fit(X_train, y_train)"
      ]
    },
    {
      "cell_type": "code",
      "execution_count": null,
      "metadata": {
        "id": "mx8jt2HQf0sG"
      },
      "outputs": [],
      "source": [
        "# Predicting on the train, val and test set\n",
        "y_pred_train_linear_svm = linear_svm_model.predict(X_train)\n",
        "y_pred_val_linear_svm = linear_svm_model.predict(X_val)\n",
        "y_pred_test_linear_svm = linear_svm_model.predict(X_test)"
      ]
    },
    {
      "cell_type": "code",
      "execution_count": null,
      "metadata": {
        "id": "0jZfmUcCgGZh"
      },
      "outputs": [],
      "source": [
        "# Finding the Metrics of the model to know the performance.\n",
        "from sklearn.metrics import mean_squared_error, mean_absolute_error, r2_score\n",
        "mse_train_linear_svm = mean_squared_error(y_train, y_pred_train_linear_svm)\n",
        "mse_val_linear_svm = mean_squared_error(y_val, y_pred_val_linear_svm)\n",
        "mse_test_linear_svm = mean_squared_error(y_test, y_pred_test_linear_svm)\n",
        "\n",
        "r2_train_linear_svm = r2_score(y_train, y_pred_train_linear_svm)\n",
        "r2_val_linear_svm = r2_score(y_val, y_pred_val_linear_svm)\n",
        "r2_test_linear_svm = r2_score(y_test, y_pred_test_linear_svm)"
      ]
    },
    {
      "cell_type": "code",
      "execution_count": null,
      "metadata": {
        "colab": {
          "base_uri": "https://localhost:8080/"
        },
        "id": "xSDBK_HBg7cM",
        "outputId": "74aaddbf-d2fb-4872-9606-f38c8a6d821d"
      },
      "outputs": [
        {
          "output_type": "stream",
          "name": "stdout",
          "text": [
            "Training Set Mean Squared Error: 0.9710080752153212, R-squared: 0.028991924784678824\n",
            "Validation Set Mean Squared Error: 0.729983873117207, R-squared: 0.033605091722444524\n",
            "Test Set Mean Squared Error: 0.8168385372371866, R-squared: 0.040051274291056926\n"
          ]
        }
      ],
      "source": [
        "#Mean Squared Error and R^2 Score values\n",
        "print(f'Training Set Mean Squared Error: {mse_train_linear_svm}, R-squared: {r2_train_linear_svm}')\n",
        "print(f'Validation Set Mean Squared Error: {mse_val_linear_svm}, R-squared: {r2_val_linear_svm}')\n",
        "print(f'Test Set Mean Squared Error: {mse_test_linear_svm}, R-squared: {r2_test_linear_svm}')"
      ]
    },
    {
      "cell_type": "markdown",
      "metadata": {
        "id": "p3tJKjxOTnQB"
      },
      "source": [
        "### MSE measures the average squared difference between the predicted values and the actual values. Lower MSE values indicate better model performance. In this case, the Training Set MSE is lower than the Validation and Test Set MSE"
      ]
    },
    {
      "cell_type": "code",
      "execution_count": null,
      "metadata": {
        "colab": {
          "base_uri": "https://localhost:8080/",
          "height": 487
        },
        "id": "LzoToQOshPR3",
        "outputId": "ef8a053a-323e-4737-f650-ba57c33b746b"
      },
      "outputs": [
        {
          "output_type": "display_data",
          "data": {
            "text/plain": [
              "<Figure size 1000x500 with 1 Axes>"
            ],
            "image/png": "[encoded data removed]"
          },
          "metadata": {}
        }
      ],
      "source": [
        "# Plotting the evaluation metrics using plt library\n",
        "plt.figure(figsize=(10, 5))\n",
        "\n",
        "# Mean Squared Error (MSE)\n",
        "plt.scatter(y_test, y_pred_test_linear_svm, alpha=0.5, label='Actual vs Predicted')\n",
        "plt.plot([min(y_test), max(y_test)], [min(y_test), max(y_test)], 'k--', lw=2, label='Ideal Line')\n",
        "plt.title(f'MSE: {mse_test_linear_svm:.4f}')\n",
        "plt.xlabel('Actual')\n",
        "plt.ylabel('Predicted')\n",
        "plt.legend()\n",
        "plt.grid(True)\n",
        "plt.show()"
      ]
    },
    {
      "cell_type": "markdown",
      "metadata": {
        "id": "fEY-0ruliL-5"
      },
      "source": [
        "# Hyperparameter Tuning"
      ]
    },
    {
      "cell_type": "code",
      "execution_count": null,
      "metadata": {
        "id": "FItL8uMDhfUr"
      },
      "outputs": [],
      "source": [
        "from sklearn.model_selection import GridSearchCV\n",
        "\n",
        "gs = GridSearchCV(estimator = SVR(kernel=\"linear\"),\n",
        "                  param_grid = {'C': [0.001, 0.01, 0.1, 1, 10,100]},\n",
        "                                cv=5,\n",
        "                                scoring='neg_mean_squared_error'\n",
        "                                )"
      ]
    },
    {
      "cell_type": "markdown",
      "source": [
        "### Similarly as done in earlier cases the C value range is set and the scoring is default which is meqn squared error."
      ],
      "metadata": {
        "id": "mVCCug7sJQg3"
      }
    },
    {
      "cell_type": "code",
      "execution_count": null,
      "metadata": {
        "colab": {
          "base_uri": "https://localhost:8080/",
          "height": 119
        },
        "id": "UAq2Lecosp9v",
        "outputId": "0370d82f-17a0-4988-d748-87d9ba8fcbda"
      },
      "outputs": [
        {
          "output_type": "execute_result",
          "data": {
            "text/plain": [
              "GridSearchCV(cv=5, estimator=SVR(kernel='linear'),\n",
              "             param_grid={'C': [0.001, 0.01, 0.1, 1, 10, 100]},\n",
              "             scoring='neg_mean_squared_error')"
            ],
            "text/html": [
              "<style>#sk-container-id-8 {color: black;background-color: white;}#sk-container-id-8 pre{padding: 0;}#sk-container-id-8 div.sk-toggleable {background-color: white;}#sk-container-id-8 label.sk-toggleable__label {cursor: pointer;display: block;width: 100%;margin-bottom: 0;padding: 0.3em;box-sizing: border-box;text-align: center;}#sk-container-id-8 label.sk-toggleable__label-arrow:before {content: \"▸\";float: left;margin-right: 0.25em;color: #696969;}#sk-container-id-8 label.sk-toggleable__label-arrow:hover:before {color: black;}#sk-container-id-8 div.sk-estimator:hover label.sk-toggleable__label-arrow:before {color: black;}#sk-container-id-8 div.sk-toggleable__content {max-height: 0;max-width: 0;overflow: hidden;text-align: left;background-color: #f0f8ff;}#sk-container-id-8 div.sk-toggleable__content pre {margin: 0.2em;color: black;border-radius: 0.25em;background-color: #f0f8ff;}#sk-container-id-8 input.sk-toggleable__control:checked~div.sk-toggleable__content {max-height: 200px;max-width: 100%;overflow: auto;}#sk-container-id-8 input.sk-toggleable__control:checked~label.sk-toggleable__label-arrow:before {content: \"▾\";}#sk-container-id-8 div.sk-estimator input.sk-toggleable__control:checked~label.sk-toggleable__label {background-color: #d4ebff;}#sk-container-id-8 div.sk-label input.sk-toggleable__control:checked~label.sk-toggleable__label {background-color: #d4ebff;}#sk-container-id-8 input.sk-hidden--visually {border: 0;clip: rect(1px 1px 1px 1px);clip: rect(1px, 1px, 1px, 1px);height: 1px;margin: -1px;overflow: hidden;padding: 0;position: absolute;width: 1px;}#sk-container-id-8 div.sk-estimator {font-family: monospace;background-color: #f0f8ff;border: 1px dotted black;border-radius: 0.25em;box-sizing: border-box;margin-bottom: 0.5em;}#sk-container-id-8 div.sk-estimator:hover {background-color: #d4ebff;}#sk-container-id-8 div.sk-parallel-item::after {content: \"\";width: 100%;border-bottom: 1px solid gray;flex-grow: 1;}#sk-container-id-8 div.sk-label:hover label.sk-toggleable__label {background-color: #d4ebff;}#sk-container-id-8 div.sk-serial::before {content: \"\";position: absolute;border-left: 1px solid gray;box-sizing: border-box;top: 0;bottom: 0;left: 50%;z-index: 0;}#sk-container-id-8 div.sk-serial {display: flex;flex-direction: column;align-items: center;background-color: white;padding-right: 0.2em;padding-left: 0.2em;position: relative;}#sk-container-id-8 div.sk-item {position: relative;z-index: 1;}#sk-container-id-8 div.sk-parallel {display: flex;align-items: stretch;justify-content: center;background-color: white;position: relative;}#sk-container-id-8 div.sk-item::before, #sk-container-id-8 div.sk-parallel-item::before {content: \"\";position: absolute;border-left: 1px solid gray;box-sizing: border-box;top: 0;bottom: 0;left: 50%;z-index: -1;}#sk-container-id-8 div.sk-parallel-item {display: flex;flex-direction: column;z-index: 1;position: relative;background-color: white;}#sk-container-id-8 div.sk-parallel-item:first-child::after {align-self: flex-end;width: 50%;}#sk-container-id-8 div.sk-parallel-item:last-child::after {align-self: flex-start;width: 50%;}#sk-container-id-8 div.sk-parallel-item:only-child::after {width: 0;}#sk-container-id-8 div.sk-dashed-wrapped {border: 1px dashed gray;margin: 0 0.4em 0.5em 0.4em;box-sizing: border-box;padding-bottom: 0.4em;background-color: white;}#sk-container-id-8 div.sk-label label {font-family: monospace;font-weight: bold;display: inline-block;line-height: 1.2em;}#sk-container-id-8 div.sk-label-container {text-align: center;}#sk-container-id-8 div.sk-container {/* jupyter's `normalize.less` sets `[hidden] { display: none; }` but bootstrap.min.css set `[hidden] { display: none !important; }` so we also need the `!important` here to be able to override the default hidden behavior on the sphinx rendered scikit-learn.org. See: https://github.com/scikit-learn/scikit-learn/issues/21755 */display: inline-block !important;position: relative;}#sk-container-id-8 div.sk-text-repr-fallback {display: none;}</style><div id=\"sk-container-id-8\" class=\"sk-top-container\"><div class=\"sk-text-repr-fallback\"><pre>GridSearchCV(cv=5, estimator=SVR(kernel=&#x27;linear&#x27;),\n",
              "             param_grid={&#x27;C&#x27;: [0.001, 0.01, 0.1, 1, 10, 100]},\n",
              "             scoring=&#x27;neg_mean_squared_error&#x27;)</pre><b>In a Jupyter environment, please rerun this cell to show the HTML representation or trust the notebook. <br />On GitHub, the HTML representation is unable to render, please try loading this page with nbviewer.org.</b></div><div class=\"sk-container\" hidden><div class=\"sk-item sk-dashed-wrapped\"><div class=\"sk-label-container\"><div class=\"sk-label sk-toggleable\"><input class=\"sk-toggleable__control sk-hidden--visually\" id=\"sk-estimator-id-14\" type=\"checkbox\" ><label for=\"sk-estimator-id-14\" class=\"sk-toggleable__label sk-toggleable__label-arrow\">GridSearchCV</label><div class=\"sk-toggleable__content\"><pre>GridSearchCV(cv=5, estimator=SVR(kernel=&#x27;linear&#x27;),\n",
              "             param_grid={&#x27;C&#x27;: [0.001, 0.01, 0.1, 1, 10, 100]},\n",
              "             scoring=&#x27;neg_mean_squared_error&#x27;)</pre></div></div></div><div class=\"sk-parallel\"><div class=\"sk-parallel-item\"><div class=\"sk-item\"><div class=\"sk-label-container\"><div class=\"sk-label sk-toggleable\"><input class=\"sk-toggleable__control sk-hidden--visually\" id=\"sk-estimator-id-15\" type=\"checkbox\" ><label for=\"sk-estimator-id-15\" class=\"sk-toggleable__label sk-toggleable__label-arrow\">estimator: SVR</label><div class=\"sk-toggleable__content\"><pre>SVR(kernel=&#x27;linear&#x27;)</pre></div></div></div><div class=\"sk-serial\"><div class=\"sk-item\"><div class=\"sk-estimator sk-toggleable\"><input class=\"sk-toggleable__control sk-hidden--visually\" id=\"sk-estimator-id-16\" type=\"checkbox\" ><label for=\"sk-estimator-id-16\" class=\"sk-toggleable__label sk-toggleable__label-arrow\">SVR</label><div class=\"sk-toggleable__content\"><pre>SVR(kernel=&#x27;linear&#x27;)</pre></div></div></div></div></div></div></div></div></div></div>"
            ]
          },
          "metadata": {},
          "execution_count": 74
        }
      ],
      "source": [
        "# Fitting the model to the training data\n",
        "gs.fit(X_train, y_train_flat)"
      ]
    },
    {
      "cell_type": "code",
      "execution_count": null,
      "metadata": {
        "colab": {
          "base_uri": "https://localhost:8080/"
        },
        "id": "JhT71c-Is8lF",
        "outputId": "9aa1bbf7-92eb-4116-a2a6-b8ffc2bd6c07"
      },
      "outputs": [
        {
          "output_type": "execute_result",
          "data": {
            "text/plain": [
              "-0.9710064211976924"
            ]
          },
          "metadata": {},
          "execution_count": 75
        }
      ],
      "source": [
        "gs.best_score_"
      ]
    },
    {
      "cell_type": "code",
      "execution_count": null,
      "metadata": {
        "colab": {
          "base_uri": "https://localhost:8080/"
        },
        "id": "izdkUiyStPqp",
        "outputId": "d2e2b8b0-4643-40b2-ffda-5d27026d74bb"
      },
      "outputs": [
        {
          "output_type": "execute_result",
          "data": {
            "text/plain": [
              "{'C': 0.01}"
            ]
          },
          "metadata": {},
          "execution_count": 76
        }
      ],
      "source": [
        "gs.best_params_"
      ]
    },
    {
      "cell_type": "code",
      "execution_count": null,
      "metadata": {
        "colab": {
          "base_uri": "https://localhost:8080/"
        },
        "id": "kLA28yaRtRur",
        "outputId": "96af9210-c778-4835-8a90-32232a30b1c4"
      },
      "outputs": [
        {
          "output_type": "stream",
          "name": "stdout",
          "text": [
            "Best Hyperparameters: {'C': 0.01}\n"
          ]
        }
      ],
      "source": [
        "# Print the best hyperparameters\n",
        "print(\"Best Hyperparameters:\", gs.best_params_)"
      ]
    },
    {
      "cell_type": "code",
      "execution_count": null,
      "metadata": {
        "id": "WBN4qxQ3tXIL"
      },
      "outputs": [],
      "source": [
        "# Get the best model\n",
        "best_linear_svm = gs.best_estimator_"
      ]
    },
    {
      "cell_type": "code",
      "execution_count": null,
      "metadata": {
        "id": "U05-yV6RtXjc"
      },
      "outputs": [],
      "source": [
        "#Final Predictions\n",
        "y_pred = best_linear_svm.predict(X_test)"
      ]
    },
    {
      "cell_type": "code",
      "execution_count": null,
      "metadata": {
        "colab": {
          "base_uri": "https://localhost:8080/"
        },
        "id": "1-39oxb4tXl9",
        "outputId": "88180cd0-a6d6-44c5-ca62-fc4bbf4a227c"
      },
      "outputs": [
        {
          "output_type": "stream",
          "name": "stdout",
          "text": [
            "Mean Squared Error on Test Set: 0.8168184633093586\n",
            "R^2 Score on test Set: 0.04007486517292658\n"
          ]
        }
      ],
      "source": [
        "#Final Evaluation\n",
        "mse_linear_svm = mean_squared_error(y_test_flat, y_pred)\n",
        "print(\"Mean Squared Error on Test Set:\", mse_linear_svm)\n",
        "\n",
        "r2_linear_svm = r2_score(y_test_flat, y_pred)\n",
        "print(\"R^2 Score on test Set:\",r2_linear_svm)"
      ]
    },
    {
      "cell_type": "code",
      "execution_count": null,
      "metadata": {
        "id": "tDC-rixJu4JS",
        "colab": {
          "base_uri": "https://localhost:8080/",
          "height": 452
        },
        "outputId": "ec6fdce7-6644-4725-f06a-7f15c4895348"
      },
      "outputs": [
        {
          "output_type": "display_data",
          "data": {
            "text/plain": [
              "<Figure size 640x480 with 1 Axes>"
            ],
            "image/png": "[encoded data removed]"
          },
          "metadata": {}
        }
      ],
      "source": [
        "categories = ['Before Hyperparameter Tuning', 'After Hyperparameter Tuning']\n",
        "mse_values = [mse_test_linear_svm, mse_linear_svm]\n",
        "\n",
        "# Plotting the bar chart\n",
        "plt.bar(categories, mse_values, color=['blue', 'green'])\n",
        "plt.ylabel('Mean Squared Error')\n",
        "plt.title('MSE Comparison forSVM linear kernel')\n",
        "plt.ylim(0, max(mse_values) + 0.2)\n",
        "plt.show()"
      ]
    },
    {
      "cell_type": "markdown",
      "source": [],
      "metadata": {
        "id": "bG9QBbhXFk3n"
      }
    },
    {
      "cell_type": "markdown",
      "metadata": {
        "id": "455_bH_ztdIB"
      },
      "source": [
        "# SUPPORT VECTOR MACHINE With nonLinear Kernel = Gaussian RBF"
      ]
    },
    {
      "cell_type": "markdown",
      "metadata": {
        "id": "RnDLNxsXUDyg"
      },
      "source": [
        "### The kernel trick is a technique used in SVMs to implicitly map the input features into a higher-dimensional space without explicitly calculating the transformation. The Gaussian RBF kernel uses the radial basis function to measure the similarity between data points in this higher-dimensional space.\n",
        "\n",
        "### Complex patterns and nonlinear relationships between features can be captured using Support Vector Machine (SVM) regression with a nonlinear kernel."
      ]
    },
    {
      "cell_type": "code",
      "execution_count": null,
      "metadata": {
        "colab": {
          "base_uri": "https://localhost:8080/",
          "height": 110
        },
        "id": "qav-2uzKtjnI",
        "outputId": "4618f540-82f3-4655-8358-de058f126bcf"
      },
      "outputs": [
        {
          "output_type": "stream",
          "name": "stderr",
          "text": [
            "/usr/local/lib/python3.10/dist-packages/sklearn/utils/validation.py:1143: DataConversionWarning: A column-vector y was passed when a 1d array was expected. Please change the shape of y to (n_samples, ), for example using ravel().\n",
            "  y = column_or_1d(y, warn=True)\n"
          ]
        },
        {
          "output_type": "execute_result",
          "data": {
            "text/plain": [
              "SVR(gamma=1)"
            ],
            "text/html": [
              "<style>#sk-container-id-9 {color: black;background-color: white;}#sk-container-id-9 pre{padding: 0;}#sk-container-id-9 div.sk-toggleable {background-color: white;}#sk-container-id-9 label.sk-toggleable__label {cursor: pointer;display: block;width: 100%;margin-bottom: 0;padding: 0.3em;box-sizing: border-box;text-align: center;}#sk-container-id-9 label.sk-toggleable__label-arrow:before {content: \"▸\";float: left;margin-right: 0.25em;color: #696969;}#sk-container-id-9 label.sk-toggleable__label-arrow:hover:before {color: black;}#sk-container-id-9 div.sk-estimator:hover label.sk-toggleable__label-arrow:before {color: black;}#sk-container-id-9 div.sk-toggleable__content {max-height: 0;max-width: 0;overflow: hidden;text-align: left;background-color: #f0f8ff;}#sk-container-id-9 div.sk-toggleable__content pre {margin: 0.2em;color: black;border-radius: 0.25em;background-color: #f0f8ff;}#sk-container-id-9 input.sk-toggleable__control:checked~div.sk-toggleable__content {max-height: 200px;max-width: 100%;overflow: auto;}#sk-container-id-9 input.sk-toggleable__control:checked~label.sk-toggleable__label-arrow:before {content: \"▾\";}#sk-container-id-9 div.sk-estimator input.sk-toggleable__control:checked~label.sk-toggleable__label {background-color: #d4ebff;}#sk-container-id-9 div.sk-label input.sk-toggleable__control:checked~label.sk-toggleable__label {background-color: #d4ebff;}#sk-container-id-9 input.sk-hidden--visually {border: 0;clip: rect(1px 1px 1px 1px);clip: rect(1px, 1px, 1px, 1px);height: 1px;margin: -1px;overflow: hidden;padding: 0;position: absolute;width: 1px;}#sk-container-id-9 div.sk-estimator {font-family: monospace;background-color: #f0f8ff;border: 1px dotted black;border-radius: 0.25em;box-sizing: border-box;margin-bottom: 0.5em;}#sk-container-id-9 div.sk-estimator:hover {background-color: #d4ebff;}#sk-container-id-9 div.sk-parallel-item::after {content: \"\";width: 100%;border-bottom: 1px solid gray;flex-grow: 1;}#sk-container-id-9 div.sk-label:hover label.sk-toggleable__label {background-color: #d4ebff;}#sk-container-id-9 div.sk-serial::before {content: \"\";position: absolute;border-left: 1px solid gray;box-sizing: border-box;top: 0;bottom: 0;left: 50%;z-index: 0;}#sk-container-id-9 div.sk-serial {display: flex;flex-direction: column;align-items: center;background-color: white;padding-right: 0.2em;padding-left: 0.2em;position: relative;}#sk-container-id-9 div.sk-item {position: relative;z-index: 1;}#sk-container-id-9 div.sk-parallel {display: flex;align-items: stretch;justify-content: center;background-color: white;position: relative;}#sk-container-id-9 div.sk-item::before, #sk-container-id-9 div.sk-parallel-item::before {content: \"\";position: absolute;border-left: 1px solid gray;box-sizing: border-box;top: 0;bottom: 0;left: 50%;z-index: -1;}#sk-container-id-9 div.sk-parallel-item {display: flex;flex-direction: column;z-index: 1;position: relative;background-color: white;}#sk-container-id-9 div.sk-parallel-item:first-child::after {align-self: flex-end;width: 50%;}#sk-container-id-9 div.sk-parallel-item:last-child::after {align-self: flex-start;width: 50%;}#sk-container-id-9 div.sk-parallel-item:only-child::after {width: 0;}#sk-container-id-9 div.sk-dashed-wrapped {border: 1px dashed gray;margin: 0 0.4em 0.5em 0.4em;box-sizing: border-box;padding-bottom: 0.4em;background-color: white;}#sk-container-id-9 div.sk-label label {font-family: monospace;font-weight: bold;display: inline-block;line-height: 1.2em;}#sk-container-id-9 div.sk-label-container {text-align: center;}#sk-container-id-9 div.sk-container {/* jupyter's `normalize.less` sets `[hidden] { display: none; }` but bootstrap.min.css set `[hidden] { display: none !important; }` so we also need the `!important` here to be able to override the default hidden behavior on the sphinx rendered scikit-learn.org. See: https://github.com/scikit-learn/scikit-learn/issues/21755 */display: inline-block !important;position: relative;}#sk-container-id-9 div.sk-text-repr-fallback {display: none;}</style><div id=\"sk-container-id-9\" class=\"sk-top-container\"><div class=\"sk-text-repr-fallback\"><pre>SVR(gamma=1)</pre><b>In a Jupyter environment, please rerun this cell to show the HTML representation or trust the notebook. <br />On GitHub, the HTML representation is unable to render, please try loading this page with nbviewer.org.</b></div><div class=\"sk-container\" hidden><div class=\"sk-item\"><div class=\"sk-estimator sk-toggleable\"><input class=\"sk-toggleable__control sk-hidden--visually\" id=\"sk-estimator-id-17\" type=\"checkbox\" checked><label for=\"sk-estimator-id-17\" class=\"sk-toggleable__label sk-toggleable__label-arrow\">SVR</label><div class=\"sk-toggleable__content\"><pre>SVR(gamma=1)</pre></div></div></div></div></div>"
            ]
          },
          "metadata": {},
          "execution_count": 82
        }
      ],
      "source": [
        "#Importing the SVR from sklearn library\n",
        "from sklearn.svm import SVR\n",
        "\n",
        "# Creating the model\n",
        "nonlinear_svm_model = SVR(kernel=\"rbf\", gamma=1)\n",
        "\n",
        "# Training the model which is called fitting\n",
        "nonlinear_svm_model.fit(X_train, y_train)"
      ]
    },
    {
      "cell_type": "code",
      "execution_count": null,
      "metadata": {
        "id": "mnpcievRuyhN"
      },
      "outputs": [],
      "source": [
        "# Predicting on the train, val and test set\n",
        "y_pred_train_nonlinear_svm = nonlinear_svm_model.predict(X_train)\n",
        "y_pred_val_nonlinear_svm = nonlinear_svm_model.predict(X_val)\n",
        "y_pred_test_nonlinear_svm = nonlinear_svm_model.predict(X_test)"
      ]
    },
    {
      "cell_type": "code",
      "execution_count": null,
      "metadata": {
        "id": "IzyeDmW9u6VO"
      },
      "outputs": [],
      "source": [
        "# Finding the Metrics of the model to know the performance.\n",
        "from sklearn.metrics import mean_squared_error, mean_absolute_error, r2_score\n",
        "mse_train_nonlinear_svm = mean_squared_error(y_train, y_pred_train_nonlinear_svm)\n",
        "mse_val_nonlinear_svm = mean_squared_error(y_val, y_pred_val_nonlinear_svm)\n",
        "mse_test_nonlinear_svm = mean_squared_error(y_test, y_pred_test_nonlinear_svm)\n",
        "\n",
        "r2_train_nonlinear_svm = r2_score(y_train, y_pred_train_nonlinear_svm)\n",
        "r2_val_nonlinear_svm = r2_score(y_val, y_pred_val_nonlinear_svm)\n",
        "r2_test_nonlinear_svm = r2_score(y_test, y_pred_test_nonlinear_svm)"
      ]
    },
    {
      "cell_type": "code",
      "execution_count": null,
      "metadata": {
        "colab": {
          "base_uri": "https://localhost:8080/"
        },
        "id": "VIsrhQipu6Xq",
        "outputId": "a7786637-f517-4fa5-d99b-2f2e91170f8b"
      },
      "outputs": [
        {
          "output_type": "stream",
          "name": "stdout",
          "text": [
            "Training Set Mean Squared Error: 0.9524134851387455, R-squared: 0.047586514861254536\n",
            "Validation Set Mean Squared Error: 0.7224731728960402, R-squared: 0.04354819145194955\n",
            "Test Set Mean Squared Error: 0.7999616284907239, R-squared: 0.059885019035605724\n"
          ]
        }
      ],
      "source": [
        "#Mean Squared Error and R^2 Score values\n",
        "print(f'Training Set Mean Squared Error: {mse_train_nonlinear_svm}, R-squared: {r2_train_nonlinear_svm}')\n",
        "print(f'Validation Set Mean Squared Error: {mse_val_nonlinear_svm}, R-squared: {r2_val_nonlinear_svm}')\n",
        "print(f'Test Set Mean Squared Error: {mse_test_nonlinear_svm}, R-squared: {r2_test_nonlinear_svm}')"
      ]
    },
    {
      "cell_type": "code",
      "execution_count": null,
      "metadata": {
        "colab": {
          "base_uri": "https://localhost:8080/",
          "height": 487
        },
        "id": "vjZjGfzRu6Zv",
        "outputId": "37880d05-d09e-45da-8e2d-302e86c2700f"
      },
      "outputs": [
        {
          "output_type": "display_data",
          "data": {
            "text/plain": [
              "<Figure size 1000x500 with 1 Axes>"
            ],
            "image/png": "[encoded data removed]"
          },
          "metadata": {}
        }
      ],
      "source": [
        "# Plotting the evaluation metrics using plt library\n",
        "plt.figure(figsize=(10, 5))\n",
        "\n",
        "# Mean Squared Error (MSE)\n",
        "plt.scatter(y_test, y_pred_test_nonlinear_svm, alpha=0.5, label='Actual vs Predicted')\n",
        "plt.plot([min(y_test), max(y_test)], [min(y_test), max(y_test)], 'k--', lw=2, label='Ideal Line')\n",
        "plt.title(f'MSE: {mse_test_nonlinear_svm:.4f}')\n",
        "plt.xlabel('Actual')\n",
        "plt.ylabel('Predicted')\n",
        "plt.legend()\n",
        "plt.grid(True)\n",
        "plt.show()"
      ]
    },
    {
      "cell_type": "markdown",
      "metadata": {
        "id": "KbS2rYF-u-e1"
      },
      "source": [
        "# Hyperparameter Tuning"
      ]
    },
    {
      "cell_type": "code",
      "execution_count": null,
      "metadata": {
        "id": "EL4HXga0u-Og"
      },
      "outputs": [],
      "source": [
        "from sklearn.model_selection import GridSearchCV\n",
        "\n",
        "gs = GridSearchCV(estimator = SVR(kernel=\"rbf\"),\n",
        "                  param_grid = {'C': [ 0.01, 0.1, 1, 10],\n",
        "                                'gamma': [0.01, 0.1, 1, 10]},\n",
        "                                cv=5,\n",
        "                                scoring='neg_mean_squared_error'\n",
        "                                )"
      ]
    },
    {
      "cell_type": "code",
      "execution_count": null,
      "metadata": {
        "colab": {
          "base_uri": "https://localhost:8080/",
          "height": 119
        },
        "id": "Ggc3pNvevgT7",
        "outputId": "180827aa-d386-4bb6-aacd-59180bc6e27d"
      },
      "outputs": [
        {
          "output_type": "execute_result",
          "data": {
            "text/plain": [
              "GridSearchCV(cv=5, estimator=SVR(),\n",
              "             param_grid={'C': [0.01, 0.1, 1, 10], 'gamma': [0.01, 0.1, 1, 10]},\n",
              "             scoring='neg_mean_squared_error')"
            ],
            "text/html": [
              "<style>#sk-container-id-10 {color: black;background-color: white;}#sk-container-id-10 pre{padding: 0;}#sk-container-id-10 div.sk-toggleable {background-color: white;}#sk-container-id-10 label.sk-toggleable__label {cursor: pointer;display: block;width: 100%;margin-bottom: 0;padding: 0.3em;box-sizing: border-box;text-align: center;}#sk-container-id-10 label.sk-toggleable__label-arrow:before {content: \"▸\";float: left;margin-right: 0.25em;color: #696969;}#sk-container-id-10 label.sk-toggleable__label-arrow:hover:before {color: black;}#sk-container-id-10 div.sk-estimator:hover label.sk-toggleable__label-arrow:before {color: black;}#sk-container-id-10 div.sk-toggleable__content {max-height: 0;max-width: 0;overflow: hidden;text-align: left;background-color: #f0f8ff;}#sk-container-id-10 div.sk-toggleable__content pre {margin: 0.2em;color: black;border-radius: 0.25em;background-color: #f0f8ff;}#sk-container-id-10 input.sk-toggleable__control:checked~div.sk-toggleable__content {max-height: 200px;max-width: 100%;overflow: auto;}#sk-container-id-10 input.sk-toggleable__control:checked~label.sk-toggleable__label-arrow:before {content: \"▾\";}#sk-container-id-10 div.sk-estimator input.sk-toggleable__control:checked~label.sk-toggleable__label {background-color: #d4ebff;}#sk-container-id-10 div.sk-label input.sk-toggleable__control:checked~label.sk-toggleable__label {background-color: #d4ebff;}#sk-container-id-10 input.sk-hidden--visually {border: 0;clip: rect(1px 1px 1px 1px);clip: rect(1px, 1px, 1px, 1px);height: 1px;margin: -1px;overflow: hidden;padding: 0;position: absolute;width: 1px;}#sk-container-id-10 div.sk-estimator {font-family: monospace;background-color: #f0f8ff;border: 1px dotted black;border-radius: 0.25em;box-sizing: border-box;margin-bottom: 0.5em;}#sk-container-id-10 div.sk-estimator:hover {background-color: #d4ebff;}#sk-container-id-10 div.sk-parallel-item::after {content: \"\";width: 100%;border-bottom: 1px solid gray;flex-grow: 1;}#sk-container-id-10 div.sk-label:hover label.sk-toggleable__label {background-color: #d4ebff;}#sk-container-id-10 div.sk-serial::before {content: \"\";position: absolute;border-left: 1px solid gray;box-sizing: border-box;top: 0;bottom: 0;left: 50%;z-index: 0;}#sk-container-id-10 div.sk-serial {display: flex;flex-direction: column;align-items: center;background-color: white;padding-right: 0.2em;padding-left: 0.2em;position: relative;}#sk-container-id-10 div.sk-item {position: relative;z-index: 1;}#sk-container-id-10 div.sk-parallel {display: flex;align-items: stretch;justify-content: center;background-color: white;position: relative;}#sk-container-id-10 div.sk-item::before, #sk-container-id-10 div.sk-parallel-item::before {content: \"\";position: absolute;border-left: 1px solid gray;box-sizing: border-box;top: 0;bottom: 0;left: 50%;z-index: -1;}#sk-container-id-10 div.sk-parallel-item {display: flex;flex-direction: column;z-index: 1;position: relative;background-color: white;}#sk-container-id-10 div.sk-parallel-item:first-child::after {align-self: flex-end;width: 50%;}#sk-container-id-10 div.sk-parallel-item:last-child::after {align-self: flex-start;width: 50%;}#sk-container-id-10 div.sk-parallel-item:only-child::after {width: 0;}#sk-container-id-10 div.sk-dashed-wrapped {border: 1px dashed gray;margin: 0 0.4em 0.5em 0.4em;box-sizing: border-box;padding-bottom: 0.4em;background-color: white;}#sk-container-id-10 div.sk-label label {font-family: monospace;font-weight: bold;display: inline-block;line-height: 1.2em;}#sk-container-id-10 div.sk-label-container {text-align: center;}#sk-container-id-10 div.sk-container {/* jupyter's `normalize.less` sets `[hidden] { display: none; }` but bootstrap.min.css set `[hidden] { display: none !important; }` so we also need the `!important` here to be able to override the default hidden behavior on the sphinx rendered scikit-learn.org. See: https://github.com/scikit-learn/scikit-learn/issues/21755 */display: inline-block !important;position: relative;}#sk-container-id-10 div.sk-text-repr-fallback {display: none;}</style><div id=\"sk-container-id-10\" class=\"sk-top-container\"><div class=\"sk-text-repr-fallback\"><pre>GridSearchCV(cv=5, estimator=SVR(),\n",
              "             param_grid={&#x27;C&#x27;: [0.01, 0.1, 1, 10], &#x27;gamma&#x27;: [0.01, 0.1, 1, 10]},\n",
              "             scoring=&#x27;neg_mean_squared_error&#x27;)</pre><b>In a Jupyter environment, please rerun this cell to show the HTML representation or trust the notebook. <br />On GitHub, the HTML representation is unable to render, please try loading this page with nbviewer.org.</b></div><div class=\"sk-container\" hidden><div class=\"sk-item sk-dashed-wrapped\"><div class=\"sk-label-container\"><div class=\"sk-label sk-toggleable\"><input class=\"sk-toggleable__control sk-hidden--visually\" id=\"sk-estimator-id-18\" type=\"checkbox\" ><label for=\"sk-estimator-id-18\" class=\"sk-toggleable__label sk-toggleable__label-arrow\">GridSearchCV</label><div class=\"sk-toggleable__content\"><pre>GridSearchCV(cv=5, estimator=SVR(),\n",
              "             param_grid={&#x27;C&#x27;: [0.01, 0.1, 1, 10], &#x27;gamma&#x27;: [0.01, 0.1, 1, 10]},\n",
              "             scoring=&#x27;neg_mean_squared_error&#x27;)</pre></div></div></div><div class=\"sk-parallel\"><div class=\"sk-parallel-item\"><div class=\"sk-item\"><div class=\"sk-label-container\"><div class=\"sk-label sk-toggleable\"><input class=\"sk-toggleable__control sk-hidden--visually\" id=\"sk-estimator-id-19\" type=\"checkbox\" ><label for=\"sk-estimator-id-19\" class=\"sk-toggleable__label sk-toggleable__label-arrow\">estimator: SVR</label><div class=\"sk-toggleable__content\"><pre>SVR()</pre></div></div></div><div class=\"sk-serial\"><div class=\"sk-item\"><div class=\"sk-estimator sk-toggleable\"><input class=\"sk-toggleable__control sk-hidden--visually\" id=\"sk-estimator-id-20\" type=\"checkbox\" ><label for=\"sk-estimator-id-20\" class=\"sk-toggleable__label sk-toggleable__label-arrow\">SVR</label><div class=\"sk-toggleable__content\"><pre>SVR()</pre></div></div></div></div></div></div></div></div></div></div>"
            ]
          },
          "metadata": {},
          "execution_count": 88
        }
      ],
      "source": [
        "# Fitting the model to the training data\n",
        "gs.fit(X_train, y_train_flat)"
      ]
    },
    {
      "cell_type": "code",
      "execution_count": null,
      "metadata": {
        "colab": {
          "base_uri": "https://localhost:8080/"
        },
        "id": "YihGUoISvgWj",
        "outputId": "c83824e6-f733-4991-9332-55b91c430603"
      },
      "outputs": [
        {
          "output_type": "execute_result",
          "data": {
            "text/plain": [
              "-0.9529123046978105"
            ]
          },
          "metadata": {},
          "execution_count": 89
        }
      ],
      "source": [
        "gs.best_score_"
      ]
    },
    {
      "cell_type": "code",
      "execution_count": null,
      "metadata": {
        "colab": {
          "base_uri": "https://localhost:8080/"
        },
        "id": "x58FF88RvgYe",
        "outputId": "63237a05-5b40-4cb0-ca5e-bf6eb17b1a75"
      },
      "outputs": [
        {
          "output_type": "execute_result",
          "data": {
            "text/plain": [
              "{'C': 0.1, 'gamma': 10}"
            ]
          },
          "metadata": {},
          "execution_count": 90
        }
      ],
      "source": [
        "gs.best_params_"
      ]
    },
    {
      "cell_type": "code",
      "execution_count": null,
      "metadata": {
        "colab": {
          "base_uri": "https://localhost:8080/"
        },
        "id": "3cIq8XIqvgau",
        "outputId": "b053bffe-c598-4a0c-acb9-2ecde00196fc"
      },
      "outputs": [
        {
          "output_type": "stream",
          "name": "stdout",
          "text": [
            "Best Hyperparameters: {'C': 0.1, 'gamma': 10}\n"
          ]
        }
      ],
      "source": [
        "# Print the best hyperparameters\n",
        "print(\"Best Hyperparameters:\", gs.best_params_)"
      ]
    },
    {
      "cell_type": "code",
      "execution_count": null,
      "metadata": {
        "id": "AKwHjtnTvgjy"
      },
      "outputs": [],
      "source": [
        "# Get the best model\n",
        "best_nonlinear_svm = gs.best_estimator_"
      ]
    },
    {
      "cell_type": "code",
      "execution_count": null,
      "metadata": {
        "id": "ejsItO6Qvm79"
      },
      "outputs": [],
      "source": [
        "#Final Predictions\n",
        "y_pred = best_nonlinear_svm.predict(X_test)"
      ]
    },
    {
      "cell_type": "code",
      "execution_count": null,
      "metadata": {
        "colab": {
          "base_uri": "https://localhost:8080/"
        },
        "id": "joiX1YTyvm-0",
        "outputId": "70a16c1b-397d-414b-d246-e43d4a2eb1c3"
      },
      "outputs": [
        {
          "output_type": "stream",
          "name": "stdout",
          "text": [
            "Mean Squared Error on Test Set: 0.7896466954496314\n",
            "R^2 Score on test Set: 0.07200712931465902\n"
          ]
        }
      ],
      "source": [
        "#Final Evaluation\n",
        "mse_nonlinear_svm = mean_squared_error(y_test_flat, y_pred)\n",
        "print(\"Mean Squared Error on Test Set:\", mse_nonlinear_svm)\n",
        "\n",
        "r2_nonlinearsvm = r2_score(y_test_flat, y_pred)\n",
        "print(\"R^2 Score on test Set:\",r2_nonlinearsvm)"
      ]
    },
    {
      "cell_type": "code",
      "execution_count": null,
      "metadata": {
        "id": "cmSG7Y2vx1ut"
      },
      "outputs": [],
      "source": []
    },
    {
      "cell_type": "markdown",
      "metadata": {
        "id": "z91xoQQrx7rr"
      },
      "source": [
        "# GRADIENT BOOSTING"
      ]
    },
    {
      "cell_type": "markdown",
      "metadata": {
        "id": "DpauZTJ4XM9g"
      },
      "source": [
        "## To perform Sequential Training & to ensemble weak learners we adopted Gradient Boosting."
      ]
    },
    {
      "cell_type": "code",
      "execution_count": null,
      "metadata": {
        "colab": {
          "base_uri": "https://localhost:8080/",
          "height": 110
        },
        "id": "N1esH3Q2x-1v",
        "outputId": "13ca91eb-aa63-4092-8654-9ca422144751"
      },
      "outputs": [
        {
          "output_type": "stream",
          "name": "stderr",
          "text": [
            "/usr/local/lib/python3.10/dist-packages/sklearn/ensemble/_gb.py:437: DataConversionWarning: A column-vector y was passed when a 1d array was expected. Please change the shape of y to (n_samples, ), for example using ravel().\n",
            "  y = column_or_1d(y, warn=True)\n"
          ]
        },
        {
          "output_type": "execute_result",
          "data": {
            "text/plain": [
              "GradientBoostingRegressor(random_state=42)"
            ],
            "text/html": [
              "<style>#sk-container-id-11 {color: black;background-color: white;}#sk-container-id-11 pre{padding: 0;}#sk-container-id-11 div.sk-toggleable {background-color: white;}#sk-container-id-11 label.sk-toggleable__label {cursor: pointer;display: block;width: 100%;margin-bottom: 0;padding: 0.3em;box-sizing: border-box;text-align: center;}#sk-container-id-11 label.sk-toggleable__label-arrow:before {content: \"▸\";float: left;margin-right: 0.25em;color: #696969;}#sk-container-id-11 label.sk-toggleable__label-arrow:hover:before {color: black;}#sk-container-id-11 div.sk-estimator:hover label.sk-toggleable__label-arrow:before {color: black;}#sk-container-id-11 div.sk-toggleable__content {max-height: 0;max-width: 0;overflow: hidden;text-align: left;background-color: #f0f8ff;}#sk-container-id-11 div.sk-toggleable__content pre {margin: 0.2em;color: black;border-radius: 0.25em;background-color: #f0f8ff;}#sk-container-id-11 input.sk-toggleable__control:checked~div.sk-toggleable__content {max-height: 200px;max-width: 100%;overflow: auto;}#sk-container-id-11 input.sk-toggleable__control:checked~label.sk-toggleable__label-arrow:before {content: \"▾\";}#sk-container-id-11 div.sk-estimator input.sk-toggleable__control:checked~label.sk-toggleable__label {background-color: #d4ebff;}#sk-container-id-11 div.sk-label input.sk-toggleable__control:checked~label.sk-toggleable__label {background-color: #d4ebff;}#sk-container-id-11 input.sk-hidden--visually {border: 0;clip: rect(1px 1px 1px 1px);clip: rect(1px, 1px, 1px, 1px);height: 1px;margin: -1px;overflow: hidden;padding: 0;position: absolute;width: 1px;}#sk-container-id-11 div.sk-estimator {font-family: monospace;background-color: #f0f8ff;border: 1px dotted black;border-radius: 0.25em;box-sizing: border-box;margin-bottom: 0.5em;}#sk-container-id-11 div.sk-estimator:hover {background-color: #d4ebff;}#sk-container-id-11 div.sk-parallel-item::after {content: \"\";width: 100%;border-bottom: 1px solid gray;flex-grow: 1;}#sk-container-id-11 div.sk-label:hover label.sk-toggleable__label {background-color: #d4ebff;}#sk-container-id-11 div.sk-serial::before {content: \"\";position: absolute;border-left: 1px solid gray;box-sizing: border-box;top: 0;bottom: 0;left: 50%;z-index: 0;}#sk-container-id-11 div.sk-serial {display: flex;flex-direction: column;align-items: center;background-color: white;padding-right: 0.2em;padding-left: 0.2em;position: relative;}#sk-container-id-11 div.sk-item {position: relative;z-index: 1;}#sk-container-id-11 div.sk-parallel {display: flex;align-items: stretch;justify-content: center;background-color: white;position: relative;}#sk-container-id-11 div.sk-item::before, #sk-container-id-11 div.sk-parallel-item::before {content: \"\";position: absolute;border-left: 1px solid gray;box-sizing: border-box;top: 0;bottom: 0;left: 50%;z-index: -1;}#sk-container-id-11 div.sk-parallel-item {display: flex;flex-direction: column;z-index: 1;position: relative;background-color: white;}#sk-container-id-11 div.sk-parallel-item:first-child::after {align-self: flex-end;width: 50%;}#sk-container-id-11 div.sk-parallel-item:last-child::after {align-self: flex-start;width: 50%;}#sk-container-id-11 div.sk-parallel-item:only-child::after {width: 0;}#sk-container-id-11 div.sk-dashed-wrapped {border: 1px dashed gray;margin: 0 0.4em 0.5em 0.4em;box-sizing: border-box;padding-bottom: 0.4em;background-color: white;}#sk-container-id-11 div.sk-label label {font-family: monospace;font-weight: bold;display: inline-block;line-height: 1.2em;}#sk-container-id-11 div.sk-label-container {text-align: center;}#sk-container-id-11 div.sk-container {/* jupyter's `normalize.less` sets `[hidden] { display: none; }` but bootstrap.min.css set `[hidden] { display: none !important; }` so we also need the `!important` here to be able to override the default hidden behavior on the sphinx rendered scikit-learn.org. See: https://github.com/scikit-learn/scikit-learn/issues/21755 */display: inline-block !important;position: relative;}#sk-container-id-11 div.sk-text-repr-fallback {display: none;}</style><div id=\"sk-container-id-11\" class=\"sk-top-container\"><div class=\"sk-text-repr-fallback\"><pre>GradientBoostingRegressor(random_state=42)</pre><b>In a Jupyter environment, please rerun this cell to show the HTML representation or trust the notebook. <br />On GitHub, the HTML representation is unable to render, please try loading this page with nbviewer.org.</b></div><div class=\"sk-container\" hidden><div class=\"sk-item\"><div class=\"sk-estimator sk-toggleable\"><input class=\"sk-toggleable__control sk-hidden--visually\" id=\"sk-estimator-id-21\" type=\"checkbox\" checked><label for=\"sk-estimator-id-21\" class=\"sk-toggleable__label sk-toggleable__label-arrow\">GradientBoostingRegressor</label><div class=\"sk-toggleable__content\"><pre>GradientBoostingRegressor(random_state=42)</pre></div></div></div></div></div>"
            ]
          },
          "metadata": {},
          "execution_count": 95
        }
      ],
      "source": [
        "#Importing the ensemble GradientBoostingRegressor from sklearn library\n",
        "from sklearn.ensemble import GradientBoostingRegressor\n",
        "\n",
        "# Creating the model\n",
        "gradient_boosting_model = GradientBoostingRegressor(n_estimators=100, random_state=42)\n",
        "\n",
        "# Training the model which is called fitting\n",
        "gradient_boosting_model.fit(X_train, y_train)"
      ]
    },
    {
      "cell_type": "code",
      "execution_count": null,
      "metadata": {
        "id": "lIVijp1hyBX9"
      },
      "outputs": [],
      "source": [
        "# Predicting on the test set\n",
        "y_pred_gradient_boosting = gradient_boosting_model.predict(X_test)"
      ]
    },
    {
      "cell_type": "code",
      "execution_count": null,
      "metadata": {
        "id": "Yw68ecezyGbF"
      },
      "outputs": [],
      "source": [
        "# Finding the Metrics of the model to know the performance.\n",
        "from sklearn.metrics import mean_squared_error, mean_absolute_error, r2_score\n",
        "\n",
        "mse_gradient_boosting = mean_squared_error(y_test, y_pred_gradient_boosting)\n",
        "\n",
        "r2_gradient_boosting = r2_score(y_test, y_pred_gradient_boosting)"
      ]
    },
    {
      "cell_type": "code",
      "execution_count": null,
      "metadata": {
        "colab": {
          "base_uri": "https://localhost:8080/"
        },
        "id": "55wgUbkxyT9v",
        "outputId": "6997553d-9951-47cb-af6f-0ee95619116f"
      },
      "outputs": [
        {
          "output_type": "stream",
          "name": "stdout",
          "text": [
            "Test Set Mean Squared Error: 0.7452345202098671, R-squared: 0.12420032182927032\n"
          ]
        }
      ],
      "source": [
        "print(f'Test Set Mean Squared Error: {mse_gradient_boosting}, R-squared: {r2_gradient_boosting}')"
      ]
    },
    {
      "cell_type": "code",
      "execution_count": null,
      "metadata": {
        "colab": {
          "base_uri": "https://localhost:8080/",
          "height": 487
        },
        "id": "rNMZRIpEyUQ2",
        "outputId": "2d3ed2cc-0d05-48e3-c1c9-14aeda362697"
      },
      "outputs": [
        {
          "output_type": "display_data",
          "data": {
            "text/plain": [
              "<Figure size 1000x500 with 1 Axes>"
            ],
            "image/png": "[encoded data removed]"
          },
          "metadata": {}
        }
      ],
      "source": [
        "# Plotting the evaluation metrics using plt library\n",
        "plt.figure(figsize=(10, 5))\n",
        "\n",
        "# Mean Squared Error (MSE)\n",
        "plt.scatter(y_test, y_pred_gradient_boosting, alpha=0.5, label='Actual vs Predicted')\n",
        "plt.plot([min(y_test), max(y_test)], [min(y_test), max(y_test)], 'k--', lw=2, label='Ideal Line')\n",
        "plt.title(f'MSE: {mse_gradient_boosting:.4f}')\n",
        "plt.xlabel('Actual')\n",
        "plt.ylabel('Predicted')\n",
        "plt.legend()\n",
        "plt.grid(True)\n",
        "plt.show()"
      ]
    },
    {
      "cell_type": "markdown",
      "metadata": {
        "id": "sY2Lw-tLy-H_"
      },
      "source": [
        "# Hyperparameter Tuning"
      ]
    },
    {
      "cell_type": "code",
      "execution_count": null,
      "metadata": {
        "id": "uWznWt-Xyxim"
      },
      "outputs": [],
      "source": [
        "from sklearn.model_selection import GridSearchCV\n",
        "\n",
        "gs = GridSearchCV(estimator =  GradientBoostingRegressor(),\n",
        "                  param_grid = {\n",
        "                                'n_estimators': [50, 100, 200],\n",
        "                                'learning_rate': [0.01, 0.1, 0.2],},\n",
        "                                cv=5,\n",
        "                                scoring='neg_mean_squared_error'\n",
        "                                )"
      ]
    },
    {
      "cell_type": "code",
      "execution_count": null,
      "metadata": {
        "colab": {
          "base_uri": "https://localhost:8080/",
          "height": 119
        },
        "id": "qSFJwi90zZli",
        "outputId": "453bf5e1-3f16-461a-f61c-6387a462a521"
      },
      "outputs": [
        {
          "output_type": "execute_result",
          "data": {
            "text/plain": [
              "GridSearchCV(cv=5, estimator=GradientBoostingRegressor(),\n",
              "             param_grid={'learning_rate': [0.01, 0.1, 0.2],\n",
              "                         'n_estimators': [50, 100, 200]},\n",
              "             scoring='neg_mean_squared_error')"
            ],
            "text/html": [
              "<style>#sk-container-id-12 {color: black;background-color: white;}#sk-container-id-12 pre{padding: 0;}#sk-container-id-12 div.sk-toggleable {background-color: white;}#sk-container-id-12 label.sk-toggleable__label {cursor: pointer;display: block;width: 100%;margin-bottom: 0;padding: 0.3em;box-sizing: border-box;text-align: center;}#sk-container-id-12 label.sk-toggleable__label-arrow:before {content: \"▸\";float: left;margin-right: 0.25em;color: #696969;}#sk-container-id-12 label.sk-toggleable__label-arrow:hover:before {color: black;}#sk-container-id-12 div.sk-estimator:hover label.sk-toggleable__label-arrow:before {color: black;}#sk-container-id-12 div.sk-toggleable__content {max-height: 0;max-width: 0;overflow: hidden;text-align: left;background-color: #f0f8ff;}#sk-container-id-12 div.sk-toggleable__content pre {margin: 0.2em;color: black;border-radius: 0.25em;background-color: #f0f8ff;}#sk-container-id-12 input.sk-toggleable__control:checked~div.sk-toggleable__content {max-height: 200px;max-width: 100%;overflow: auto;}#sk-container-id-12 input.sk-toggleable__control:checked~label.sk-toggleable__label-arrow:before {content: \"▾\";}#sk-container-id-12 div.sk-estimator input.sk-toggleable__control:checked~label.sk-toggleable__label {background-color: #d4ebff;}#sk-container-id-12 div.sk-label input.sk-toggleable__control:checked~label.sk-toggleable__label {background-color: #d4ebff;}#sk-container-id-12 input.sk-hidden--visually {border: 0;clip: rect(1px 1px 1px 1px);clip: rect(1px, 1px, 1px, 1px);height: 1px;margin: -1px;overflow: hidden;padding: 0;position: absolute;width: 1px;}#sk-container-id-12 div.sk-estimator {font-family: monospace;background-color: #f0f8ff;border: 1px dotted black;border-radius: 0.25em;box-sizing: border-box;margin-bottom: 0.5em;}#sk-container-id-12 div.sk-estimator:hover {background-color: #d4ebff;}#sk-container-id-12 div.sk-parallel-item::after {content: \"\";width: 100%;border-bottom: 1px solid gray;flex-grow: 1;}#sk-container-id-12 div.sk-label:hover label.sk-toggleable__label {background-color: #d4ebff;}#sk-container-id-12 div.sk-serial::before {content: \"\";position: absolute;border-left: 1px solid gray;box-sizing: border-box;top: 0;bottom: 0;left: 50%;z-index: 0;}#sk-container-id-12 div.sk-serial {display: flex;flex-direction: column;align-items: center;background-color: white;padding-right: 0.2em;padding-left: 0.2em;position: relative;}#sk-container-id-12 div.sk-item {position: relative;z-index: 1;}#sk-container-id-12 div.sk-parallel {display: flex;align-items: stretch;justify-content: center;background-color: white;position: relative;}#sk-container-id-12 div.sk-item::before, #sk-container-id-12 div.sk-parallel-item::before {content: \"\";position: absolute;border-left: 1px solid gray;box-sizing: border-box;top: 0;bottom: 0;left: 50%;z-index: -1;}#sk-container-id-12 div.sk-parallel-item {display: flex;flex-direction: column;z-index: 1;position: relative;background-color: white;}#sk-container-id-12 div.sk-parallel-item:first-child::after {align-self: flex-end;width: 50%;}#sk-container-id-12 div.sk-parallel-item:last-child::after {align-self: flex-start;width: 50%;}#sk-container-id-12 div.sk-parallel-item:only-child::after {width: 0;}#sk-container-id-12 div.sk-dashed-wrapped {border: 1px dashed gray;margin: 0 0.4em 0.5em 0.4em;box-sizing: border-box;padding-bottom: 0.4em;background-color: white;}#sk-container-id-12 div.sk-label label {font-family: monospace;font-weight: bold;display: inline-block;line-height: 1.2em;}#sk-container-id-12 div.sk-label-container {text-align: center;}#sk-container-id-12 div.sk-container {/* jupyter's `normalize.less` sets `[hidden] { display: none; }` but bootstrap.min.css set `[hidden] { display: none !important; }` so we also need the `!important` here to be able to override the default hidden behavior on the sphinx rendered scikit-learn.org. See: https://github.com/scikit-learn/scikit-learn/issues/21755 */display: inline-block !important;position: relative;}#sk-container-id-12 div.sk-text-repr-fallback {display: none;}</style><div id=\"sk-container-id-12\" class=\"sk-top-container\"><div class=\"sk-text-repr-fallback\"><pre>GridSearchCV(cv=5, estimator=GradientBoostingRegressor(),\n",
              "             param_grid={&#x27;learning_rate&#x27;: [0.01, 0.1, 0.2],\n",
              "                         &#x27;n_estimators&#x27;: [50, 100, 200]},\n",
              "             scoring=&#x27;neg_mean_squared_error&#x27;)</pre><b>In a Jupyter environment, please rerun this cell to show the HTML representation or trust the notebook. <br />On GitHub, the HTML representation is unable to render, please try loading this page with nbviewer.org.</b></div><div class=\"sk-container\" hidden><div class=\"sk-item sk-dashed-wrapped\"><div class=\"sk-label-container\"><div class=\"sk-label sk-toggleable\"><input class=\"sk-toggleable__control sk-hidden--visually\" id=\"sk-estimator-id-22\" type=\"checkbox\" ><label for=\"sk-estimator-id-22\" class=\"sk-toggleable__label sk-toggleable__label-arrow\">GridSearchCV</label><div class=\"sk-toggleable__content\"><pre>GridSearchCV(cv=5, estimator=GradientBoostingRegressor(),\n",
              "             param_grid={&#x27;learning_rate&#x27;: [0.01, 0.1, 0.2],\n",
              "                         &#x27;n_estimators&#x27;: [50, 100, 200]},\n",
              "             scoring=&#x27;neg_mean_squared_error&#x27;)</pre></div></div></div><div class=\"sk-parallel\"><div class=\"sk-parallel-item\"><div class=\"sk-item\"><div class=\"sk-label-container\"><div class=\"sk-label sk-toggleable\"><input class=\"sk-toggleable__control sk-hidden--visually\" id=\"sk-estimator-id-23\" type=\"checkbox\" ><label for=\"sk-estimator-id-23\" class=\"sk-toggleable__label sk-toggleable__label-arrow\">estimator: GradientBoostingRegressor</label><div class=\"sk-toggleable__content\"><pre>GradientBoostingRegressor()</pre></div></div></div><div class=\"sk-serial\"><div class=\"sk-item\"><div class=\"sk-estimator sk-toggleable\"><input class=\"sk-toggleable__control sk-hidden--visually\" id=\"sk-estimator-id-24\" type=\"checkbox\" ><label for=\"sk-estimator-id-24\" class=\"sk-toggleable__label sk-toggleable__label-arrow\">GradientBoostingRegressor</label><div class=\"sk-toggleable__content\"><pre>GradientBoostingRegressor()</pre></div></div></div></div></div></div></div></div></div></div>"
            ]
          },
          "metadata": {},
          "execution_count": 101
        }
      ],
      "source": [
        "# Fitting the model to the training data\n",
        "gs.fit(X_train, y_train_flat)"
      ]
    },
    {
      "cell_type": "code",
      "execution_count": null,
      "metadata": {
        "colab": {
          "base_uri": "https://localhost:8080/"
        },
        "id": "ktR-7WCozoJt",
        "outputId": "c09c9703-9180-4074-9e13-5bf37c360114"
      },
      "outputs": [
        {
          "output_type": "execute_result",
          "data": {
            "text/plain": [
              "-0.9135105607418353"
            ]
          },
          "metadata": {},
          "execution_count": 102
        }
      ],
      "source": [
        "gs.best_score_"
      ]
    },
    {
      "cell_type": "code",
      "execution_count": null,
      "metadata": {
        "colab": {
          "base_uri": "https://localhost:8080/"
        },
        "id": "aZ-X7SoQzsvq",
        "outputId": "ab68353c-7130-44fd-f027-ab5e3a34ff4f"
      },
      "outputs": [
        {
          "output_type": "execute_result",
          "data": {
            "text/plain": [
              "{'learning_rate': 0.2, 'n_estimators': 50}"
            ]
          },
          "metadata": {},
          "execution_count": 103
        }
      ],
      "source": [
        "gs.best_params_"
      ]
    },
    {
      "cell_type": "code",
      "execution_count": null,
      "metadata": {
        "colab": {
          "base_uri": "https://localhost:8080/"
        },
        "id": "-O0fFSz0zuWo",
        "outputId": "6609320c-7f0d-4c31-beb4-8559c63d0771"
      },
      "outputs": [
        {
          "output_type": "stream",
          "name": "stdout",
          "text": [
            "Best Hyperparameters: {'learning_rate': 0.2, 'n_estimators': 50}\n"
          ]
        }
      ],
      "source": [
        "# Print the best hyperparameters\n",
        "print(\"Best Hyperparameters:\", gs.best_params_)"
      ]
    },
    {
      "cell_type": "code",
      "execution_count": null,
      "metadata": {
        "id": "M6w65IFazuZl"
      },
      "outputs": [],
      "source": [
        "# Get the best model\n",
        "best_gb = gs.best_estimator_"
      ]
    },
    {
      "cell_type": "code",
      "execution_count": null,
      "metadata": {
        "id": "ECWRQ-MWzufk"
      },
      "outputs": [],
      "source": [
        "#Final Predictions\n",
        "y_pred = best_gb.predict(X_test)"
      ]
    },
    {
      "cell_type": "code",
      "execution_count": null,
      "metadata": {
        "colab": {
          "base_uri": "https://localhost:8080/"
        },
        "id": "G08xbe8Pz1LD",
        "outputId": "b8beb2b7-c6f4-4d9b-d85d-22aa5ba3cd66"
      },
      "outputs": [
        {
          "output_type": "stream",
          "name": "stdout",
          "text": [
            "Mean Squared Error on Test Set: 0.7455631440272172\n",
            "R^2 Score on test Set: 0.12381412308824391\n"
          ]
        }
      ],
      "source": [
        "#Final Evaluation\n",
        "mse_gb = mean_squared_error(y_test_flat, y_pred)\n",
        "print(\"Mean Squared Error on Test Set:\", mse_gb)\n",
        "\n",
        "r2_gb = r2_score(y_test_flat, y_pred)\n",
        "print(\"R^2 Score on test Set:\",r2_gb)"
      ]
    },
    {
      "cell_type": "markdown",
      "metadata": {
        "id": "3pq9n-_h1V03"
      },
      "source": [
        "#MSE Values before Hyperparameter Tuning"
      ]
    },
    {
      "cell_type": "code",
      "execution_count": null,
      "metadata": {
        "colab": {
          "base_uri": "https://localhost:8080/",
          "height": 564
        },
        "id": "KpMCZT0Q1V-k",
        "outputId": "cac3c666-db84-43d3-c651-d005409fcc3d"
      },
      "outputs": [
        {
          "output_type": "display_data",
          "data": {
            "text/plain": [
              "<Figure size 1000x600 with 1 Axes>"
            ],
            "image/png": "[encoded data removed]"
          },
          "metadata": {}
        }
      ],
      "source": [
        "#List of all the models we have created\n",
        "model_names = ['Linear_reg', 'KNN', 'Random_Forest', 'Linear SVM', 'Nonlinear SVM', 'Gradient Boosting']\n",
        "mse_values = [mse_test_linear_reg, mse_test_knn, mse_test_random_forest, mse_test_linear_svm,mse_test_nonlinear_svm, mse_gradient_boosting]\n",
        "\n",
        "# Bar plot\n",
        "plt.figure(figsize=(10, 6))\n",
        "plt.bar(model_names, mse_values, color=['blue', 'orange', 'green', 'red', 'cyan', 'black'])\n",
        "plt.xlabel('Models')\n",
        "plt.ylabel('Mean Squared Error (MSE)')\n",
        "plt.title('MSE Comparison of Different Models')\n",
        "plt.ylim(0, max(mse_values) + 0.2)\n",
        "plt.show()"
      ]
    },
    {
      "cell_type": "markdown",
      "source": [
        "### The presented bar plot showcases the Mean Squared Error (MSE) results for models built on the test data. Notably, the Random Forest model demonstrates the lowest MSE among all considered models, indicating superior predictive accuracy. This robust performance can be attributed to the model's unique strength in random subset feature selection, allowing it to extract optimal predictive insights from the dataset. The effectiveness of Random Forest in minimizing MSE underscores its capability to provide accurate predictions and highlights its suitability for the inherent complexities of our dataset."
      ],
      "metadata": {
        "id": "aN6fkZPx0SLi"
      }
    },
    {
      "cell_type": "markdown",
      "metadata": {
        "id": "iEIBM6-716Id"
      },
      "source": [
        "#MSE Values after Hyperparameter Tuning"
      ]
    },
    {
      "cell_type": "code",
      "execution_count": null,
      "metadata": {
        "colab": {
          "base_uri": "https://localhost:8080/",
          "height": 564
        },
        "id": "WSGfIct91WBo",
        "outputId": "30d10954-c4bd-478a-c13f-84d59f7bd044"
      },
      "outputs": [
        {
          "output_type": "display_data",
          "data": {
            "text/plain": [
              "<Figure size 1000x600 with 1 Axes>"
            ],
            "image/png": "[encoded data removed]"
          },
          "metadata": {}
        }
      ],
      "source": [
        "#List of all the models we have created\n",
        "model_names = ['Linear_reg', 'KNN', 'Random_Forest', 'Linear SVM', 'Nonlinear SVM', 'Gradient Boosting']\n",
        "mse_values = [mse_test_linear_reg, mse_knn, mse_rf, mse_linear_svm,mse_nonlinear_svm, mse_gb]\n",
        "\n",
        "# Bar plot\n",
        "plt.figure(figsize=(10, 6))\n",
        "plt.bar(model_names, mse_values, color=['blue', 'orange', 'green', 'red', 'cyan', 'black'])\n",
        "plt.xlabel('Models')\n",
        "plt.ylabel('Mean Squared Error (MSE)')\n",
        "plt.title('MSE Comparison of Different Models')\n",
        "plt.ylim(0, max(mse_values) + 0.2)\n",
        "plt.show()"
      ]
    },
    {
      "cell_type": "markdown",
      "source": [
        "##  The above bar plot is the (MSE) values of the models after hyperparametr tuning. It is clearly visible that there is drop in (MSE) values compared to before hyperparameter tuning. This is the reason hyperparameter tuning is important to get the best performance of the models. You can change the range of values in the parameter grids to get the best performance of the respective model. Parameter range affects the computational cost."
      ],
      "metadata": {
        "id": "OOYII11sS82F"
      }
    },
    {
      "cell_type": "code",
      "execution_count": null,
      "metadata": {
        "id": "z9_JUBqS4ir1"
      },
      "outputs": [],
      "source": []
    }
  ],
  "metadata": {
    "colab": {
      "provenance": [],
      "include_colab_link": true
    },
    "kernelspec": {
      "display_name": "Python 3",
      "name": "python3"
    },
    "language_info": {
      "name": "python"
    }
  },
  "nbformat": 4,
  "nbformat_minor": 0
}